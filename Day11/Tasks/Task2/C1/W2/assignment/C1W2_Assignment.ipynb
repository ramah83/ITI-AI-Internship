{
 "cells": [
  {
   "cell_type": "markdown",
   "id": "0cd4e6c6",
   "metadata": {},
   "source": [
    "<div style=\"text-align: center;\">\n",
    "    <h1 style=\"\n",
    "        background: linear-gradient(135deg, #001127ff, #003984ff);\n",
    "        color: white; \n",
    "        padding: 15px 30px; \n",
    "        border-radius: 500px; \n",
    "        font-family: 'Segoe UI', Arial, sans-serif; \n",
    "        box-shadow: 0 4px 15px rgba(0,0,0,0.3);\n",
    "        display: inline-block;\n",
    "    \">\n",
    "       W2 C1 Day 20/8\n",
    "    </h1>\n",
    "</div>\n"
   ]
  },
  {
   "cell_type": "markdown",
   "id": "81ed22cc",
   "metadata": {},
   "source": [
    "<h4 style=\"color:#0E78FE\">1. Importing OS, Base64, TensorFlow, Matplotlib, and Random Libraries</h4>"
   ]
  },
  {
   "cell_type": "code",
   "execution_count": 28,
   "id": "5704f2d0",
   "metadata": {},
   "outputs": [],
   "source": [
    "import os\n",
    "import base64\n",
    "import tensorflow as tf\n",
    "import matplotlib.pyplot as plt\n",
    "import random"
   ]
  },
  {
   "cell_type": "markdown",
   "id": "8d95c424",
   "metadata": {},
   "source": [
    "<h4 style=\"color:#0E78FE\">2. Loading and Displaying Information About the MNIST Dataset</h4>"
   ]
  },
  {
   "cell_type": "code",
   "execution_count": 19,
   "id": "8c133847",
   "metadata": {},
   "outputs": [
    {
     "name": "stdout",
     "output_type": "stream",
     "text": [
      "training_images is of type <class 'numpy.ndarray'>.\n",
      "training_labels is of type <class 'numpy.ndarray'>\n",
      "\n",
      "There are 60000 examples with shape (28, 28)\n"
     ]
    }
   ],
   "source": [
    "current_dir = os.getcwd()\n",
    "data_path = os.path.join(current_dir, \"data/mnist.npz\")\n",
    "(training_images, training_labels), (testing_images, testing_labels) = tf.keras.datasets.mnist.load_data()\n",
    "\n",
    "print(f\"training_images is of type {type(training_images)}.\\ntraining_labels is of type {type(training_labels)}\\n\")\n",
    "\n",
    "data_shape = training_images.shape\n",
    "\n",
    "print(f\"There are {data_shape[0]} examples with shape ({data_shape[1]}, {data_shape[2]})\")"
   ]
  },
  {
   "cell_type": "markdown",
   "id": "53ca1f8d",
   "metadata": {},
   "source": [
    "<h4 style=\"color:#0E78FE\">3. Normalizing Training Images to Range [0,1]</h4>"
   ]
  },
  {
   "cell_type": "code",
   "execution_count": 20,
   "id": "195ca8c3",
   "metadata": {},
   "outputs": [],
   "source": [
    "training_images = training_images / 255.0"
   ]
  },
  {
   "cell_type": "markdown",
   "id": "d1835948",
   "metadata": {},
   "source": [
    "<h4 style=\"color:#0E78FE\">4. Creating and Compiling a Neural Network Model for MNIST Classification</h4>"
   ]
  },
  {
   "cell_type": "code",
   "execution_count": 21,
   "id": "687d2844",
   "metadata": {},
   "outputs": [],
   "source": [
    "def create_and_compile_model():\n",
    "    model = tf.keras.models.Sequential([tf.keras.layers.Flatten(input_shape=(28, 28)),tf.keras.layers.Dense(128, activation='relu'),\n",
    "tf.keras.layers.Dense(10, activation='softmax')])\n",
    "    model.compile(optimizer='adam',loss='sparse_categorical_crossentropy',metrics=['accuracy'])\n",
    "    return model"
   ]
  },
  {
   "cell_type": "markdown",
   "id": "d88fa00e",
   "metadata": {},
   "source": [
    "<h4 style=\"color:#0E78FE\">5. Initializing an Untrained MNIST Classification Model</h4>"
   ]
  },
  {
   "cell_type": "code",
   "execution_count": 22,
   "id": "3133f3d1",
   "metadata": {},
   "outputs": [],
   "source": [
    "untrained_model = create_and_compile_model()\n"
   ]
  },
  {
   "cell_type": "markdown",
   "id": "1ae63cf9",
   "metadata": {},
   "source": [
    "<h4 style=\"color:#0E78FE\">6. Generating Predictions with the Untrained Model and Checking Output Shape</h4>"
   ]
  },
  {
   "cell_type": "code",
   "execution_count": 23,
   "id": "cd828805",
   "metadata": {},
   "outputs": [
    {
     "name": "stdout",
     "output_type": "stream",
     "text": [
      "predictions have shape: (5, 10)\n"
     ]
    }
   ],
   "source": [
    "predictions = untrained_model.predict(training_images[:5], verbose=False)\n",
    "print(f\"predictions have shape: {predictions.shape}\")"
   ]
  },
  {
   "cell_type": "markdown",
   "id": "ee0e3f80",
   "metadata": {},
   "source": [
    "<h4 style=\"color:#0E78FE\">7. Defining a Custom EarlyStopping Callback to Halt Training at 98% Accuracy</h4>"
   ]
  },
  {
   "cell_type": "code",
   "execution_count": 24,
   "id": "7aa35dae",
   "metadata": {},
   "outputs": [],
   "source": [
    "class EarlyStoppingCallback(tf.keras.callbacks.Callback):\n",
    "    def on_epoch_end(self, epoch, logs=None):\n",
    "        if logs.get('accuracy') >= 0.98:\n",
    "            self.model.stop_training = True\n",
    "            print(\"\\nReached 98% accuracy so cancelling training!\")"
   ]
  },
  {
   "cell_type": "markdown",
   "id": "2cacb63d",
   "metadata": {},
   "source": [
    "<h4 style=\"color:#0E78FE\">8. Training the MNIST Model with EarlyStopping Callback</h4>"
   ]
  },
  {
   "cell_type": "code",
   "execution_count": 25,
   "id": "cca0eecc",
   "metadata": {},
   "outputs": [
    {
     "name": "stdout",
     "output_type": "stream",
     "text": [
      "Epoch 1/10\n",
      "\u001b[1m1875/1875\u001b[0m \u001b[32m━━━━━━━━━━━━━━━━━━━━\u001b[0m\u001b[37m\u001b[0m \u001b[1m3s\u001b[0m 1ms/step - accuracy: 0.9276 - loss: 0.2546\n",
      "Epoch 2/10\n",
      "\u001b[1m1875/1875\u001b[0m \u001b[32m━━━━━━━━━━━━━━━━━━━━\u001b[0m\u001b[37m\u001b[0m \u001b[1m3s\u001b[0m 1ms/step - accuracy: 0.9675 - loss: 0.1109\n",
      "Epoch 3/10\n",
      "\u001b[1m1875/1875\u001b[0m \u001b[32m━━━━━━━━━━━━━━━━━━━━\u001b[0m\u001b[37m\u001b[0m \u001b[1m2s\u001b[0m 1ms/step - accuracy: 0.9768 - loss: 0.0764\n",
      "Epoch 4/10\n",
      "\u001b[1m1866/1875\u001b[0m \u001b[32m━━━━━━━━━━━━━━━━━━━\u001b[0m\u001b[37m━\u001b[0m \u001b[1m0s\u001b[0m 1ms/step - accuracy: 0.9830 - loss: 0.0566\n",
      "Reached 98% accuracy so cancelling training!\n",
      "\u001b[1m1875/1875\u001b[0m \u001b[32m━━━━━━━━━━━━━━━━━━━━\u001b[0m\u001b[37m\u001b[0m \u001b[1m2s\u001b[0m 1ms/step - accuracy: 0.9825 - loss: 0.0579\n"
     ]
    }
   ],
   "source": [
    "def train_mnist(training_images, training_labels):\n",
    "    model = create_and_compile_model()\n",
    "    history = model.fit(training_images, training_labels, epochs=10, callbacks=[EarlyStoppingCallback()], verbose=1)\n",
    "    return history\n",
    "training_history = train_mnist(training_images, training_labels)\n",
    "\n"
   ]
  },
  {
   "cell_type": "markdown",
   "id": "c6fcf687",
   "metadata": {},
   "source": [
    "<h4 style=\"color:#0E78FE\">9. Decoding and Printing a Base64-Encoded Answer</h4>"
   ]
  },
  {
   "cell_type": "code",
   "execution_count": 26,
   "id": "8df69aee",
   "metadata": {},
   "outputs": [
    {
     "name": "stdout",
     "output_type": "stream",
     "text": [
      "\n",
      "   - A tf.keras.Input with the same shape as the images\n",
      "   - A Flatten layer\n",
      "   - A Dense layer with 512 units and ReLU activation function\n",
      "   - A Dense layer with 10 units and softmax activation function\n",
      "\n"
     ]
    }
   ],
   "source": [
    "encoded_answer = \"CiAgIC0gQSB0Zi5rZXJhcy5JbnB1dCB3aXRoIHRoZSBzYW1lIHNoYXBlIGFzIHRoZSBpbWFnZXMKICAgLSBBIEZsYXR0ZW4gbGF5ZXIKICAgLSBBIERlbnNlIGxheWVyIHdpdGggNTEyIHVuaXRzIGFuZCBSZUxVIGFjdGl2YXRpb24gZnVuY3Rpb24KICAgLSBBIERlbnNlIGxheWVyIHdpdGggMTAgdW5pdHMgYW5kIHNvZnRtYXggYWN0aXZhdGlvbiBmdW5jdGlvbgo==\"\n",
    "encoded_answer = encoded_answer.encode('ascii')\n",
    "answer = base64.b64decode(encoded_answer)\n",
    "answer = answer.decode('ascii')\n",
    "\n",
    "print(answer)"
   ]
  },
  {
   "cell_type": "markdown",
   "id": "da674dee",
   "metadata": {},
   "source": [
    "<h4 style=\"color:#0E78FE\">10. Displaying a Random Training Image from the MNIST Dataset with Its Label</h4>"
   ]
  },
  {
   "cell_type": "code",
   "execution_count": 29,
   "id": "9de823ad",
   "metadata": {},
   "outputs": [
    {
     "data": {
      "image/png": "[encoded data removed]",
      "text/plain": [
       "<Figure size 640x480 with 1 Axes>"
      ]
     },
     "metadata": {},
     "output_type": "display_data"
    }
   ],
   "source": [
    "idx = random.randint(0, len(training_images)-1)\n",
    "plt.imshow(training_images[idx], cmap=\"gray\")\n",
    "plt.title(f\"Label: {training_labels[idx]}\")\n",
    "plt.axis(\"off\")\n",
    "plt.show()"
   ]
  }
 ],
 "metadata": {
  "kernelspec": {
   "display_name": "base",
   "language": "python",
   "name": "python3"
  },
  "language_info": {
   "codemirror_mode": {
    "name": "ipython",
    "version": 3
   },
   "file_extension": ".py",
   "mimetype": "text/x-python",
   "name": "python",
   "nbconvert_exporter": "python",
   "pygments_lexer": "ipython3",
   "version": "3.13.5"
  }
 },
 "nbformat": 4,
 "nbformat_minor": 5
}
