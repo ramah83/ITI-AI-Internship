{
  "cells": [
    {
      "cell_type": "code",
      "execution_count": null,
      "metadata": {
        "id": "S2YUbAm3oiyw"
      },
      "outputs": [],
      "source": [
        "from tensorflow.keras.datasets import cifar10\n",
        "from tensorflow.keras.utils import to_categorical\n",
        "from tensorflow.keras import datasets, layers, models\n",
        "import numpy as np"
      ]
    },
    {
      "cell_type": "code",
      "execution_count": null,
      "metadata": {},
      "outputs": [],
      "source": [
        "from tensorflow import keras\n",
        "\n",
        "model_loaded = keras.models.load_model('cnn_model.h5')"
      ]
    },
    {
      "cell_type": "code",
      "execution_count": null,
      "metadata": {
        "id": "yJlKJmUXpFQY"
      },
      "outputs": [],
      "source": [
        "(x_train,y_train),(x_test,y_test)=cifar10.load_data()\n",
        "x_train = x_train.astype('float32')/255\n",
        "x_test = x_test.astype('float32')/255"
      ]
    },
    {
      "cell_type": "code",
      "execution_count": null,
      "metadata": {
        "colab": {
          "base_uri": "https://localhost:8080/"
        },
        "id": "2wvYVfnLpoo2",
        "outputId": "31591a6b-7609-411e-f3fc-6fc085583138"
      },
      "outputs": [],
      "source": [
        "y_train = to_categorical(y_train,10)\n",
        "y_test = to_categorical(y_test,10)\n",
        "print('x_train shape: ',x_train.shape)\n",
        "print('x_train test: ',x_test.shape)"
      ]
    },
    {
      "cell_type": "code",
      "execution_count": null,
      "metadata": {
        "colab": {
          "base_uri": "https://localhost:8080/",
          "height": 265
        },
        "id": "QMxMSBXvqBLu",
        "outputId": "3b5432c0-1ea1-47bb-9f94-222ac7735964"
      },
      "outputs": [],
      "source": [
        "import matplotlib.pyplot as plt\n",
        "import numpy as np\n",
        "(_, _), (_, labels) = cifar10.load_data()\n",
        "idx = [3, 6, 25, 46, 58, 85, 93, 99, 108, 133]\n",
        "clsmap = {\n",
        "    0:'airplane',\n",
        "    1:'automobile',\n",
        "    2:'bird',\n",
        "    3:'cat',\n",
        "    4: 'deer',\n",
        "    5: 'dog',\n",
        "    6:'frog',\n",
        "    7:'horse',\n",
        "    8:'ship',\n",
        "    9:'truck'\n",
        "}\n",
        "plt.figure(figsize = (10,4))\n",
        "for i, (img, y) in enumerate(zip(x_test[idx].reshape(10,32,32,3), labels[idx])):\n",
        "  plt.subplot(2,5,i+1)\n",
        "  plt.imshow(img,cmap='gray')\n",
        "  plt.xticks([])\n",
        "  plt.yticks([])\n",
        "  plt.title(str(y[0]) + \": \"+ clsmap[y[0]])\n",
        "plt.show()"
      ]
    },
    {
      "cell_type": "code",
      "execution_count": null,
      "metadata": {},
      "outputs": [],
      "source": [
        "model1 = models.Sequential()\n"
      ]
    },
    {
      "cell_type": "code",
      "execution_count": null,
      "metadata": {
        "id": "tWWrdPHz0gK1"
      },
      "outputs": [],
      "source": [
        "from tensorflow.keras.layers import Conv2D, MaxPooling2D, Flatten\n",
        "from tensorflow.keras.layers import Input, Dense, Dropout, BatchNormalization, Concatenate\n",
        "from tensorflow.keras.models import Model\n",
        "from tensorflow.keras.optimizers import RMSprop\n",
        "\n",
        "#dimensionality of input and latent encoded representations\n",
        "inpt_dim = (32,32,3)\n",
        "inpt_img= Input(shape=inpt_dim)\n",
        "#Convolutional layer\n",
        "c11 = Conv2D(64,(9,9), strides=(2,2), input_shape = inpt_dim, activation='relu')(inpt_img)\n",
        "#Pooling and BatchNorm\n",
        "p12 = MaxPooling2D(pool_size = (2,2))(c11)\n",
        "bn13 = BatchNormalization()(p12)\n",
        "\n",
        "# Add a second convolutional layer\n",
        "c14 = Conv2D(128,(3,3), strides=(1,1), activation='relu')(bn13)\n",
        "p15 = MaxPooling2D(pool_size = (2,2))(c14)\n",
        "bn16 = BatchNormalization()(p15)\n",
        "\n",
        "# Flattening for compatibility\n",
        "f17 = Flatten()(bn16)\n",
        "#Dense layers+ Dropout\n",
        "do18 = Dropout(0.5)(f17)\n",
        "d19 = Dense(units = 256,activation = 'relu')(do18)\n",
        "do110 = Dropout(0.2)(d19)\n",
        "d111 = Dense(units = 64, activation = 'relu')(do110)\n",
        "do112 = Dropout(0.1)(d111)\n",
        "output= Dense(units = 10, activation='sigmoid')(do112)\n",
        "\n",
        "classifier = Model(inpt_img, output)"
      ]
    },
    {
      "cell_type": "code",
      "execution_count": null,
      "metadata": {
        "colab": {
          "base_uri": "https://localhost:8080/"
        },
        "id": "-9vtwAq63cyC",
        "outputId": "7bce18de-8cdf-4abe-b435-74cd37310c5f"
      },
      "outputs": [],
      "source": [
        "opt = RMSprop(learning_rate=0.001)\n",
        "classifier.compile(optimizer=opt, loss='binary_crossentropy',metrics=['accuracy'])\n",
        "print(classifier.summary())"
      ]
    },
    {
      "cell_type": "code",
      "execution_count": null,
      "metadata": {
        "colab": {
          "base_uri": "https://localhost:8080/"
        },
        "id": "LN8kHimnVTv6",
        "outputId": "bc837790-7b75-4982-d26f-b604c9782402"
      },
      "outputs": [],
      "source": [
        "# Fitting the CNN to the images\n",
        "from tensorflow.keras.callbacks import ReduceLROnPlateau, EarlyStopping, ModelCheckpoint\n",
        "\n",
        "reduce_lr = ReduceLROnPlateau(monitor='val_loss', factor=0.5, patience=10, \n",
        "                              min_delta=1e-4, mode='min', verbose=1)\n",
        "\n",
        "stop_alg = EarlyStopping(monitor='val_loss', patience=35, \n",
        "                         restore_best_weights=True, verbose=1)\n",
        "\n",
        "checkpoint_filepath = 'cnn_model.h5'\n",
        "model_checkpoint = ModelCheckpoint(\n",
        "    filepath=checkpoint_filepath,\n",
        "    monitor='val_accuracy',\n",
        "    mode='max',\n",
        "    save_best_only=True)\n",
        "\n",
        "hist = classifier.fit(x_train, y_train, batch_size=512, epochs=10, \n",
        "                   callbacks=[stop_alg, reduce_lr, model_checkpoint], shuffle=True, \n",
        "                   validation_data=(x_test, y_test))\n"
      ]
    },
    {
      "cell_type": "code",
      "execution_count": null,
      "metadata": {},
      "outputs": [],
      "source": [
        "classifier.save_weights(\"cnn1.weights.h5\")\n"
      ]
    },
    {
      "cell_type": "code",
      "execution_count": null,
      "metadata": {},
      "outputs": [],
      "source": [
        "classifier.load_weights('cnn1.weights.h5')"
      ]
    },
    {
      "cell_type": "code",
      "execution_count": null,
      "metadata": {
        "colab": {
          "base_uri": "https://localhost:8080/",
          "height": 404
        },
        "id": "5UYYM-DyvhEI",
        "outputId": "66e4b7ba-a88c-45ca-8d66-9546c65683d8"
      },
      "outputs": [],
      "source": [
        "import matplotlib.pyplot as plt\n",
        "fig = plt.figure(figsize=(10,6))\n",
        "plt.plot(hist.history['loss'], color='#785ef0')\n",
        "plt.plot(hist.history['val_loss'], color='#dc267f')\n",
        "plt.title('Model Loss Progress')\n",
        "plt.ylabel('Binary Cross Entropy Loss')\n",
        "plt.xlabel('Epoch')\n",
        "plt.legend(['Training set','Test Set'], loc='upper right')\n",
        "plt.show()"
      ]
    },
    {
      "cell_type": "code",
      "execution_count": null,
      "metadata": {},
      "outputs": [],
      "source": [
        "# from tensorflow.keras.models import load_model\n",
        "\n",
        "# classifier = load_model('ccn_model.h5')\n",
        "# classifier = load_model('cnn.hdf5')\n",
        "\n",
        "classifier.load_weights('cnn.hdf5')\n",
        "classifier.compile(optimizer=RMSprop(), loss='categorical_crossentropy', metrics=['accuracy'])"
      ]
    },
    {
      "cell_type": "code",
      "execution_count": null,
      "metadata": {
        "colab": {
          "base_uri": "https://localhost:8080/"
        },
        "id": "_9O40N812-XB",
        "outputId": "52e16ec7-e95a-446b-cb06-09ed77939b9f"
      },
      "outputs": [],
      "source": [
        "from sklearn.metrics import classification_report\n",
        "from sklearn.metrics import confusion_matrix\n",
        "from sklearn.metrics import balanced_accuracy_score\n",
        "import matplotlib.pyplot as plt\n",
        "import numpy as np\n",
        "(_, _),(_, labels) = cifar10.load_data()\n",
        "y_ = labels\n",
        "y_hat = classifier.predict(x_test)\n",
        "y_pred = np.argmax(y_hat, axis=1)\n",
        "\n",
        "print(classification_report(np.argmax(y_test,axis=1), np.argmax(y_hat, axis=1), labels=[0,1,2,3,4,5,6,7,8,9]))\n",
        "\n",
        "cm = confusion_matrix(np.argmax(y_test, axis=1), np.argmax(y_hat, axis=1), labels=[0,1,2,3,4,5,6,7,8,9])\n",
        "print(cm)\n",
        "\n",
        "ber = 1-balanced_accuracy_score(np.argmax(y_test, axis=1), np.argmax(y_hat, axis=1))\n",
        "print('BER', ber)"
      ]
    },
    {
      "cell_type": "code",
      "execution_count": null,
      "metadata": {
        "colab": {
          "base_uri": "https://localhost:8080/",
          "height": 1000
        },
        "id": "kXmA6eC06hxY",
        "outputId": "5be1ac98-0b6f-4e97-8fad-90fa8474cc55"
      },
      "outputs": [],
      "source": [
        "from sklearn.preprocessing import MinMaxScaler\n",
        "cnn11 = classifier.layers[1].name # get the name of the 1st convolutional layer\n",
        "w =classifier.get_layer(name=cnn11).get_weights()[0] # get the filters\n",
        "wshape = w.shape # save the original shape\n",
        "# we will scale to [0,1] for visualization purposes\n",
        "scaler = MinMaxScaler()\n",
        "scaler.fit(w.reshape(-1,1))\n",
        "w = scaler.transform(w.reshape(-1,1))\n",
        "w = w.reshape(wshape)\n",
        "# we will display them 8x8\n",
        "fig,axs = plt.subplots(8,8,figsize=(24,24))\n",
        "fig.subplots_adjust(hspace=.25, wspace=.001)\n",
        "axs = axs.ravel()\n",
        "for i in range(w.shape[-1]):\n",
        "  #we will reshape to a 3D (RGB) image shape and display\n",
        "  h=np.reshape(w[:,:,:,i],(9,9,3))\n",
        "  axs[i].imshow(h)\n",
        "  axs[i].set_title('Filter'+str(i))"
      ]
    },
    {
      "cell_type": "markdown",
      "metadata": {
        "id": "yw8aRhfE8rST"
      },
      "source": [
        "Gabor filters"
      ]
    }
  ],
  "metadata": {
    "colab": {
      "name": "Cifar-10 Udemy.ipynb",
      "provenance": []
    },
    "kernelspec": {
      "display_name": "base",
      "language": "python",
      "name": "python3"
    },
    "language_info": {
      "codemirror_mode": {
        "name": "ipython",
        "version": 3
      },
      "file_extension": ".py",
      "mimetype": "text/x-python",
      "name": "python",
      "nbconvert_exporter": "python",
      "pygments_lexer": "ipython3",
      "version": "3.12.10"
    }
  },
  "nbformat": 4,
  "nbformat_minor": 0
}
