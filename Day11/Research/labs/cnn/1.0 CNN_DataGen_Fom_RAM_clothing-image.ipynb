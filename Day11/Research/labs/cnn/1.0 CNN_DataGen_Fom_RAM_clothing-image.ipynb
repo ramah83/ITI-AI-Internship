{
  "cells": [
    {
      "cell_type": "code",
      "execution_count": 1,
      "metadata": {
        "id": "COyo9mhmd1QM"
      },
      "outputs": [],
      "source": [
        "#tHE Clothing Fashion-MNIST is a dataset of images from Zalando (Europe's biggest online fashion retailer)\n",
        "# it consists of 60000 training samples and 10000 testing samples\n",
        "# Each sample is a 28*28 grayscale image associated with a label from 10 classes\n",
        "# http://yann.lecun.com/exdb/mnist/"
      ]
    },
    {
      "cell_type": "markdown",
      "metadata": {
        "id": "xXb8SD-5qQQR"
      },
      "source": [
        "10 classes are:\n",
        "\n",
        "\n",
        "1.   T-shirt/top\n",
        "\n",
        "1.   Trouser\n",
        "\n",
        "1.   Pullover\n",
        "\n",
        "1.   Dress\n",
        "\n",
        "1.   Coat\n",
        "\n",
        "1.   Sandal\n",
        "2.   Shirt\n",
        "\n",
        "\n",
        "2.   Sneaker\n",
        "\n",
        "\n",
        "2.   bag\n",
        "\n",
        "\n",
        "2.   Ankle Boot\n",
        "\n",
        "\n",
        "\n"
      ]
    },
    {
      "cell_type": "code",
      "execution_count": 3,
      "metadata": {
        "id": "UejR7_DZqrz-"
      },
      "outputs": [],
      "source": [
        "import tensorflow as tf\n",
        "fashion_mnist = tf.keras.datasets.fashion_mnist"
      ]
    },
    {
      "cell_type": "code",
      "execution_count": 4,
      "metadata": {
        "id": "c5XY_U9Yq8Sx"
      },
      "outputs": [
        {
          "name": "stdout",
          "output_type": "stream",
          "text": [
            "Downloading data from https://storage.googleapis.com/tensorflow/tf-keras-datasets/train-labels-idx1-ubyte.gz\n",
            "29515/29515 [==============================] - 0s 2us/step\n",
            "Downloading data from https://storage.googleapis.com/tensorflow/tf-keras-datasets/train-images-idx3-ubyte.gz\n",
            "26421880/26421880 [==============================] - 24s 1us/step\n",
            "Downloading data from https://storage.googleapis.com/tensorflow/tf-keras-datasets/t10k-labels-idx1-ubyte.gz\n",
            "5148/5148 [==============================] - 0s 0s/step\n",
            "Downloading data from https://storage.googleapis.com/tensorflow/tf-keras-datasets/t10k-images-idx3-ubyte.gz\n",
            "4422102/4422102 [==============================] - 2s 1us/step\n"
          ]
        }
      ],
      "source": [
        "(train_images, train_labels), (test_images, test_labels) = fashion_mnist.load_data()\n"
      ]
    },
    {
      "cell_type": "code",
      "execution_count": 5,
      "metadata": {
        "colab": {
          "base_uri": "https://localhost:8080/"
        },
        "id": "FpaBDi9NrPAN",
        "outputId": "a30f4727-a811-4fb3-c576-77b7bec1fa84"
      },
      "outputs": [
        {
          "name": "stdout",
          "output_type": "stream",
          "text": [
            "[9 0 0 ... 3 0 5]\n"
          ]
        }
      ],
      "source": [
        "print(train_labels)"
      ]
    },
    {
      "cell_type": "code",
      "execution_count": 6,
      "metadata": {
        "id": "YbEKRRfLrXUC"
      },
      "outputs": [],
      "source": [
        "# define classname\n",
        "class_names = ['T-shirt/top', 'Trouser', 'Pullover', 'Dress', 'Coat',\n",
        "               'Sandal', 'Shirt', 'Sneaker', 'Bag', 'Ankle boot']"
      ]
    },
    {
      "cell_type": "code",
      "execution_count": 7,
      "metadata": {
        "colab": {
          "base_uri": "https://localhost:8080/"
        },
        "id": "faznyuvqrqC2",
        "outputId": "cc0716b4-f773-4dac-bdd3-c35d360e73cb"
      },
      "outputs": [
        {
          "name": "stdout",
          "output_type": "stream",
          "text": [
            "(60000, 28, 28)\n"
          ]
        }
      ],
      "source": [
        "print(train_images.shape)"
      ]
    },
    {
      "cell_type": "code",
      "execution_count": 8,
      "metadata": {
        "colab": {
          "base_uri": "https://localhost:8080/"
        },
        "id": "Fr85UyCGry72",
        "outputId": "43ffa1c0-34ed-4a7e-d5d2-49495636059f"
      },
      "outputs": [
        {
          "name": "stdout",
          "output_type": "stream",
          "text": [
            "(10000, 28, 28)\n"
          ]
        }
      ],
      "source": [
        "print(test_images.shape)"
      ]
    },
    {
      "cell_type": "code",
      "execution_count": 9,
      "metadata": {
        "colab": {
          "base_uri": "https://localhost:8080/",
          "height": 281
        },
        "id": "06FdO37ms468",
        "outputId": "53fc08ce-5c63-49e1-badd-d70d84e0dc8d"
      },
      "outputs": [
        {
          "data": {
            "image/png": "[encoded data removed]",
            "text/plain": [
              "<Figure size 640x480 with 2 Axes>"
            ]
          },
          "metadata": {},
          "output_type": "display_data"
        }
      ],
      "source": [
        "import matplotlib.pyplot as plt\n",
        "\n",
        "plt.figure()\n",
        "plt.imshow(train_images[42])\n",
        "plt.colorbar()\n",
        "plt.grid(False)\n",
        "plt.title(class_names[train_labels[42]])\n",
        "plt.show()"
      ]
    },
    {
      "cell_type": "code",
      "execution_count": 10,
      "metadata": {
        "id": "8y2I_Pr2tVqn"
      },
      "outputs": [],
      "source": [
        "import os\n",
        "os.environ['KMP_DUPLICATE_LIB_OK'] = 'True'\n",
        "train_images = train_images/255.0\n",
        "test_images = test_images/255.0"
      ]
    },
    {
      "cell_type": "code",
      "execution_count": 11,
      "metadata": {
        "colab": {
          "base_uri": "https://localhost:8080/",
          "height": 594
        },
        "id": "nK1LN_46teB4",
        "outputId": "f1a8478a-98d6-4566-9f5c-33a7b4b39048"
      },
      "outputs": [
        {
          "data": {
            "image/png": "[encoded data removed]",
            "text/plain": [
              "<Figure size 1000x1000 with 16 Axes>"
            ]
          },
          "metadata": {},
          "output_type": "display_data"
        }
      ],
      "source": [
        "plt.figure(figsize=(10, 10))\n",
        "for i in range(16):\n",
        "    plt.subplot(4, 4, i + 1)\n",
        "    plt.subplots_adjust(hspace=.3)\n",
        "    plt.xticks([])\n",
        "    plt.yticks([])\n",
        "    plt.grid(False)\n",
        "    plt.imshow(train_images[i], cmap=plt.cm.binary)\n",
        "    plt.title(class_names[train_labels[i]])\n",
        "plt.show()"
      ]
    },
    {
      "cell_type": "code",
      "execution_count": 12,
      "metadata": {
        "id": "CJVw5en1zqJC"
      },
      "outputs": [],
      "source": [
        "# Architecting CNN model\n",
        "# The CNN has two main components: The feature extractor composed of a set of convolutional and pooling layers and the classifier backend similar to a regular neural network"
      ]
    },
    {
      "cell_type": "code",
      "execution_count": 13,
      "metadata": {
        "colab": {
          "base_uri": "https://localhost:8080/"
        },
        "id": "oualRfMv0DHZ",
        "outputId": "71622210-069b-47e1-9903-2cf7785bbba4"
      },
      "outputs": [
        {
          "name": "stdout",
          "output_type": "stream",
          "text": [
            "(60000, 28, 28, 1)\n"
          ]
        }
      ],
      "source": [
        "# we need to reshape the data into 4-dimensions\n",
        "X_train = train_images.reshape((train_images.shape[0], 28, 28, 1))\n",
        "X_test = test_images.reshape((test_images.shape[0], 28, 28, 1))\n",
        "print(X_train.shape)"
      ]
    },
    {
      "cell_type": "markdown",
      "metadata": {
        "id": "G8CFYXd20ctJ"
      },
      "source": [
        "The first dimension is the number of samples\n",
        "\n",
        "\n",
        "---\n",
        "The fourth dimension is the appended one representing the grayscale images\n"
      ]
    },
    {
      "cell_type": "code",
      "execution_count": 14,
      "metadata": {
        "id": "5Ac9ZQ2V0otu"
      },
      "outputs": [],
      "source": [
        "# random seed in tensorflow for reproducility\n",
        "tf.random.set_seed(42)\n",
        "from tensorflow.keras import datasets, layers, models, losses\n",
        "model = models.Sequential()\n",
        "# add the first convolutional layers with 32 small-sized 3*3 filters\n",
        "model.add(layers.Conv2D(32, (3, 3), activation='relu', input_shape=(28, 28, 1)))\n",
        "# Convolutional layer is followed by a max-pooling layer with a 2*2 filter\n",
        "model.add(layers.MaxPooling2D((2, 2)))\n",
        "# second convolutional layer with 64 3*3 filters\n",
        "model.add(layers.Conv2D(64, (3, 3), activation='relu'))\n",
        "model.add(layers.MaxPooling2D((2, 2)))\n",
        "# third convolutional layer with 128 3*3 filters\n",
        "model.add(layers.Conv2D(128, (3, 3), activation='relu'))\n",
        "#The resulting filter maps are flatten to provide features to the downstream classifier backend\n",
        "model.add(layers.Flatten())\n",
        "#Classifier backend \n",
        "model.add(layers.Dense(64, activation='relu'))\n",
        "#output with 10 nodes demonstrating 10 classes\n",
        "model.add(layers.Dense(10, activation='softmax'))\n",
        "\n",
        "model.compile(optimizer='adam',\n",
        "              loss=losses.sparse_categorical_crossentropy,\n",
        "              metrics=['accuracy'])"
      ]
    },
    {
      "cell_type": "code",
      "execution_count": 21,
      "metadata": {
        "colab": {
          "base_uri": "https://localhost:8080/"
        },
        "id": "9Bp6BGlh3V50",
        "outputId": "1e0faf58-2ceb-4436-87a1-05a5356891b1"
      },
      "outputs": [
        {
          "name": "stdout",
          "output_type": "stream",
          "text": [
            "Model: \"sequential\"\n",
            "_________________________________________________________________\n",
            " Layer (type)                Output Shape              Param #   \n",
            "=================================================================\n",
            " conv2d (Conv2D)             (None, 26, 26, 32)        320       \n",
            "                                                                 \n",
            " max_pooling2d (MaxPooling2D  (None, 13, 13, 32)       0         \n",
            " )                                                               \n",
            "                                                                 \n",
            " conv2d_1 (Conv2D)           (None, 11, 11, 64)        18496     \n",
            "                                                                 \n",
            " max_pooling2d_1 (MaxPooling  (None, 5, 5, 64)         0         \n",
            " 2D)                                                             \n",
            "                                                                 \n",
            " conv2d_2 (Conv2D)           (None, 3, 3, 128)         73856     \n",
            "                                                                 \n",
            " flatten (Flatten)           (None, 1152)              0         \n",
            "                                                                 \n",
            " dense (Dense)               (None, 64)                73792     \n",
            "                                                                 \n",
            " dense_1 (Dense)             (None, 10)                650       \n",
            "                                                                 \n",
            "=================================================================\n",
            "Total params: 167,114\n",
            "Trainable params: 167,114\n",
            "Non-trainable params: 0\n",
            "_________________________________________________________________\n"
          ]
        }
      ],
      "source": [
        "model.summary()"
      ]
    },
    {
      "cell_type": "markdown",
      "metadata": {
        "id": "sVHegc5g3tUW"
      },
      "source": [
        "The benefits of applying pooling are:\n",
        "\n",
        "\n",
        "1.   avoiding overfitting\n",
        "2.   Reducing training cost\n",
        "\n"
      ]
    },
    {
      "cell_type": "code",
      "execution_count": 23,
      "metadata": {
        "colab": {
          "base_uri": "https://localhost:8080/"
        },
        "id": "B-dtBYOy4gK0",
        "outputId": "3a08972a-f683-444b-8fbb-5a1f53aebebf"
      },
      "outputs": [
        {
          "name": "stdout",
          "output_type": "stream",
          "text": [
            "Epoch 1/10\n",
            "200/200 [==============================] - 11s 54ms/step - loss: 0.4112 - accuracy: 0.8522 - val_loss: 0.4464 - val_accuracy: 0.8352\n",
            "Epoch 2/10\n",
            "200/200 [==============================] - 11s 53ms/step - loss: 0.3601 - accuracy: 0.8704 - val_loss: 0.3442 - val_accuracy: 0.8760\n",
            "Epoch 3/10\n",
            "200/200 [==============================] - 11s 54ms/step - loss: 0.3251 - accuracy: 0.8824 - val_loss: 0.3320 - val_accuracy: 0.8800\n",
            "Epoch 4/10\n",
            "200/200 [==============================] - 12s 60ms/step - loss: 0.2995 - accuracy: 0.8911 - val_loss: 0.3158 - val_accuracy: 0.8849\n",
            "Epoch 5/10\n",
            "200/200 [==============================] - 12s 60ms/step - loss: 0.2785 - accuracy: 0.8983 - val_loss: 0.2950 - val_accuracy: 0.8948\n",
            "Epoch 6/10\n",
            "200/200 [==============================] - 12s 60ms/step - loss: 0.2631 - accuracy: 0.9034 - val_loss: 0.2848 - val_accuracy: 0.8982\n",
            "Epoch 7/10\n",
            "200/200 [==============================] - 12s 61ms/step - loss: 0.2486 - accuracy: 0.9100 - val_loss: 0.2808 - val_accuracy: 0.9006\n",
            "Epoch 8/10\n",
            "200/200 [==============================] - 12s 60ms/step - loss: 0.2354 - accuracy: 0.9133 - val_loss: 0.2638 - val_accuracy: 0.9044\n",
            "Epoch 9/10\n",
            "200/200 [==============================] - 12s 62ms/step - loss: 0.2240 - accuracy: 0.9171 - val_loss: 0.2917 - val_accuracy: 0.8939\n",
            "Epoch 10/10\n",
            "200/200 [==============================] - 13s 66ms/step - loss: 0.2118 - accuracy: 0.9222 - val_loss: 0.2720 - val_accuracy: 0.9052\n"
          ]
        },
        {
          "data": {
            "text/plain": [
              "<keras.callbacks.History at 0x200bd6e6d70>"
            ]
          },
          "execution_count": 23,
          "metadata": {},
          "output_type": "execute_result"
        }
      ],
      "source": [
        "model.fit(X_train, train_labels, validation_split=0.15, epochs=10, batch_size= 256) # batch size is 32 by default\n",
        "# model.fit(X_train, train_labels, validation_data=(X_test, test_labels), epochs=10) # batch size is 32 by default"
      ]
    },
    {
      "cell_type": "code",
      "execution_count": 24,
      "metadata": {
        "colab": {
          "base_uri": "https://localhost:8080/"
        },
        "id": "gNKP-JI6LY8j",
        "outputId": "193eff50-9e4c-4687-c712-92b5c4ef3701"
      },
      "outputs": [
        {
          "name": "stdout",
          "output_type": "stream",
          "text": [
            "313/313 - 1s - loss: 0.2812 - accuracy: 0.9031 - 1s/epoch - 4ms/step\n",
            "Accuracy on test set:  0.9031000137329102\n"
          ]
        }
      ],
      "source": [
        "# 96% on training set and 91% on the testing set\n",
        "# double check the performance\n",
        "test_loss, test_acc = model.evaluate(X_test, test_labels, verbose=2)\n",
        "print('Accuracy on test set: ',test_acc)"
      ]
    },
    {
      "cell_type": "code",
      "execution_count": 25,
      "metadata": {
        "id": "HvkHxx6cLzSb"
      },
      "outputs": [
        {
          "name": "stdout",
          "output_type": "stream",
          "text": [
            "313/313 [==============================] - 1s 4ms/step\n"
          ]
        }
      ],
      "source": [
        "predictions = model.predict(X_test)"
      ]
    },
    {
      "cell_type": "code",
      "execution_count": 26,
      "metadata": {
        "colab": {
          "base_uri": "https://localhost:8080/"
        },
        "id": "q2zeSO_QL4l5",
        "outputId": "478957b7-30d6-403c-aa53-3252d3d0662f"
      },
      "outputs": [
        {
          "name": "stdout",
          "output_type": "stream",
          "text": [
            "[4.1868147e-06 1.3862094e-09 5.1785971e-08 1.2561253e-09 4.2657189e-07\n",
            " 8.0255093e-05 4.1755558e-07 2.0559111e-03 8.0927435e-07 9.9785787e-01]\n"
          ]
        }
      ],
      "source": [
        "print(predictions[0])"
      ]
    },
    {
      "cell_type": "code",
      "execution_count": 27,
      "metadata": {
        "colab": {
          "base_uri": "https://localhost:8080/"
        },
        "id": "i9ATqQQ8L_2P",
        "outputId": "975ad8bd-25cc-4ba7-acad-4f59985af1bd"
      },
      "outputs": [
        {
          "name": "stdout",
          "output_type": "stream",
          "text": [
            "Predicted label for the first test sample:  9\n"
          ]
        }
      ],
      "source": [
        "import numpy as np\n",
        "\n",
        "print('Predicted label for the first test sample: ', np.argmax(predictions[0]))"
      ]
    },
    {
      "cell_type": "code",
      "execution_count": 28,
      "metadata": {
        "colab": {
          "base_uri": "https://localhost:8080/"
        },
        "id": "WsSzlbd0MLuH",
        "outputId": "3fd18fb8-f6a8-499d-d5c1-3f4aa7d36b68"
      },
      "outputs": [
        {
          "name": "stdout",
          "output_type": "stream",
          "text": [
            "True label for the first test sample:  9\n"
          ]
        }
      ],
      "source": [
        "print('True label for the first test sample: ', test_labels[0])"
      ]
    },
    {
      "cell_type": "code",
      "execution_count": 29,
      "metadata": {
        "id": "3GEHaLDsMT1p"
      },
      "outputs": [],
      "source": [
        "def plot_image_prediction(i, images, predictions, labels, class_names):\n",
        "    plt.subplot(1,2,1)\n",
        "    plt.imshow(images[i], cmap=plt.cm.binary)\n",
        "    prediction = np.argmax(predictions[i])\n",
        "    color = 'blue' if prediction == labels[i] else 'red'\n",
        "    plt.title(f\"{class_names[labels[i]]} (predicted {class_names[prediction]})\", color=color)\n",
        "    plt.subplot(1,2,2)\n",
        "    plt.grid(False)\n",
        "    plt.xticks(range(10))\n",
        "    plot = plt.bar(range(10), predictions[i], color=\"#777777\")\n",
        "    plt.ylim([0, 1])\n",
        "    plot[prediction].set_color('red')\n",
        "    plot[labels[i]].set_color('blue')\n",
        "    plt.show()"
      ]
    },
    {
      "cell_type": "code",
      "execution_count": 28,
      "metadata": {
        "colab": {
          "base_uri": "https://localhost:8080/",
          "height": 269
        },
        "id": "wAG8iv2WOZur",
        "outputId": "e6757d10-3fe0-4aa9-da05-227fdd6d0b78"
      },
      "outputs": [
        {
          "data": {
            "image/png": "[encoded data removed]",
            "text/plain": [
              "<Figure size 432x288 with 2 Axes>"
            ]
          },
          "metadata": {
            "needs_background": "light",
            "tags": []
          },
          "output_type": "display_data"
        }
      ],
      "source": [
        "plot_image_prediction(0, test_images, predictions, test_labels, class_names)"
      ]
    },
    {
      "cell_type": "code",
      "execution_count": 34,
      "metadata": {},
      "outputs": [
        {
          "data": {
            "text/plain": [
              "(3, 3, 32, 64)"
            ]
          },
          "execution_count": 34,
          "metadata": {},
          "output_type": "execute_result"
        }
      ],
      "source": [
        "model.layers[2].get_weights()[0].shape"
      ]
    },
    {
      "cell_type": "code",
      "execution_count": 30,
      "metadata": {
        "id": "JGijj5UIUepn"
      },
      "outputs": [],
      "source": [
        "# \n",
        "filters, _ = model.layers[2].get_weights()\n",
        "f_min, f_max = filters.min(), filters.max()\n",
        "filters = (filters - f_min) / (f_max-f_min)"
      ]
    },
    {
      "cell_type": "code",
      "execution_count": 38,
      "metadata": {
        "colab": {
          "base_uri": "https://localhost:8080/",
          "height": 252
        },
        "id": "SkUCGtsOVEGH",
        "outputId": "9f15e5e8-aa7f-4f68-9297-3e9095d47ab3"
      },
      "outputs": [
        {
          "data": {
            "image/png": "[encoded data removed]",
            "text/plain": [
              "<Figure size 640x480 with 32 Axes>"
            ]
          },
          "metadata": {},
          "output_type": "display_data"
        }
      ],
      "source": [
        "n_filters = 32\n",
        "for i in range(n_filters):\n",
        "  filter = filters[:, :, :, i]\n",
        "  plt.subplot(4, 8, i+1)\n",
        "  plt.xticks([])\n",
        "  plt.yticks([])\n",
        "  plt.imshow(filter[:, :, 0], cmap='gray')\n",
        "\n",
        "plt.show()"
      ]
    },
    {
      "cell_type": "code",
      "execution_count": 39,
      "metadata": {
        "colab": {
          "base_uri": "https://localhost:8080/"
        },
        "id": "jIVE9_AYuUDk",
        "outputId": "388c6256-ae84-4ec7-b9be-7b5c299e2496"
      },
      "outputs": [
        {
          "name": "stdout",
          "output_type": "stream",
          "text": [
            "(500, 28, 28, 1)\n"
          ]
        }
      ],
      "source": [
        "from tensorflow.keras.preprocessing.image import ImageDataGenerator, load_img\n",
        "n_small = 500\n",
        "X_train = X_train[:n_small]\n",
        "train_labels = train_labels[:n_small]\n",
        "print(X_train.shape)"
      ]
    },
    {
      "cell_type": "code",
      "execution_count": 40,
      "metadata": {
        "id": "YpvXhlJPutdp"
      },
      "outputs": [],
      "source": [
        "model = models.Sequential()\n",
        "model.add(layers.Conv2D(32, (3, 3), activation='relu', input_shape=(28, 28, 1)))\n",
        "model.add(layers.MaxPooling2D((2, 2)))\n",
        "model.add(layers.Conv2D(64, (3, 3), activation='relu'))\n",
        "model.add(layers.Flatten())\n",
        "model.add(layers.Dense(32, activation='relu'))\n",
        "model.add(layers.Dense(10, activation='softmax'))"
      ]
    },
    {
      "cell_type": "code",
      "execution_count": 41,
      "metadata": {
        "id": "_nMVrGUYu0qv"
      },
      "outputs": [],
      "source": [
        "model.compile(optimizer='adam',\n",
        "               loss=losses.sparse_categorical_crossentropy,\n",
        "               metrics=['accuracy'])"
      ]
    },
    {
      "cell_type": "code",
      "execution_count": 42,
      "metadata": {
        "colab": {
          "base_uri": "https://localhost:8080/"
        },
        "id": "tGeDhMtfu4Xa",
        "outputId": "b7f359dc-b28b-436d-a7b9-0a4641cba9bf"
      },
      "outputs": [
        {
          "name": "stdout",
          "output_type": "stream",
          "text": [
            "Epoch 1/20\n",
            "13/13 [==============================] - 1s 95ms/step - loss: 2.0077 - accuracy: 0.3460 - val_loss: 1.5921 - val_accuracy: 0.4026\n",
            "Epoch 2/20\n",
            "13/13 [==============================] - 1s 85ms/step - loss: 1.3191 - accuracy: 0.5080 - val_loss: 1.2754 - val_accuracy: 0.5584\n",
            "Epoch 3/20\n",
            "13/13 [==============================] - 1s 86ms/step - loss: 1.0695 - accuracy: 0.6300 - val_loss: 0.9955 - val_accuracy: 0.6783\n",
            "Epoch 4/20\n",
            "13/13 [==============================] - 1s 94ms/step - loss: 0.8714 - accuracy: 0.7160 - val_loss: 0.9111 - val_accuracy: 0.6756\n",
            "Epoch 5/20\n",
            "13/13 [==============================] - 1s 91ms/step - loss: 0.7347 - accuracy: 0.7500 - val_loss: 0.8581 - val_accuracy: 0.7055\n",
            "Epoch 6/20\n",
            "13/13 [==============================] - 1s 90ms/step - loss: 0.6639 - accuracy: 0.8020 - val_loss: 0.7784 - val_accuracy: 0.7410\n",
            "Epoch 7/20\n",
            "13/13 [==============================] - 1s 89ms/step - loss: 0.5826 - accuracy: 0.8000 - val_loss: 0.7503 - val_accuracy: 0.7479\n",
            "Epoch 8/20\n",
            "13/13 [==============================] - 1s 86ms/step - loss: 0.5637 - accuracy: 0.8140 - val_loss: 0.7687 - val_accuracy: 0.7421\n",
            "Epoch 9/20\n",
            "13/13 [==============================] - 1s 90ms/step - loss: 0.4788 - accuracy: 0.8480 - val_loss: 0.7202 - val_accuracy: 0.7620\n",
            "Epoch 10/20\n",
            "13/13 [==============================] - 1s 86ms/step - loss: 0.4510 - accuracy: 0.8600 - val_loss: 0.7444 - val_accuracy: 0.7491\n",
            "Epoch 11/20\n",
            "13/13 [==============================] - 1s 91ms/step - loss: 0.4168 - accuracy: 0.8660 - val_loss: 0.7719 - val_accuracy: 0.7508\n",
            "Epoch 12/20\n",
            "13/13 [==============================] - 1s 92ms/step - loss: 0.4163 - accuracy: 0.8880 - val_loss: 0.6887 - val_accuracy: 0.7627\n",
            "Epoch 13/20\n",
            "13/13 [==============================] - 1s 92ms/step - loss: 0.3817 - accuracy: 0.8720 - val_loss: 0.8030 - val_accuracy: 0.7293\n",
            "Epoch 14/20\n",
            "13/13 [==============================] - 1s 87ms/step - loss: 0.3649 - accuracy: 0.8760 - val_loss: 0.8408 - val_accuracy: 0.7404\n",
            "Epoch 15/20\n",
            "13/13 [==============================] - 1s 91ms/step - loss: 0.3742 - accuracy: 0.8880 - val_loss: 0.7053 - val_accuracy: 0.7462\n",
            "Epoch 16/20\n",
            "13/13 [==============================] - 1s 87ms/step - loss: 0.3222 - accuracy: 0.8880 - val_loss: 0.6534 - val_accuracy: 0.7859\n",
            "Epoch 17/20\n",
            "13/13 [==============================] - 1s 85ms/step - loss: 0.2709 - accuracy: 0.9220 - val_loss: 0.6396 - val_accuracy: 0.7916\n",
            "Epoch 18/20\n",
            "13/13 [==============================] - 1s 95ms/step - loss: 0.2344 - accuracy: 0.9320 - val_loss: 0.6958 - val_accuracy: 0.7868\n",
            "Epoch 19/20\n",
            "13/13 [==============================] - 1s 90ms/step - loss: 0.1966 - accuracy: 0.9420 - val_loss: 0.6905 - val_accuracy: 0.7887\n",
            "Epoch 20/20\n",
            "13/13 [==============================] - 1s 84ms/step - loss: 0.1714 - accuracy: 0.9540 - val_loss: 0.7113 - val_accuracy: 0.7904\n"
          ]
        },
        {
          "data": {
            "text/plain": [
              "<keras.callbacks.History at 0x200bd800b50>"
            ]
          },
          "execution_count": 42,
          "metadata": {},
          "output_type": "execute_result"
        }
      ],
      "source": [
        "model.fit(X_train, train_labels, validation_data=(X_test, test_labels), epochs=20, batch_size=40)"
      ]
    },
    {
      "cell_type": "code",
      "execution_count": 43,
      "metadata": {
        "colab": {
          "base_uri": "https://localhost:8080/"
        },
        "id": "u5Qv0RTsvSoV",
        "outputId": "2c9b650e-57b3-4a17-f33f-7073cb90129a"
      },
      "outputs": [
        {
          "name": "stdout",
          "output_type": "stream",
          "text": [
            "313/313 - 1s - loss: 0.7113 - accuracy: 0.7904 - 1s/epoch - 4ms/step\n",
            "Accuracy on test set: 0.7904000282287598\n"
          ]
        }
      ],
      "source": [
        "test_loss, test_acc = model.evaluate(X_test, test_labels, verbose=2)\n",
        "print('Accuracy on test set:', test_acc)"
      ]
    },
    {
      "cell_type": "markdown",
      "metadata": {
        "id": "UJ0ip6ZLwoK6"
      },
      "source": [
        "The accuracy  without augmentation has a classification accuracy of 79.5%"
      ]
    },
    {
      "cell_type": "code",
      "execution_count": null,
      "metadata": {
        "id": "OcnLIuRivYHo"
      },
      "outputs": [],
      "source": [
        "datagen = ImageDataGenerator(height_shift_range=3,\n",
        "                              horizontal_flip=True\n",
        "                              )\n"
      ]
    },
    {
      "cell_type": "code",
      "execution_count": 45,
      "metadata": {
        "id": "J4Gt1oz9vdtR"
      },
      "outputs": [],
      "source": [
        "model_aug = tf.keras.models.clone_model(model)"
      ]
    },
    {
      "cell_type": "code",
      "execution_count": 46,
      "metadata": {
        "id": "mwDNbR42vhA7"
      },
      "outputs": [],
      "source": [
        "model_aug.compile(optimizer='adam',\n",
        "               loss=losses.sparse_categorical_crossentropy,\n",
        "               metrics=['accuracy'])"
      ]
    },
    {
      "cell_type": "code",
      "execution_count": 47,
      "metadata": {
        "colab": {
          "base_uri": "https://localhost:8080/"
        },
        "id": "okCHTowovmOV",
        "outputId": "d50c57df-0824-490c-b540-262987401a95"
      },
      "outputs": [
        {
          "name": "stdout",
          "output_type": "stream",
          "text": [
            "Epoch 1/50\n",
            "13/13 [==============================] - 2s 104ms/step - loss: 1.9802 - accuracy: 0.2340 - val_loss: 1.5475 - val_accuracy: 0.4513\n",
            "Epoch 2/50\n",
            "13/13 [==============================] - 1s 98ms/step - loss: 1.2327 - accuracy: 0.5740 - val_loss: 1.0432 - val_accuracy: 0.6183\n",
            "Epoch 3/50\n",
            "13/13 [==============================] - 1s 105ms/step - loss: 0.9584 - accuracy: 0.6580 - val_loss: 0.8750 - val_accuracy: 0.7036\n",
            "Epoch 4/50\n",
            "13/13 [==============================] - 1s 103ms/step - loss: 0.8383 - accuracy: 0.6960 - val_loss: 0.9017 - val_accuracy: 0.6791\n",
            "Epoch 5/50\n",
            "13/13 [==============================] - 1s 103ms/step - loss: 0.7429 - accuracy: 0.7640 - val_loss: 0.8365 - val_accuracy: 0.6970\n",
            "Epoch 6/50\n",
            "13/13 [==============================] - 1s 105ms/step - loss: 0.6534 - accuracy: 0.7960 - val_loss: 0.7386 - val_accuracy: 0.7433\n",
            "Epoch 7/50\n",
            "13/13 [==============================] - 1s 103ms/step - loss: 0.6288 - accuracy: 0.7920 - val_loss: 0.7628 - val_accuracy: 0.7306\n",
            "Epoch 8/50\n",
            "13/13 [==============================] - 1s 96ms/step - loss: 0.5571 - accuracy: 0.8360 - val_loss: 0.7376 - val_accuracy: 0.7471\n",
            "Epoch 9/50\n",
            "13/13 [==============================] - 1s 92ms/step - loss: 0.5423 - accuracy: 0.8400 - val_loss: 0.7166 - val_accuracy: 0.7603\n",
            "Epoch 10/50\n",
            "13/13 [==============================] - 1s 109ms/step - loss: 0.5160 - accuracy: 0.8300 - val_loss: 0.6903 - val_accuracy: 0.7679\n",
            "Epoch 11/50\n",
            "13/13 [==============================] - 1s 99ms/step - loss: 0.5138 - accuracy: 0.8300 - val_loss: 0.7002 - val_accuracy: 0.7650\n",
            "Epoch 12/50\n",
            "13/13 [==============================] - 1s 96ms/step - loss: 0.4558 - accuracy: 0.8520 - val_loss: 0.7285 - val_accuracy: 0.7556\n",
            "Epoch 13/50\n",
            "13/13 [==============================] - 1s 104ms/step - loss: 0.4908 - accuracy: 0.8320 - val_loss: 0.6629 - val_accuracy: 0.7717\n",
            "Epoch 14/50\n",
            "13/13 [==============================] - 1s 103ms/step - loss: 0.4469 - accuracy: 0.8540 - val_loss: 0.6955 - val_accuracy: 0.7561\n",
            "Epoch 15/50\n",
            "13/13 [==============================] - 1s 117ms/step - loss: 0.4179 - accuracy: 0.8600 - val_loss: 0.6600 - val_accuracy: 0.7779\n",
            "Epoch 16/50\n",
            "13/13 [==============================] - 1s 95ms/step - loss: 0.3625 - accuracy: 0.8920 - val_loss: 0.6569 - val_accuracy: 0.7850\n",
            "Epoch 17/50\n",
            "13/13 [==============================] - 2s 132ms/step - loss: 0.3730 - accuracy: 0.8800 - val_loss: 0.6890 - val_accuracy: 0.7776\n",
            "Epoch 18/50\n",
            "13/13 [==============================] - 2s 125ms/step - loss: 0.2997 - accuracy: 0.9040 - val_loss: 0.7084 - val_accuracy: 0.7788\n",
            "Epoch 19/50\n",
            "13/13 [==============================] - 1s 118ms/step - loss: 0.3138 - accuracy: 0.8900 - val_loss: 0.6968 - val_accuracy: 0.7760\n",
            "Epoch 20/50\n",
            "13/13 [==============================] - 1s 119ms/step - loss: 0.2972 - accuracy: 0.9000 - val_loss: 0.7185 - val_accuracy: 0.7842\n",
            "Epoch 21/50\n",
            "13/13 [==============================] - 1s 118ms/step - loss: 0.2874 - accuracy: 0.9140 - val_loss: 0.7040 - val_accuracy: 0.7829\n",
            "Epoch 22/50\n",
            "13/13 [==============================] - 1s 102ms/step - loss: 0.2959 - accuracy: 0.8940 - val_loss: 0.7010 - val_accuracy: 0.7884\n",
            "Epoch 23/50\n",
            "13/13 [==============================] - 1s 116ms/step - loss: 0.2815 - accuracy: 0.9100 - val_loss: 0.7832 - val_accuracy: 0.7563\n",
            "Epoch 24/50\n",
            "13/13 [==============================] - 1s 116ms/step - loss: 0.2846 - accuracy: 0.8940 - val_loss: 0.7327 - val_accuracy: 0.7790\n",
            "Epoch 25/50\n",
            "13/13 [==============================] - 2s 128ms/step - loss: 0.2560 - accuracy: 0.9280 - val_loss: 0.7373 - val_accuracy: 0.7832\n",
            "Epoch 26/50\n",
            "13/13 [==============================] - 1s 116ms/step - loss: 0.2326 - accuracy: 0.9260 - val_loss: 0.7331 - val_accuracy: 0.7854\n",
            "Epoch 27/50\n",
            "13/13 [==============================] - 1s 100ms/step - loss: 0.1975 - accuracy: 0.9400 - val_loss: 0.7969 - val_accuracy: 0.7825\n",
            "Epoch 28/50\n",
            "13/13 [==============================] - 1s 111ms/step - loss: 0.2110 - accuracy: 0.9340 - val_loss: 0.7826 - val_accuracy: 0.7739\n",
            "Epoch 29/50\n",
            "13/13 [==============================] - 1s 116ms/step - loss: 0.2051 - accuracy: 0.9340 - val_loss: 0.7328 - val_accuracy: 0.7869\n",
            "Epoch 30/50\n",
            "13/13 [==============================] - 1s 103ms/step - loss: 0.2066 - accuracy: 0.9320 - val_loss: 0.8116 - val_accuracy: 0.7745\n",
            "Epoch 31/50\n",
            "13/13 [==============================] - 1s 101ms/step - loss: 0.2330 - accuracy: 0.9180 - val_loss: 0.7465 - val_accuracy: 0.7819\n",
            "Epoch 32/50\n",
            "13/13 [==============================] - 1s 102ms/step - loss: 0.1842 - accuracy: 0.9420 - val_loss: 0.7857 - val_accuracy: 0.7835\n",
            "Epoch 33/50\n",
            "13/13 [==============================] - 1s 100ms/step - loss: 0.1579 - accuracy: 0.9540 - val_loss: 0.8309 - val_accuracy: 0.7771\n",
            "Epoch 34/50\n",
            "13/13 [==============================] - 1s 109ms/step - loss: 0.1662 - accuracy: 0.9420 - val_loss: 0.8832 - val_accuracy: 0.7734\n",
            "Epoch 35/50\n",
            "13/13 [==============================] - 1s 102ms/step - loss: 0.1441 - accuracy: 0.9560 - val_loss: 0.8737 - val_accuracy: 0.7803\n",
            "Epoch 36/50\n",
            "13/13 [==============================] - 1s 101ms/step - loss: 0.1607 - accuracy: 0.9420 - val_loss: 0.8417 - val_accuracy: 0.7877\n",
            "Epoch 37/50\n",
            "13/13 [==============================] - 1s 106ms/step - loss: 0.1852 - accuracy: 0.9420 - val_loss: 0.8485 - val_accuracy: 0.7907\n",
            "Epoch 38/50\n",
            "13/13 [==============================] - 1s 99ms/step - loss: 0.1533 - accuracy: 0.9500 - val_loss: 0.8926 - val_accuracy: 0.7793\n",
            "Epoch 39/50\n",
            "13/13 [==============================] - 1s 112ms/step - loss: 0.1594 - accuracy: 0.9440 - val_loss: 0.9028 - val_accuracy: 0.7836\n",
            "Epoch 40/50\n",
            "13/13 [==============================] - 1s 102ms/step - loss: 0.1312 - accuracy: 0.9560 - val_loss: 0.9230 - val_accuracy: 0.7830\n",
            "Epoch 41/50\n",
            "13/13 [==============================] - 1s 100ms/step - loss: 0.1111 - accuracy: 0.9600 - val_loss: 0.9058 - val_accuracy: 0.7838\n",
            "Epoch 42/50\n",
            "13/13 [==============================] - 1s 110ms/step - loss: 0.1276 - accuracy: 0.9620 - val_loss: 0.8830 - val_accuracy: 0.7892\n",
            "Epoch 43/50\n",
            "13/13 [==============================] - 1s 104ms/step - loss: 0.1053 - accuracy: 0.9660 - val_loss: 0.8982 - val_accuracy: 0.7848\n",
            "Epoch 44/50\n",
            "13/13 [==============================] - 1s 100ms/step - loss: 0.0869 - accuracy: 0.9800 - val_loss: 0.9456 - val_accuracy: 0.7845\n",
            "Epoch 45/50\n",
            "13/13 [==============================] - 1s 101ms/step - loss: 0.0825 - accuracy: 0.9720 - val_loss: 0.9000 - val_accuracy: 0.7954\n",
            "Epoch 46/50\n",
            "13/13 [==============================] - 1s 92ms/step - loss: 0.0941 - accuracy: 0.9680 - val_loss: 0.9432 - val_accuracy: 0.7877\n",
            "Epoch 47/50\n",
            "13/13 [==============================] - 1s 100ms/step - loss: 0.0744 - accuracy: 0.9800 - val_loss: 0.9435 - val_accuracy: 0.7897\n",
            "Epoch 48/50\n",
            "13/13 [==============================] - 1s 101ms/step - loss: 0.0732 - accuracy: 0.9760 - val_loss: 1.0481 - val_accuracy: 0.7761\n",
            "Epoch 49/50\n",
            "13/13 [==============================] - 1s 101ms/step - loss: 0.0821 - accuracy: 0.9720 - val_loss: 1.0442 - val_accuracy: 0.7808\n",
            "Epoch 50/50\n",
            "13/13 [==============================] - 1s 100ms/step - loss: 0.0655 - accuracy: 0.9860 - val_loss: 1.0428 - val_accuracy: 0.7908\n"
          ]
        },
        {
          "data": {
            "text/plain": [
              "<keras.callbacks.History at 0x200bdb837c0>"
            ]
          },
          "execution_count": 47,
          "metadata": {},
          "output_type": "execute_result"
        }
      ],
      "source": [
        "train_generator = datagen.flow(X_train, train_labels, seed=42, batch_size=40)\n",
        "\n",
        "model_aug.fit(train_generator, epochs=50, validation_data=(X_test, test_labels))"
      ]
    },
    {
      "cell_type": "code",
      "execution_count": 48,
      "metadata": {
        "colab": {
          "base_uri": "https://localhost:8080/"
        },
        "id": "pIt7_ykEw8yp",
        "outputId": "c31dc030-7ec1-422e-8e83-7d122c761f96"
      },
      "outputs": [
        {
          "name": "stdout",
          "output_type": "stream",
          "text": [
            "313/313 - 1s - loss: 1.0428 - accuracy: 0.7908 - 1s/epoch - 3ms/step\n",
            "Accuracy on test set:  0.7907999753952026\n"
          ]
        }
      ],
      "source": [
        "test_loss, test_acc = model_aug.evaluate(X_test, test_labels, verbose=2)\n",
        "print('Accuracy on test set: ',test_acc)"
      ]
    },
    {
      "cell_type": "code",
      "execution_count": null,
      "metadata": {},
      "outputs": [],
      "source": []
    }
  ],
  "metadata": {
    "colab": {
      "collapsed_sections": [],
      "name": "Udemy clothing image.ipynb",
      "provenance": []
    },
    "kernelspec": {
      "display_name": "Python 3",
      "name": "python3"
    },
    "language_info": {
      "codemirror_mode": {
        "name": "ipython",
        "version": 3
      },
      "file_extension": ".py",
      "mimetype": "text/x-python",
      "name": "python",
      "nbconvert_exporter": "python",
      "pygments_lexer": "ipython3",
      "version": "3.10.5"
    }
  },
  "nbformat": 4,
  "nbformat_minor": 0
}
