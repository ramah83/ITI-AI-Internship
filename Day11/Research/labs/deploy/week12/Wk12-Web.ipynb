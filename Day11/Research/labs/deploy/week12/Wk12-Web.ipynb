{
 "cells": [
  {
   "cell_type": "markdown",
   "metadata": {},
   "source": [
    "# Week 12\n",
    "### Building applications, deployment of ML models"
   ]
  },
  {
   "cell_type": "markdown",
   "metadata": {},
   "source": [
    "A lot of steps and different skills are involved into collecting data to analysis and modeling, to developing and maintaining intelligent data-driven applications. \n",
    "\n",
    "We can roughly define two major roles:\n",
    "\n",
    " - Data scienctist:\n",
    "     * in most cases should be a domain expert\n",
    "     * analyzes the data, creates ML models\n",
    "     * makes predictions, evaluates the results\n",
    "     * presents the results\n",
    "\n",
    " - Data engineer:\n",
    "     * designs and develops data analysis pipelines\n",
    "     * creates and maintains data-oriented applications built based on data scientist's models and prototypes \n",
    "\n",
    "Some aspects are discussed in this blog article: https://blog.panoply.io/what-is-the-difference-between-a-data-engineer-and-a-data-scientist"
   ]
  },
  {
   "cell_type": "markdown",
   "metadata": {},
   "source": [
    "### Sharing the Notebooks\n",
    "\n",
    "Requires all packages and data installed. Binder can simplify deployment\n",
    "\n",
    "https://github.com/biof509/biof509-spring2018/tree/master/week11"
   ]
  },
  {
   "cell_type": "code",
   "execution_count": null,
   "metadata": {},
   "outputs": [],
   "source": []
  },
  {
   "cell_type": "markdown",
   "metadata": {},
   "source": [
    "### Building web applications\n",
    "\n",
    "Browser is the client for web applications and do not have any dependencies. It is relatively easy to share in the lab if you have a common server. Web applications can in principle be scaled to extremely large user bases."
   ]
  },
  {
   "cell_type": "markdown",
   "metadata": {},
   "source": [
    "![](https://danidee10.github.io/images/flask-5-overview.png)"
   ]
  },
  {
   "cell_type": "markdown",
   "metadata": {},
   "source": [
    "# Example 1\n",
    "\n",
    "    Requirements:\n",
    "    pip install flask\n",
    "    \n",
    "    Javascript\n",
    "    \n",
    "    \n",
    "Open web_example1.zip"
   ]
  },
  {
   "cell_type": "markdown",
   "metadata": {},
   "source": [
    "# Example 2\n",
    "\n",
    "    Requirements:\n",
    "    pip install pymysql\n",
    "    pip install sqlalchemy\n",
    "    pip install weblogo\n",
    "    pip install flask\n",
    "\n",
    "Open web_example2.zip\n"
   ]
  },
  {
   "cell_type": "code",
   "execution_count": 4,
   "metadata": {},
   "outputs": [],
   "source": [
    "from pprint import pprint"
   ]
  },
  {
   "cell_type": "code",
   "execution_count": 5,
   "metadata": {},
   "outputs": [],
   "source": [
    "from sqlalchemy import *\n",
    "# from sqlalchemy.ext.automap import automap_base"
   ]
  },
  {
   "cell_type": "code",
   "execution_count": 6,
   "metadata": {},
   "outputs": [],
   "source": [
    "from sqlalchemy.pool import NullPool\n",
    "\n",
    "engine = create_engine('mysql+pymysql://genome@genome-mysql.cse.ucsc.edu/hg38', poolclass=NullPool)  # , echo=True"
   ]
  },
  {
   "cell_type": "code",
   "execution_count": 7,
   "metadata": {},
   "outputs": [
    {
     "name": "stdout",
     "output_type": "stream",
     "text": [
      "Record # 0\n",
      "\tGene NR_046018 (DDX11L1)\n",
      "\tCDS location chr1 14409-14409 on strand +\n",
      "Record # 1\n",
      "\tGene NR_106918 (MIR6859-1)\n",
      "\tCDS location chr1 17436-17436 on strand -\n",
      "Record # 2\n",
      "\tGene NR_107062 (MIR6859-2)\n",
      "\tCDS location chr1 17436-17436 on strand -\n",
      "Record # 3\n",
      "\tGene NR_107063 (MIR6859-3)\n",
      "\tCDS location chr1 17436-17436 on strand -\n",
      "Record # 4\n",
      "\tGene NR_128720 (MIR6859-4)\n",
      "\tCDS location chr1 17436-17436 on strand -\n"
     ]
    }
   ],
   "source": [
    "# Selected columns\n",
    "with engine.connect() as connection:\n",
    "    result = connection.execute(\"SELECT name, name2, chrom, strand, cdsStart, cdsEnd FROM refGene LIMIT 5\")\n",
    "    for i, row in enumerate(result):\n",
    "        print(\"Record #\", i)\n",
    "        print(\"\\tGene {} ({})\".format(row['name'], row['name2']))\n",
    "        print(\"\\tCDS location {} {}-{} on strand {}\".format(row['chrom'], row['cdsStart'], row['cdsEnd'], row['strand']))"
   ]
  },
  {
   "cell_type": "code",
   "execution_count": 8,
   "metadata": {},
   "outputs": [
    {
     "name": "stdout",
     "output_type": "stream",
     "text": [
      "['bin',\n",
      " 'name',\n",
      " 'chrom',\n",
      " 'strand',\n",
      " 'txStart',\n",
      " 'txEnd',\n",
      " 'cdsStart',\n",
      " 'cdsEnd',\n",
      " 'exonCount',\n",
      " 'exonStarts',\n",
      " 'exonEnds',\n",
      " 'score',\n",
      " 'name2',\n",
      " 'cdsStartStat',\n",
      " 'cdsEndStat',\n",
      " 'exonFrames']\n",
      "\n",
      "strand CHAR(1)\n"
     ]
    }
   ],
   "source": [
    "meta = MetaData(bind=engine)\n",
    "meta.reflect(only=['refGene', 'snp147Common'])\n",
    "# there's no primary key in this table, unfortunately, we need to add it manually\n",
    "gene_table = Table('refGene',\n",
    "    meta,\n",
    "    PrimaryKeyConstraint('name'),\n",
    "    extend_existing=True)\n",
    "\n",
    "pprint(gene_table.columns.keys())\n",
    "print()\n",
    "print(gene_table.c.strand.name, gene_table.c.strand.type)\n"
   ]
  },
  {
   "cell_type": "code",
   "execution_count": 9,
   "metadata": {},
   "outputs": [],
   "source": [
    "import sqlalchemy.orm as orm\n",
    "session = orm.sessionmaker()(bind=engine)"
   ]
  },
  {
   "cell_type": "code",
   "execution_count": 10,
   "metadata": {},
   "outputs": [
    {
     "name": "stdout",
     "output_type": "stream",
     "text": [
      "<__main__.Gene object at 0x1044626a0>\n"
     ]
    }
   ],
   "source": [
    "class Gene(object):\n",
    "    pass\n",
    "\n",
    "orm.mapper(Gene, gene_table)\n",
    "\n",
    "g = session.query(Gene).filter_by(name2='ZNF107').first()\n",
    "print(g)"
   ]
  },
  {
   "cell_type": "code",
   "execution_count": 11,
   "metadata": {},
   "outputs": [
    {
     "name": "stdout",
     "output_type": "stream",
     "text": [
      "<__main__.SNP object at 0x104492390>\n"
     ]
    }
   ],
   "source": [
    "snp_table = Table('snp147Common',\n",
    "    meta,\n",
    "    PrimaryKeyConstraint('name'),\n",
    "    extend_existing=True)\n",
    "\n",
    "class SNP(object):\n",
    "    snp_class = Column('class', String)\n",
    "\n",
    "orm.mapper(SNP, snp_table)\n",
    "\n",
    "print(session.query(SNP).first())"
   ]
  },
  {
   "cell_type": "code",
   "execution_count": 12,
   "metadata": {
    "scrolled": false
   },
   "outputs": [
    {
     "name": "stdout",
     "output_type": "stream",
     "text": [
      "NM_001276696\n",
      "rs1800899 chr17 7673522 7673523 ['C', 'T']\n",
      "rs17880604 chr17 7674325 7674326 ['C', 'G']\n",
      "rs1625895 chr17 7674796 7674797 ['A', 'C', 'G']\n",
      "rs1800372 chr17 7674891 7674892 ['A', 'G']\n",
      "rs2909430 chr17 7675326 7675327 ['A', 'G']\n",
      "rs1794287 chr17 7675518 7675519 ['C', 'T']\n",
      "rs1794286 chr17 7675892 7675893 ['A', 'T']\n",
      "rs1042522 chr17 7676153 7676154 ['C', 'G']\n",
      "NM_001276695\n",
      "rs1800899 chr17 7673522 7673523 ['C', 'T']\n",
      "rs17880604 chr17 7674325 7674326 ['C', 'G']\n",
      "rs1625895 chr17 7674796 7674797 ['A', 'C', 'G']\n",
      "rs1800372 chr17 7674891 7674892 ['A', 'G']\n",
      "rs2909430 chr17 7675326 7675327 ['A', 'G']\n",
      "rs1794287 chr17 7675518 7675519 ['C', 'T']\n",
      "rs1794286 chr17 7675892 7675893 ['A', 'T']\n",
      "rs1042522 chr17 7676153 7676154 ['C', 'G']\n",
      "NM_001276699\n",
      "rs1800899 chr17 7673522 7673523 ['C', 'T']\n",
      "rs17880604 chr17 7674325 7674326 ['C', 'G']\n",
      "rs1625895 chr17 7674796 7674797 ['A', 'C', 'G']\n",
      "rs1800372 chr17 7674891 7674892 ['A', 'G']\n",
      "NM_001276698\n",
      "rs1800899 chr17 7673522 7673523 ['C', 'T']\n",
      "rs17880604 chr17 7674325 7674326 ['C', 'G']\n",
      "rs1625895 chr17 7674796 7674797 ['A', 'C', 'G']\n",
      "rs1800372 chr17 7674891 7674892 ['A', 'G']\n",
      "NM_000546\n",
      "rs17881850 chr17 7669738 7669739 ['C', 'T']\n",
      "rs17880847 chr17 7670578 7670579 ['A', 'T']\n",
      "rs17883852 chr17 7670996 7670997 ['C', 'G']\n",
      "rs17879377 chr17 7671402 7671403 ['A', 'G']\n",
      "rs1641549 chr17 7671456 7671457 ['A', 'G']\n",
      "rs1641548 chr17 7671460 7671461 ['A', 'G']\n",
      "rs858528 chr17 7671617 7671618 ['A', 'G']\n",
      "rs1642793 chr17 7672245 7672246 ['A', 'G']\n",
      "rs1642791 chr17 7673103 7673104 ['C', 'T']\n",
      "rs1800899 chr17 7673522 7673523 ['C', 'T']\n",
      "rs17880604 chr17 7674325 7674326 ['C', 'G']\n",
      "rs1625895 chr17 7674796 7674797 ['A', 'C', 'G']\n",
      "rs1800372 chr17 7674891 7674892 ['A', 'G']\n",
      "rs2909430 chr17 7675326 7675327 ['A', 'G']\n",
      "rs1794287 chr17 7675518 7675519 ['C', 'T']\n",
      "rs1794286 chr17 7675892 7675893 ['A', 'T']\n",
      "rs1042522 chr17 7676153 7676154 ['C', 'G']\n",
      "rs1800370 chr17 7676260 7676261 ['A', 'G']\n",
      "rs17883323 chr17 7676300 7676301 ['A', 'C']\n",
      "rs1642785 chr17 7676482 7676483 ['A', 'C', 'G']\n",
      "NM_001276697\n",
      "rs17881850 chr17 7669738 7669739 ['C', 'T']\n",
      "rs17880847 chr17 7670578 7670579 ['A', 'T']\n",
      "rs17883852 chr17 7670996 7670997 ['C', 'G']\n",
      "rs17879377 chr17 7671402 7671403 ['A', 'G']\n",
      "rs1641549 chr17 7671456 7671457 ['A', 'G']\n",
      "rs1641548 chr17 7671460 7671461 ['A', 'G']\n",
      "rs858528 chr17 7671617 7671618 ['A', 'G']\n",
      "rs1642793 chr17 7672245 7672246 ['A', 'G']\n",
      "rs1642791 chr17 7673103 7673104 ['C', 'T']\n",
      "rs1800899 chr17 7673522 7673523 ['C', 'T']\n",
      "rs17880604 chr17 7674325 7674326 ['C', 'G']\n",
      "rs1625895 chr17 7674796 7674797 ['A', 'C', 'G']\n",
      "rs1800372 chr17 7674891 7674892 ['A', 'G']\n",
      "NM_001276760\n",
      "rs17881850 chr17 7669738 7669739 ['C', 'T']\n",
      "rs17880847 chr17 7670578 7670579 ['A', 'T']\n",
      "rs17883852 chr17 7670996 7670997 ['C', 'G']\n",
      "rs17879377 chr17 7671402 7671403 ['A', 'G']\n",
      "rs1641549 chr17 7671456 7671457 ['A', 'G']\n",
      "rs1641548 chr17 7671460 7671461 ['A', 'G']\n",
      "rs858528 chr17 7671617 7671618 ['A', 'G']\n",
      "rs1642793 chr17 7672245 7672246 ['A', 'G']\n",
      "rs1642791 chr17 7673103 7673104 ['C', 'T']\n",
      "rs1800899 chr17 7673522 7673523 ['C', 'T']\n",
      "rs17880604 chr17 7674325 7674326 ['C', 'G']\n",
      "rs1625895 chr17 7674796 7674797 ['A', 'C', 'G']\n",
      "rs1800372 chr17 7674891 7674892 ['A', 'G']\n",
      "rs2909430 chr17 7675326 7675327 ['A', 'G']\n",
      "rs1794287 chr17 7675518 7675519 ['C', 'T']\n",
      "rs1794286 chr17 7675892 7675893 ['A', 'T']\n",
      "rs1042522 chr17 7676153 7676154 ['C', 'G']\n",
      "NM_001276761\n",
      "rs17881850 chr17 7669738 7669739 ['C', 'T']\n",
      "rs17880847 chr17 7670578 7670579 ['A', 'T']\n",
      "rs17883852 chr17 7670996 7670997 ['C', 'G']\n",
      "rs17879377 chr17 7671402 7671403 ['A', 'G']\n",
      "rs1641549 chr17 7671456 7671457 ['A', 'G']\n",
      "rs1641548 chr17 7671460 7671461 ['A', 'G']\n",
      "rs858528 chr17 7671617 7671618 ['A', 'G']\n",
      "rs1642793 chr17 7672245 7672246 ['A', 'G']\n",
      "rs1642791 chr17 7673103 7673104 ['C', 'T']\n",
      "rs1800899 chr17 7673522 7673523 ['C', 'T']\n",
      "rs17880604 chr17 7674325 7674326 ['C', 'G']\n",
      "rs1625895 chr17 7674796 7674797 ['A', 'C', 'G']\n",
      "rs1800372 chr17 7674891 7674892 ['A', 'G']\n",
      "rs2909430 chr17 7675326 7675327 ['A', 'G']\n",
      "rs1794287 chr17 7675518 7675519 ['C', 'T']\n",
      "rs1794286 chr17 7675892 7675893 ['A', 'T']\n",
      "rs1042522 chr17 7676153 7676154 ['C', 'G']\n",
      "NM_001126118\n",
      "rs17881850 chr17 7669738 7669739 ['C', 'T']\n",
      "rs17880847 chr17 7670578 7670579 ['A', 'T']\n",
      "rs17883852 chr17 7670996 7670997 ['C', 'G']\n",
      "rs17879377 chr17 7671402 7671403 ['A', 'G']\n",
      "rs1641549 chr17 7671456 7671457 ['A', 'G']\n",
      "rs1641548 chr17 7671460 7671461 ['A', 'G']\n",
      "rs858528 chr17 7671617 7671618 ['A', 'G']\n",
      "rs1642793 chr17 7672245 7672246 ['A', 'G']\n",
      "rs1642791 chr17 7673103 7673104 ['C', 'T']\n",
      "rs1800899 chr17 7673522 7673523 ['C', 'T']\n",
      "rs17880604 chr17 7674325 7674326 ['C', 'G']\n",
      "rs1625895 chr17 7674796 7674797 ['A', 'C', 'G']\n",
      "rs1800372 chr17 7674891 7674892 ['A', 'G']\n",
      "rs2909430 chr17 7675326 7675327 ['A', 'G']\n",
      "rs1794287 chr17 7675518 7675519 ['C', 'T']\n",
      "rs1794286 chr17 7675892 7675893 ['A', 'T']\n",
      "rs1042522 chr17 7676153 7676154 ['C', 'G']\n",
      "NM_001126113\n",
      "rs1800899 chr17 7673522 7673523 ['C', 'T']\n",
      "rs17880604 chr17 7674325 7674326 ['C', 'G']\n",
      "rs1625895 chr17 7674796 7674797 ['A', 'C', 'G']\n",
      "rs1800372 chr17 7674891 7674892 ['A', 'G']\n",
      "rs2909430 chr17 7675326 7675327 ['A', 'G']\n",
      "rs1794287 chr17 7675518 7675519 ['C', 'T']\n",
      "rs1794286 chr17 7675892 7675893 ['A', 'T']\n",
      "rs1042522 chr17 7676153 7676154 ['C', 'G']\n",
      "rs1800370 chr17 7676260 7676261 ['A', 'G']\n",
      "rs17883323 chr17 7676300 7676301 ['A', 'C']\n",
      "rs1642785 chr17 7676482 7676483 ['A', 'C', 'G']\n",
      "NM_001126112\n",
      "rs17881850 chr17 7669738 7669739 ['C', 'T']\n",
      "rs17880847 chr17 7670578 7670579 ['A', 'T']\n",
      "rs17883852 chr17 7670996 7670997 ['C', 'G']\n",
      "rs17879377 chr17 7671402 7671403 ['A', 'G']\n",
      "rs1641549 chr17 7671456 7671457 ['A', 'G']\n",
      "rs1641548 chr17 7671460 7671461 ['A', 'G']\n",
      "rs858528 chr17 7671617 7671618 ['A', 'G']\n",
      "rs1642793 chr17 7672245 7672246 ['A', 'G']\n",
      "rs1642791 chr17 7673103 7673104 ['C', 'T']\n",
      "rs1800899 chr17 7673522 7673523 ['C', 'T']\n",
      "rs17880604 chr17 7674325 7674326 ['C', 'G']\n",
      "rs1625895 chr17 7674796 7674797 ['A', 'C', 'G']\n",
      "rs1800372 chr17 7674891 7674892 ['A', 'G']\n",
      "rs2909430 chr17 7675326 7675327 ['A', 'G']\n",
      "rs1794287 chr17 7675518 7675519 ['C', 'T']\n",
      "rs1794286 chr17 7675892 7675893 ['A', 'T']\n",
      "rs1042522 chr17 7676153 7676154 ['C', 'G']\n",
      "rs1800370 chr17 7676260 7676261 ['A', 'G']\n",
      "rs17883323 chr17 7676300 7676301 ['A', 'C']\n",
      "rs1642785 chr17 7676482 7676483 ['A', 'C', 'G']\n",
      "NM_001126117\n",
      "rs1800899 chr17 7673522 7673523 ['C', 'T']\n",
      "rs17880604 chr17 7674325 7674326 ['C', 'G']\n",
      "rs1625895 chr17 7674796 7674797 ['A', 'C', 'G']\n",
      "rs1800372 chr17 7674891 7674892 ['A', 'G']\n",
      "NM_001126116\n",
      "rs1800899 chr17 7673522 7673523 ['C', 'T']\n",
      "rs17880604 chr17 7674325 7674326 ['C', 'G']\n",
      "rs1625895 chr17 7674796 7674797 ['A', 'C', 'G']\n",
      "rs1800372 chr17 7674891 7674892 ['A', 'G']\n",
      "NM_001126115\n",
      "rs17881850 chr17 7669738 7669739 ['C', 'T']\n",
      "rs17880847 chr17 7670578 7670579 ['A', 'T']\n",
      "rs17883852 chr17 7670996 7670997 ['C', 'G']\n",
      "rs17879377 chr17 7671402 7671403 ['A', 'G']\n",
      "rs1641549 chr17 7671456 7671457 ['A', 'G']\n",
      "rs1641548 chr17 7671460 7671461 ['A', 'G']\n",
      "rs858528 chr17 7671617 7671618 ['A', 'G']\n",
      "rs1642793 chr17 7672245 7672246 ['A', 'G']\n",
      "rs1642791 chr17 7673103 7673104 ['C', 'T']\n",
      "rs1800899 chr17 7673522 7673523 ['C', 'T']\n",
      "rs17880604 chr17 7674325 7674326 ['C', 'G']\n",
      "rs1625895 chr17 7674796 7674797 ['A', 'C', 'G']\n",
      "rs1800372 chr17 7674891 7674892 ['A', 'G']\n",
      "NM_001126114\n",
      "rs1800899 chr17 7673522 7673523 ['C', 'T']\n",
      "rs17880604 chr17 7674325 7674326 ['C', 'G']\n",
      "rs1625895 chr17 7674796 7674797 ['A', 'C', 'G']\n",
      "rs1800372 chr17 7674891 7674892 ['A', 'G']\n",
      "rs2909430 chr17 7675326 7675327 ['A', 'G']\n",
      "rs1794287 chr17 7675518 7675519 ['C', 'T']\n",
      "rs1794286 chr17 7675892 7675893 ['A', 'T']\n",
      "rs1042522 chr17 7676153 7676154 ['C', 'G']\n",
      "rs1800370 chr17 7676260 7676261 ['A', 'G']\n",
      "rs17883323 chr17 7676300 7676301 ['A', 'C']\n",
      "rs1642785 chr17 7676482 7676483 ['A', 'C', 'G']\n"
     ]
    }
   ],
   "source": [
    "session.rollback()\n",
    "\n",
    "variants = {}\n",
    "\n",
    "for g in session.query(Gene).filter(Gene.name2 == 'TP53').filter(Gene.cdsEnd > Gene.cdsStart).all():\n",
    "    print(g.name)\n",
    "    snps = session.query(SNP).filter(\n",
    "        SNP.snp_class=='single').filter(\n",
    "        SNP.strand==g.strand).filter(\n",
    "        SNP.chrom==g.chrom).filter(\n",
    "        SNP.chromStart >= g.cdsStart).filter(\n",
    "        SNP.chromEnd <= g.cdsEnd).all()\n",
    "    for s in snps:\n",
    "        alleles = s.alleles.decode('utf-8')[:-1].split(\",\")\n",
    "        print(s.name, s.chrom, s.chromStart, s.chromEnd, alleles)\n",
    "        variants[(s.chrom, s.chromStart)] = alleles\n",
    "    # break # analyze only one gene record, skip the rest - for testing\n",
    "    "
   ]
  },
  {
   "cell_type": "code",
   "execution_count": 13,
   "metadata": {},
   "outputs": [],
   "source": [
    "import requests, sys, json\n",
    "\n",
    "def get_genome_sequence_ensembl(chrom, start, end):\n",
    "    \"\"\"\n",
    "    API described here http://rest.ensembl.org/documentation/info/sequence_region\n",
    "    \"\"\"\n",
    "    url = 'https://rest.ensembl.org/sequence/region/human/{0}:{1}..{2}:1?content-type=application/json'.format(chrom, start, end)\n",
    "    r = requests.get(url, headers={\"Content-Type\": \"application/json\"}, timeout=10.000)\n",
    "    if not r.ok:\n",
    "        print(\"REST Request FAILED\")\n",
    "        decoded = r.json()\n",
    "        print(decoded['error'])\n",
    "        return\n",
    "    else:\n",
    "        print(\"REST Request OK\")\n",
    "        decoded = r.json()\n",
    "        return decoded['seq']\n"
   ]
  },
  {
   "cell_type": "code",
   "execution_count": 14,
   "metadata": {},
   "outputs": [
    {
     "name": "stdout",
     "output_type": "stream",
     "text": [
      "REST Request OK\n",
      "AGGGTCTGTGCCCCTTTTCCCTGACCAATGCTTTGAAGGGCCTAAGGCTGGGACAACGGGAATTCAAATCAAGATGGTGGCCACACCCCATGCAAATATGTTTACTGAGCACCTCAGAGTATTAGTGTGTATTAGTCTCGTAATCTTCCCTTACCCCATTTTACTTTATTTATCTTTTTTGAGACGGAGTTTCACTCTTGTTGCCCAGGCTGGAGTGTAATGGTGAGATCTCAGCTCACCGCAACCTCTGCCTCCCGGGTTCAAGCGATTCTCCTGCCTCAGCCTCCCGAGTAGGTAGCTGGGATTACAGGCATGCATCACCACGCCCGGCTACTTTTGTATTTTTAGTAGAGATGGGGTTTCTCCATGTTGGTCAGGCTGGGCTCAAACTCCCGACCTCAGGTGATCCACTCGCCTTGGCCTCCCAGAGTGTGGGATTCGTGAGCCACTGCGCCCGGCCCCCTTACCCCATTTTATATATAAGGAAACTGAGTTTGACGGGGGTCACCTAGGACCTGCCGGTGCATGGCAGGGCTGAGTATATGACCTGAAACTCTGGCTGTATTCAGTATTACACAATTATTAGGCCCCTCCTTGAGACCCTCCAGCTCTGGGCTGGGAGTTGCGGAGAATGGCAAAGAAGTATCCACACTCGTCCCTGGGTTTGGATGTTCTGTGGATACACTGAGGCAAGAATGTGGTTATAGGATTCAACCGGAGGAAGACTAAAAAAATGTCTGTGCAGGGCTGGGACCCAATGAGATGGGGTCAGCTGCCTTTGACCATGAAGGCAGGATGAGAATGGAATCCTATGGCTTTCCAACCTAGGAAGGCAGGGGAGTAGGGCCAGGAAGGGGCTGAGGTCACTCACCTGGAGTGAGCCCTGCTCCCCCCTGGCTCCTTCCCAGCCTGGGCATCCTTGAGTTCCAAGGCCTCATTCAGCTCTCGGAACATCTCGAAGCGCTCACGCCCACGGATCTGCAGCAACAGAGGAGGGGGAGAAGTAAGTATATACACAGTACCTGAGTTAAAAGATGGTTCAAGTTACAATTGTTTGACTTTATGACGGTACAAAAGCAACATGCATTTAGTAGAAACTGCACTTCAAGTACCTATACAGCTGACTTTTAAAAATATTTATTTATTTATTTTGAGATGGGGTCTCACTCTGTTGCCCAGGCGGGAGTGCAATGGTGCAATCTTGGCTGATTGCAATCTCCGCCTCTGGGGTTCAAGTGATTCTTGTGCCTCAGCCTCCCGAGTAGCTGGGACTACAGGCGTGTGCTACCACACCTGGCTAATTTTTGTGTTTTTAGTAGAGATGGGGCTTCACCATGTTAGCCAGGCTGGTTTCCAACTCCTGACGTCAGGTGATCTACCCACCTCCACCTCCCAAAGTGCTGGGATTACAGGTGTGAGCCACTGTGCCCGGCCCTTTTTTAAATTTTAGAGATGATGTCTTGCTATGTTGTTCAGGCTGGACTCAAACTCTTGGGCTCAAGAGATCCTCCTGCCTTAGCCTCTCAAGTAACTGGGACTACATGTGCATGCGACTGTGCCTCGTTTCTTTTCTTTTTTTTCTGAGACGGAGTCTCACTCTATCGCCCAGGCTGGAGTGCAGTGGCGCCATCTTGGCTCCCTGCAACCTCCGCCTCCTGGTTCAAGCGATTCTCCTGCCTCAGCCTCCCAAGTAGCTGGGATTACAGGCACCTGCCATCACGCCCGGTTAATTTTTGTATTTTAGTAGAGACGGGGTTTCACCATGTTGGCTAGGCTGGTCTTGAACTCCTGACCTCAGGTGATCCACCCGCCTCAGCCTCCCGAAATGCTGGGATTACAGGCGTGAGCCAGTGCGCCTGGCCTTTTCTTTTTTTGAGTCTCGCTCTGCGCCCAGGCTGTGCCTGGCTCGACTGTGCCTCCTTTCATGCAACCATGCTGTTTCTCACTTTCAGTAACAATATTCAATAAATCACATGAGATATACAACATTTTATTACTATAAAAAGGGCTTTGTGTTAGATGACTTTGCCCAACTGTAGGGTAACTTAAATGCTCTGAACACGTTTCAAGTAGGCTAGGGCTGAGTGTGGTAGCTCATGCCTGTAACCCCAATACTTGGGGAGGCTGAGGTGGAAGGATTGATTGAGCCCAGGGGTTTGATACCAGCATGGGCAACGTAGCAAGACCTTGACTTCACAGAAAATAAAAAATTAGCTGGGTGTCGTGGCATGTGCCTGTAGTCCTAGCTACTTGGGAGGGTGAAATCACCGGAGCCCAGGGAGGTCAAGGCTGCAGTGAGCTGAGATGGTGCCACTGCACTCTAGCCTGAGTGACAGAGTGAGACTCTGTCTTTAAATAAATAAATAAAAATTAGCCGGGCGTGGTGGCTCACACCTGTAATCCCAGCACTTTGGGAGGCCGAGGCGGGCGGATCACATGGTCAGAAGTTCGAGACCAGCCTGGCCAACATGGTGAAACCCTGTCTCTACTAAAAATACAAAAATTAGCTGGGCGTGGTAGCAGGCGCTTGTAGTCCTAGCTATTCGGGAGGCTGAGGCAGGAGAATCACTTGAACCCAGGAGGCAGAGGTTGCAGTGAGCCGAGATCATGCCACTGCACTCCAGCCTGGGCGACAGAGTGAGACTGAGTCTCAAAAAAATAAAATAAAATAAAATAAAAATAAATAAATAAAAATTAGCCAGGCATGGTGGTGCAGGCCTGTAGTTGAAGCAACTTGGGAGGCTGAGCTGGGAGGATGGATGGAGCCTGGGAGGTGGAGGCTGCAGTGAGCTGTGACTGCACTACTGCACTCTATCCAGCCTGGGTGACAGAGCAAGACCTTGTCTCAAAAAAGTAGGCTAGAGACCAGCCTGGGCAACATAGTGAGACTCTATCTATCTACAAAAAATTTTAAAAATTAGCTGGGTATGGTGGTGTATGCCTGTGGTCCTAGCTACTGGGGAGGCAGAGTTAGGGGGATTGCTTGAGCCCAGGAGGGTATAATGAGCTATGATCACATCACTGTAATCCAGCCTGGGCAACAGAGCAAGATGCTGTCTCCATTAAAAATAAAATAAAAGTAGGCTAGGCAGGCCGGGTGCGGTGGCTCACGCCTGTAATCCCAGCACTTTGGGAGGCCAAGGCAGGCAGATCACAAGGTCAGGAGTTCGAGACTAGCCTGGCCAACATGGTGAAACCTCATCTCTACTAAAAAAAAAAATAAATAAATAACAAAAAATTAGCTGGGCGTCGGGGCAGGTGCCTGTAATCCCAGCTACTCAGTGGGCTGAGGCAGGAGAATCGCTTGAACCCAGAAGGCGGAGGTTGCAGTGAGCCGAGATCCCGCCACTGCACTCCAGCCTGGGTGACAGAGTGAGACTCTGTCTCCAAAAAAAAAAAAAAAAAAAGCAGGCTAGGCTAAGCTATGATGTTCCTTAGATTAGGTGTATTAAATCCATTTTCAACTTACAATATTTTCAACTTACGACGAGTTTATCAGGAAGTAACACCATCGTAAGTCAAGTAGCATCTGTATCAGGCAAAGTCATAGAACCATTTTCATGCTCTCTTTAACAATTTTCTTTTTGAAAGCTGGTCTGGTCCTTTAAAATATATATTATGGTATAAGTTGGTGTTCTGAAGTTAGTTAGCTACAACCAGGAGCCATTGTCTTTGAGGCATCACTGCCCCCTGATGGCAAATGCCCCAATTGCAGGTAAAACAGTCAAGAAGAAAACGGCATTTTGAGTGTTAGACTGGAAACTTTCCACTTGATAAGAGGTCCCAAGACTTAGTACCTGAAGGGTGAAATATTCTCCATCCAGTGGTTTCTTCTTTGGCTGGGGAGAGGAGCTGGTGTTGTTGGGCAGTGCTAGGAAAGAGGCAAGGAAAGGTGATAAAAGTGAATCTGAGGCATAACTGCACCCTTGGTCTCCTCCACCGCTTCTTGTCCTGCTTGCTTACCTCGCTTAGTGCTCCCTGGGGGCAGCTCGTGGTGAGGCTCCCCTTTCTTGCGGAGATTCTCTTCCTCTGTGCGCCGGTCTCTCCCAGGACAGGCACAAACACGCACCTCAAAGCTGTTCCGTCCCAGTAGATTACCACTACTCAGGATAGGAAAAGAGAAGCAAGAGGCAGTAAGGAAATCAGGTCCTACCTGTCCCATTTAAAAAACCAGGCTCCATCTACTCCCAACCACCCTTGTCCTTTCTGGAGCCTAAGCTCCAGCTCCAGGTAGGTGGAGGAGAAGCCACAGGTTAAGAGGTCCCAAAGCCAGAGAAAAGAAAACTGAGTGGGAGCAGTAAGGAGATTCCCCGCCGGGGATGTGATGAGAGGTGGATGGGTAGTAGTATGGAAGAAATCGGTAAGAGGTGGGCCCAGGGGTCAGAGGCAAGCAGAGGCTGGGGCACAGCAGGCCAGTGTGCAGGGTGGCAAGTGGCTCCTGACCTGGAGTCTTCCAGTGTGATGATGGTGAGGATGGGCCTCCGGTTCATGCCGCCCATGCAGGAACTGTTACACATGTAGTTGTAGTGGATGGTGGTACAGTCAGAGCCAACCTAGGAGATAACACAGGCCCAAGATGAGGCCAGTGCGCCTTGGGGAGACCTGTGGCAAGCAGGGGAGGCCTTTTTTTTTTTTTTTTGAGATGGAATCTCGCTCTGTCGCCCAGGCTGGAGTGCAGTGGCGTGATCTCAGCTCACTGCAAGCTCCACCGCCCAGGTTCACGCCATTCTCCTTCCTCAGCCTCCCGAGTAGCTGGGACTACAGGTGCCCAGCACCACGCCCGGCTAATTTTTTTTTGTATTTTTCAGTAGAGACGGGGTTTCACCGTTAGCCAGGATGGTCTCGATCTCCCAACCTCGTGATCCGCCTGCCTTGGCCTCCCAAAGTGCTGGGATTACAGGCATGAGCCACTGCGCCCAGCCAAGCAGGGGAGGCCCTTAGCCTCTGTAAGCTTCAGTTTTTTCAACTGTGCAATAGTTAAACCCATTTACTTTGCACATCTCATGGGGTTATAGGGAGGTCAAATAAGCAGCAGGAGAAAGCCCCCCTACTGCTCACCTGGAGGGCCACTGACAACCACCCTTAACCCCTCCTCCCAGAGACCCCAGTTGCAAACCAGACCTCAGGCGGCTCATAGGGCACCACCACACTATGTCGAAAAGTGTTTCTGTCATCCAAATACTCCACACGCAAATTTCCTTCCACTCGGATAAGATGCTGAGGAGGGGCCAGACCTAAGAGCAATCAGTGAGGAATCAGAGGCCTGGGGACCCTGGGCAACCAGCCCTGTCGTCTCTCCAGCCCCAGCTGCTCACCATCGCTATCTGAGCAGCGCTCATGGTGGGGGCAGCGCCTCACAACCTCCGTCATGTGCTGTGACTGCTTGTAGATGGCCATGGCGCGGACGCGGGTGCCGGGCGGGGGTGTGGAATCAACCCACAGCTGCACAGGGCAGGTCTTGGCCAGTTGGCAAAACATCTTGTTGAGGGCAGGGGAGTACTGTAGGAAGAGGAAGGAGACAGAGTTGAAAGTCAGGGCACAAGTGAACAGATAAAGCAACTGGAAGACGGCAGCAAAGAAACAAACATGCGTAAGCACCTCCTGCAACCCACTAGCGAGCTAGAGAGAGTTGGCGTCTACACCTCAGGAGCTTTTCTTTTTTTTTTTTTTTTTTGAGATAGGGTCTTGCTCTGTCACTCAGGCTGGAGCACAGTGGTGTGATCACAGCTCACTGCAGCCTCCATCTCCTGGCCTCAAGTGATCTTCCCACCTCAGCCTCCTAAGTGGCTGGGACTATAGGTGTGCACCACCATGCCTGGCTAATTTTTTGTATTTTTTTGTAGAGACGAGGTTTCATCATGTTACCCAGGCTGGTCTTGAACTCCTGGGCTCAGGTGATCTGCCTGCCTTGGCCTCTTTGAGAGTGCTGGGATTGCAGGTGTGAGCCACCAAGCCTGGTCAGGAGCTTATTTTCAAAAGCCAAGGAATACACGTGGATGAAGAAAAAGAAAAGTTCTGCATCCCCAGGAGAGATGCTGAGGGTGTGATGGGATGGATAAAAGCCCAAATTCAAGGGGGGAATATTCAACTTTGGGACAGGAGTCAGAGATCACACATTAAGTGGGTAAACTATAAAAAAACACTGACAGGAAGCCAAAGGGTGAAGAGGAATCCCAAAGTTCCAAACAAAAGAAATGCAGGGGGATACGGCCAGGCATTGAAGTCTCATGGAAGCCAGCCCCTCAGGGCAACTGACCGTGCAAGTCACAGACTTGGCTGTCCCAGAATGCAAGAAGCCCAGACGGAAACCGTAGCTGCCCTGGTAGGTTTTCTGGGAAGGGACAGAAGATGACAGGGGCCAGGAGGGGGCTGGTGCAGGGGCCGCCGGTGTAGGAGCTGCTGGTGCAGGGGCCACGGGGGGAGCAGCCTCTGGCATTCTGGGAGCTTCATCTGGACCTGGGTCTTCAGTGAACCATTGTTCAATATCGTCCGGGGACAGCATCAAATCATCCATTGCTTGGGACGGCAAGGGGGACTGTAGATGGGTGAAAAGAGCAGTCAGAGGACCAGGTCCTCAGCCCCCCAGCCCCCCAGCCCTCCAGGTCCCCAGCCCTCCAGGTCCCCAGCCCAACCCTTGTCCTTACCAGAACGTTGTTTTCAGGAAGTCTGAAAGACAAGAGCAGAAAGTCAGTCCCATGGAATTTTCGCTTCCCACAGGTCTCTGCTAGGGGGCTGGGGTTGGGGT\n"
     ]
    }
   ],
   "source": [
    "chrom = list(variants.keys())[0][0]\n",
    "positions = [k[1] for k in variants.keys()]\n",
    "start = min(positions)\n",
    "end = max(positions)\n",
    "\n",
    "sequence = get_genome_sequence_ensembl(chrom, start, end)\n",
    "print(sequence)"
   ]
  },
  {
   "cell_type": "code",
   "execution_count": 15,
   "metadata": {},
   "outputs": [
    {
     "name": "stdout",
     "output_type": "stream",
     "text": [
      "Sequence Length 6745\n"
     ]
    },
    {
     "data": {
      "image/png": "[encoded data removed]",
      "text/plain": [
       "<IPython.core.display.Image object>"
      ]
     },
     "execution_count": 15,
     "metadata": {},
     "output_type": "execute_result"
    }
   ],
   "source": [
    "from IPython.display import Image\n",
    "\n",
    "from weblogolib import *\n",
    "from io import StringIO\n",
    "\n",
    "print(\"Sequence Length\", len(sequence))\n",
    "seqs = \"\"\n",
    "# seqs = \">\\n\"+sequence+\"\\n\"\n",
    "for (chrom, position), alleles in variants.items():\n",
    "    for allele in alleles:\n",
    "        seq = [\"-\"]*len(sequence)\n",
    "        seq[start - position] = allele\n",
    "        seqs += \">\\n\" + \"\".join(seq) + \"\\n\"\n",
    "\n",
    "sequences = read_seq_data(StringIO(seqs))\n",
    "data = LogoData.from_seqs(sequences)\n",
    "options = LogoOptions()\n",
    "options.title = 'A Logo Title'\n",
    "options.scale_width = False\n",
    "options.logo_end = 500\n",
    "options.stacks_per_line = 100\n",
    "formatting = LogoFormat(data, options)\n",
    "\n",
    "png = png_formatter(data, formatting)\n",
    "Image(png)\n"
   ]
  }
 ],
 "metadata": {
  "anaconda-cloud": {},
  "kernelspec": {
   "display_name": "Python 3",
   "language": "python",
   "name": "python3"
  },
  "language_info": {
   "codemirror_mode": {
    "name": "ipython",
    "version": 3
   },
   "file_extension": ".py",
   "mimetype": "text/x-python",
   "name": "python",
   "nbconvert_exporter": "python",
   "pygments_lexer": "ipython3",
   "version": "3.6.3"
  },
  "widgets": {
   "state": {},
   "version": "1.1.1"
  }
 },
 "nbformat": 4,
 "nbformat_minor": 1
}
