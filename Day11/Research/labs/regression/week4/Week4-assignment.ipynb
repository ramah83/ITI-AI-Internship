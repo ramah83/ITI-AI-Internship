{
 "cells": [
  {
   "cell_type": "markdown",
   "metadata": {},
   "source": [
    "Before you turn this problem in, make sure everything runs as expected. First, **restart the kernel** (in the menubar, select Kernel$\\rightarrow$Restart) and then **run all cells** (in the menubar, select Cell$\\rightarrow$Run All).\n",
    "\n",
    "Make sure you fill in any place that says `YOUR CODE HERE` or \"YOUR ANSWER HERE\"."
   ]
  },
  {
   "cell_type": "markdown",
   "metadata": {
    "deletable": false,
    "editable": false,
    "nbgrader": {
     "checksum": "a4afe7724a92021cf677bd54327641c4",
     "grade": false,
     "grade_id": "cell-f83bb58b03292578",
     "locked": true,
     "schema_version": 1,
     "solution": false
    }
   },
   "source": [
    "# Week4 Assignment - Regression.\n",
    "\n",
    "For this assignment, you will use the Ames housing dataset. The basic goal of this assignment is to predict housing prices for houses in Ames, Iowa.\n",
    "\n",
    "In the first component, you will load the training dataset and convert it into a Pandas dataframe.\n",
    "\n",
    "In the second component, you will plot the data. This component is ungraded.\n",
    "\n",
    "In the third component, you will preprocess the data.\n",
    "\n",
    "In the fourth component, you will build a linear regression model.\n",
    "\n",
    "In the fifth component, you will build a random forest model.\n",
    "\n",
    "All the exercises are designed so that the solutions will need only one or a few lines of code.\n",
    "\n",
    "Do not hesitate to contact instuctors and TA via #week4 channel on Slack if you get stuck. Join the channel first by clicking on Channels."
   ]
  },
  {
   "cell_type": "markdown",
   "metadata": {
    "deletable": false,
    "editable": false,
    "nbgrader": {
     "checksum": "55d8a6d1a5cb0b44fca4b63216f00a9f",
     "grade": false,
     "grade_id": "cell-f6b1a85538f737d8",
     "locked": true,
     "schema_version": 1,
     "solution": false
    }
   },
   "source": [
    "## Part A. Read in the Ames dataset. \n",
    "\n",
    "In this component you will read the Ames housing dataset into a Pandas data frame. This dataset contains samples of Ames houses, with multiple features. The value we want to predict is the cost of given house.\n",
    "\n",
    "Make sure you download the ames_train.csv file from the course website. Do not manually modify the ames datasets.\n",
    "\n",
    "Save to a data frame named ames_data."
   ]
  },
  {
   "cell_type": "code",
   "execution_count": null,
   "metadata": {
    "deletable": false,
    "nbgrader": {
     "checksum": "f251ad673c30a4e8a637c64bba3718ad",
     "grade": false,
     "grade_id": "cell-c1e7f79ad332b8f9",
     "locked": false,
     "schema_version": 1,
     "solution": true
    }
   },
   "outputs": [],
   "source": [
    "import pandas as pd\n",
    "import numpy as np\n",
    "\n",
    "# Load the ames dataset into a pandas dataframe\n",
    "# Make sure to save as \"ames_data\"\n",
    "\n",
    "# YOUR CODE HERE\n",
    "pass\n",
    "\n",
    "# You can make sure you loaded it correctly by looking at its first few rows, using the .head() function\n",
    "#print(ames_data.head())"
   ]
  },
  {
   "cell_type": "code",
   "execution_count": null,
   "metadata": {
    "deletable": false,
    "editable": false,
    "nbgrader": {
     "checksum": "fe3c5c5d1be8765aa720e3e8c4708c7c",
     "grade": true,
     "grade_id": "cell-fd50146eeead0c65",
     "locked": true,
     "points": 1,
     "schema_version": 1,
     "solution": false
    }
   },
   "outputs": [],
   "source": [
    "assert isinstance(ames_data, pd.core.frame.DataFrame)\n",
    "assert ames_data.shape == (1460, 81)\n",
    "assert ames_data[\"FirstFlrSF\"].sum() == 1697435\n",
    "assert ames_data[\"SecondFlrSF\"].sum() == 506609\n",
    "assert ames_data.isnull().sum().sum() == 6965"
   ]
  },
  {
   "cell_type": "markdown",
   "metadata": {
    "deletable": false,
    "editable": false,
    "nbgrader": {
     "checksum": "a63a550ae60199a02b743b1eda597452",
     "grade": false,
     "grade_id": "cell-42b4c714bb27e04c",
     "locked": true,
     "schema_version": 1,
     "solution": false
    }
   },
   "source": [
    "## Part B. Plot the data.\n",
    "Now that we've loaded the data, let's take a look at some features.\n",
    "\n",
    "Perhaps naively, you think that the best predictors for house prices are the square footage values (\"FirstFlrSF\", \"SecondFlrSF\").\n",
    "\n",
    "Go ahead and plot a histogram of each, to get an idea of their distributions. See if you see anything interesting.\n",
    "\n",
    "Following this, maybe try to get feel of the relationship between each of these and our target (\"SalePrice\", the house prices). Plot a scatter plot with SalePrice on the Y axis and FirststFlrSF on the X axis. Does it look like it may be a good predictor? What about SecondFlrSF?\n",
    "\n",
    "What about the sum of the two? Plot a scatter plot with SalePrice on the Y axis and the sum of FirstFlrSF and SecondFlrSF on the X axis."
   ]
  },
  {
   "cell_type": "code",
   "execution_count": null,
   "metadata": {},
   "outputs": [],
   "source": [
    "import matplotlib.pyplot as plt\n",
    "%matplotlib inline\n"
   ]
  },
  {
   "cell_type": "markdown",
   "metadata": {
    "deletable": false,
    "editable": false,
    "nbgrader": {
     "checksum": "a1d0ace1c3f158d85cfcabef14c98c9f",
     "grade": false,
     "grade_id": "cell-f1a2948810aa64f5",
     "locked": true,
     "schema_version": 1,
     "solution": false
    }
   },
   "source": [
    "## Part C. Preprocess the data.\n",
    "\n",
    "It looks like the sum of FirstFlrSF and SecondFlrSF may be good predictors.\n",
    "\n",
    "Create a new column, named sqft_sum, that contains the summation of these two."
   ]
  },
  {
   "cell_type": "code",
   "execution_count": null,
   "metadata": {
    "deletable": false,
    "nbgrader": {
     "checksum": "baffa79bde7f26891b2f4a1b6cac220f",
     "grade": false,
     "grade_id": "cell-8d46731c6bc218b6",
     "locked": false,
     "schema_version": 1,
     "solution": true
    }
   },
   "outputs": [],
   "source": [
    "# YOUR CODE HERE\n",
    "pass"
   ]
  },
  {
   "cell_type": "code",
   "execution_count": null,
   "metadata": {
    "deletable": false,
    "editable": false,
    "nbgrader": {
     "checksum": "185a8497d949d36dc376d55e5c2b081a",
     "grade": true,
     "grade_id": "cell-c7edebc7b2cd1c7b",
     "locked": true,
     "points": 1,
     "schema_version": 1,
     "solution": false
    }
   },
   "outputs": [],
   "source": [
    "assert ames_data.shape == (1460, 82)\n",
    "assert \"sqft_sum\" in ames_data.columns\n",
    "assert ames_data[\"sqft_sum\"].sum() == 2204044"
   ]
  },
  {
   "cell_type": "markdown",
   "metadata": {
    "deletable": false,
    "editable": false,
    "nbgrader": {
     "checksum": "ea833cfd5982cc8372e4d242befe524d",
     "grade": false,
     "grade_id": "cell-89156896ac8d048c",
     "locked": true,
     "schema_version": 1,
     "solution": false
    }
   },
   "source": [
    "## Part D. Build a linear regression model.\n",
    "Build a linear regression model based on the Ames data. The features you will be using are: sqft_sum and Fireplaces (the number of fireplaces in the house).\n",
    "\n",
    "Name the model *lr*.\n",
    "\n",
    "Once the model is trained, predict the SalePrice for the same data you trained on. Name the predictions *y_preds*.\n",
    "\n",
    "Hints:\n",
    "* Use sklearn's LinearRegression function to fit a model."
   ]
  },
  {
   "cell_type": "code",
   "execution_count": null,
   "metadata": {
    "deletable": false,
    "nbgrader": {
     "checksum": "c49c7285e7372456b2e35718e3dd818d",
     "grade": false,
     "grade_id": "cell-b3bd68da8483ec11",
     "locked": false,
     "schema_version": 1,
     "solution": true
    }
   },
   "outputs": [],
   "source": [
    "from sklearn.linear_model import LinearRegression\n",
    "\n",
    "# YOUR CODE HERE\n",
    "pass"
   ]
  },
  {
   "cell_type": "code",
   "execution_count": null,
   "metadata": {
    "deletable": false,
    "editable": false,
    "nbgrader": {
     "checksum": "07790fdc51c9ecafa046bf4917e573a8",
     "grade": true,
     "grade_id": "cell-346d5411d0d8d874",
     "locked": true,
     "points": 1,
     "schema_version": 1,
     "solution": false
    }
   },
   "outputs": [],
   "source": [
    "from sklearn.metrics import mean_squared_error\n",
    "\n",
    "assert isinstance(lr, LinearRegression)\n",
    "assert np.isclose(y_preds.sum(), 264144945.99999997)\n",
    "assert np.isclose(np.sqrt(mean_squared_error(y, y_preds)), 54087.066902509694)"
   ]
  },
  {
   "cell_type": "markdown",
   "metadata": {
    "deletable": false,
    "editable": false,
    "nbgrader": {
     "checksum": "6e69f56283c4321b5305879d67ba3e42",
     "grade": false,
     "grade_id": "cell-1ab6d8c101db828c",
     "locked": true,
     "schema_version": 1,
     "solution": false
    }
   },
   "source": [
    "## Part E. Build a random forest model.\n",
    "Build a random forest model based on the Ames data. The features you will be using are: sqft_sum and Fireplaces (the number of fireplaces in the house).\n",
    "\n",
    "Name the model *rf*.\n",
    "\n",
    "Once the model is trained, predict the SalePrice for the same data you trained on. Name the predictions *y_preds*.\n",
    "\n",
    "Hints:\n",
    "* Use sklearn's RandomForestRegressor function to fit a model."
   ]
  },
  {
   "cell_type": "code",
   "execution_count": null,
   "metadata": {
    "deletable": false,
    "nbgrader": {
     "checksum": "699db5992f591a0af20afa17f406b485",
     "grade": false,
     "grade_id": "cell-rfmodel",
     "locked": false,
     "schema_version": 1,
     "solution": true
    }
   },
   "outputs": [],
   "source": [
    "from sklearn.ensemble import RandomForestRegressor\n",
    "np.random.seed(42) # do not remove this line\n",
    "\n",
    "# YOUR CODE HERE\n",
    "pass"
   ]
  },
  {
   "cell_type": "code",
   "execution_count": null,
   "metadata": {
    "deletable": false,
    "editable": false,
    "nbgrader": {
     "checksum": "dd61723568546febb402371d2abc7180",
     "grade": true,
     "grade_id": "cell-rfmodel-asserts",
     "locked": true,
     "points": 1,
     "schema_version": 1,
     "solution": false
    }
   },
   "outputs": [],
   "source": [
    "from sklearn.metrics import mean_squared_error\n",
    "\n",
    "assert isinstance(rf, RandomForestRegressor)\n",
    "assert np.isclose(np.sqrt(mean_squared_error(y, y_preds)), 28891.016368235392)"
   ]
  },
  {
   "cell_type": "code",
   "execution_count": null,
   "metadata": {},
   "outputs": [],
   "source": [
    "x = sklearn.datasets.load_diabetes¶"
   ]
  },
  {
   "cell_type": "code",
   "execution_count": null,
   "metadata": {},
   "outputs": [],
   "source": []
  }
 ],
 "metadata": {
  "kernelspec": {
   "display_name": "Python 3",
   "language": "python",
   "name": "python3"
  },
  "language_info": {
   "codemirror_mode": {
    "name": "ipython",
    "version": 3
   },
   "file_extension": ".py",
   "mimetype": "text/x-python",
   "name": "python",
   "nbconvert_exporter": "python",
   "pygments_lexer": "ipython3",
   "version": "3.6.4"
  }
 },
 "nbformat": 4,
 "nbformat_minor": 2
}
