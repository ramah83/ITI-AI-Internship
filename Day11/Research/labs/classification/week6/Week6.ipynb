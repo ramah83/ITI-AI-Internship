{
 "cells": [
  {
   "cell_type": "markdown",
   "metadata": {
    "slideshow": {
     "slide_type": "slide"
    }
   },
   "source": [
    "##  Supervised Learning\n",
    "## Week 6: Classification\n",
    "\n",
    "\n",
    "Alexander Goncearenco\n",
    "\n",
    "March 14, 2019\n"
   ]
  },
  {
   "cell_type": "code",
   "execution_count": 2,
   "metadata": {
    "slideshow": {
     "slide_type": "skip"
    }
   },
   "outputs": [],
   "source": [
    "import numpy as np\n",
    "import matplotlib\n",
    "import matplotlib.pyplot as plt\n",
    "import seaborn as sns\n",
    "\n",
    "%matplotlib inline"
   ]
  },
  {
   "cell_type": "markdown",
   "metadata": {},
   "source": [
    "### Outline:\n",
    "1. Classification problems in machine learning\n",
    "1. Overview of classification methods\n",
    "1. Implementing basic classification methods with and without sklearn\n",
    "1. Evaluating performace of classification models\n",
    "1. Cross-Validation techniques"
   ]
  },
  {
   "cell_type": "markdown",
   "metadata": {},
   "source": [
    "## 1. Classification problems in machine learning"
   ]
  },
  {
   "cell_type": "markdown",
   "metadata": {},
   "source": [
    "In general, a supervised learning problem requires a dataset of __examples__, where each example can have several  __features__, and a list of __labels__ corresponding to the examples.\n",
    "\n",
    "Once the model has been trained (learned), we can use it to predict labels for new data.\n",
    "\n",
    "\n",
    "If the label is continuous numeric variable, it becomes a **regresson** problem. \n",
    "\n",
    "If the label is a categorical variable, it becomes a **classification** problem. "
   ]
  },
  {
   "cell_type": "markdown",
   "metadata": {},
   "source": [
    "### Types of classification problems\n",
    "\n",
    "In classification we distinguish:\n",
    "\n",
    "* binary classification: predicting one of the two classes (e.g. Healthy vs Disease)\n",
    "\n",
    "* multiclass classification: predicting one of more than two classes (e.g. Dog, ShortCoat)\n",
    "\n",
    "* multilabel classification: predicting several class labels out of more than two classes (e.g. Dog and Horse)\n"
   ]
  },
  {
   "cell_type": "markdown",
   "metadata": {},
   "source": [
    "### Strategies to approach multiclass classification\n",
    "\n",
    "1. Transformation to binary classification:\n",
    "    - One-vs-All creates $C$ classifiers, where $C$ is the number of classes, e.g. Dog vs All, Horse vs All\n",
    "    \n",
    "    - One-vs-One creates $C(C − 1) / 2$ binary classifiers, where $C$ is the number of classes:  e.g. Dog vs Horse, Dog vs Cat, Dog vs Fish ...., Horse vs Cat, Horse vs Fish ...\n",
    "    \n",
    "2. Extension of binary classification methods, e.g. KNearestNeighbors(). Not all methods can be extended to multiclass problem case "
   ]
  },
  {
   "cell_type": "markdown",
   "metadata": {},
   "source": [
    "###  Classification (categoric label) vs Regression (continuous label)\n",
    "\n",
    "Regression and classification methods are related: consider that we predicting the probability of belonging to class A as in binary classification. Probability is a continuous numeric variable. Thus, for instance, Logistic Regression is a classification method.\n",
    "\n",
    "\n",
    "### Classification (supervised) vs Clustering (unsupervised)\n",
    "In clustering we attempt to group observations in such a way that observations assigned to the same cluster are more similar to each other than to observations in other clusters. There is no cluster assignment needed to learn from, the number of categories (clusters) is usually unknown too.\n"
   ]
  },
  {
   "cell_type": "markdown",
   "metadata": {},
   "source": [
    "### Semi-supervised Learning\n",
    " - small amounts of labeled data, where class is known\n",
    " - large amounts of unlabeled data\n",
    " \n",
    "Learning from unlabeled data may help to improve classification performance. We will leave this type of learning problems out of our scope today."
   ]
  },
  {
   "cell_type": "markdown",
   "metadata": {},
   "source": [
    "### A simple one-dimensional problem\n",
    "\n",
    "The task is to classify pixels in an image as object and background classes (binary) based on their intensities.\n",
    "Pixel intensity threshold is our only parameter to learn.\n",
    "We calculate a histogram of pixel intensities and introduce a threshold separating object from background."
   ]
  },
  {
   "cell_type": "code",
   "execution_count": 6,
   "metadata": {},
   "outputs": [
    {
     "name": "stdout",
     "output_type": "stream",
     "text": [
      "Collecting package metadata: ...working... done\n",
      "Solving environment: ...working... done\n",
      "\n",
      "## Package Plan ##\n",
      "\n",
      "  environment location: /Users/agoncear/anaconda/envs/jupyter\n",
      "\n",
      "  added / updated specs:\n",
      "    - scikit-image\n",
      "\n",
      "\n",
      "The following packages will be downloaded:\n",
      "\n",
      "    package                    |            build\n",
      "    ---------------------------|-----------------\n",
      "    cloudpickle-0.8.0          |           py37_0          31 KB\n",
      "    cytoolz-0.9.0.1            |   py37h1de35cc_1         344 KB\n",
      "    dask-core-1.1.4            |             py_0         531 KB\n",
      "    decorator-4.3.2            |           py37_0          17 KB\n",
      "    imageio-2.5.0              |           py37_0         3.3 MB\n",
      "    matplotlib-3.0.3           |   py37h54f8f79_0         6.6 MB\n",
      "    networkx-2.2               |           py37_1         2.0 MB\n",
      "    olefile-0.46               |           py37_0          48 KB\n",
      "    pillow-5.4.1               |   py37hb68e598_0         574 KB\n",
      "    pyparsing-2.3.1            |           py37_0         105 KB\n",
      "    python-dateutil-2.8.0      |           py37_0         281 KB\n",
      "    pytz-2018.9                |           py37_0         268 KB\n",
      "    pywavelets-1.0.2           |   py37h1d22016_0         4.3 MB\n",
      "    scikit-image-0.14.2        |   py37h0a44026_0        23.1 MB\n",
      "    six-1.12.0                 |           py37_0          22 KB\n",
      "    toolz-0.9.0                |           py37_0          91 KB\n",
      "    tornado-6.0.1              |   py37h1de35cc_0         640 KB\n",
      "    ------------------------------------------------------------\n",
      "                                           Total:        42.2 MB\n",
      "\n",
      "The following NEW packages will be INSTALLED:\n",
      "\n",
      "  cloudpickle        pkgs/main/osx-64::cloudpickle-0.8.0-py37_0\n",
      "  cytoolz            pkgs/main/osx-64::cytoolz-0.9.0.1-py37h1de35cc_1\n",
      "  dask-core          pkgs/main/noarch::dask-core-1.1.4-py_0\n",
      "  imageio            pkgs/main/osx-64::imageio-2.5.0-py37_0\n",
      "  networkx           pkgs/main/osx-64::networkx-2.2-py37_1\n",
      "  olefile            pkgs/main/osx-64::olefile-0.46-py37_0\n",
      "  pillow             pkgs/main/osx-64::pillow-5.4.1-py37hb68e598_0\n",
      "  pip                pkgs/main/osx-64::pip-19.0.3-py37_0\n",
      "  pywavelets         pkgs/main/osx-64::pywavelets-1.0.2-py37h1d22016_0\n",
      "  scikit-image       pkgs/main/osx-64::scikit-image-0.14.2-py37h0a44026_0\n",
      "  toolz              pkgs/main/osx-64::toolz-0.9.0-py37_0\n",
      "\n",
      "The following packages will be UPDATED:\n",
      "\n",
      "  decorator                                    4.3.0-py37_0 --> 4.3.2-py37_0\n",
      "  matplotlib                           2.2.3-py37h54f8f79_0 --> 3.0.3-py37h54f8f79_0\n",
      "  pyparsing                                    2.2.0-py37_1 --> 2.3.1-py37_0\n",
      "  python-dateutil                              2.7.3-py37_0 --> 2.8.0-py37_0\n",
      "  pytz                                        2018.5-py37_0 --> 2018.9-py37_0\n",
      "  setuptools                                  40.0.0-py37_0 --> 40.8.0-py37_0\n",
      "  six                                         1.11.0-py37_1 --> 1.12.0-py37_0\n",
      "  tornado                                5.1-py37h1de35cc_0 --> 6.0.1-py37h1de35cc_0\n",
      "  wheel                                       0.31.1-py37_0 --> 0.33.1-py37_0\n",
      "\n",
      "\n",
      "Preparing transaction: ...working... done\n",
      "Verifying transaction: ...working... done\n",
      "Executing transaction: ...working... done\n"
     ]
    }
   ],
   "source": [
    "!conda install -q -y scikit-image\n",
    "# !pip install scikit-image"
   ]
  },
  {
   "cell_type": "code",
   "execution_count": 15,
   "metadata": {},
   "outputs": [
    {
     "name": "stdout",
     "output_type": "stream",
     "text": [
      "(512, 512)\n",
      "[[ True  True  True ...  True  True  True]\n",
      " [ True  True  True ...  True  True  True]\n",
      " [ True  True  True ...  True  True  True]\n",
      " ...\n",
      " [ True  True  True ...  True  True  True]\n",
      " [ True  True  True ...  True  True  True]\n",
      " [ True  True  True ...  True  True  True]]\n"
     ]
    },
    {
     "data": {
      "image/png": "[encoded data removed]",
      "text/plain": [
       "<Figure size 576x180 with 3 Axes>"
      ]
     },
     "metadata": {},
     "output_type": "display_data"
    }
   ],
   "source": [
    "from skimage.data import camera\n",
    "\n",
    "image = camera()\n",
    "print(image.shape)\n",
    "thresh = 50\n",
    "binary = image > thresh\n",
    "print(binary)\n",
    "\n",
    "fig, (ax1, ax2, ax3) = plt.subplots(1, 3, figsize=(8, 2.5))\n",
    "\n",
    "ax1.imshow(image, cmap=plt.cm.gray)\n",
    "ax1.set_title('Original image')\n",
    "ax1.axis('off')\n",
    "\n",
    "ax2.hist(image.flatten(), color='k')\n",
    "ax2.get_yaxis().set_visible(False)\n",
    "ax2.set_title('Histogram\\nof pixel intensities')\n",
    "ax2.axvline(thresh, color='r')\n",
    "\n",
    "ax3.imshow(binary, cmap=plt.cm.gray)\n",
    "ax3.set_title('Thresholded:\\npixels in the object class')\n",
    "ax3.axis('off')\n",
    "\n",
    "plt.show()"
   ]
  },
  {
   "cell_type": "markdown",
   "metadata": {},
   "source": [
    "### Digits dataset is an example of a classification problem\n",
    "\n",
    "* We can consider classification of digits as a __multiclass classification__ or as __10 binary One-vs-All classification__ problems"
   ]
  },
  {
   "cell_type": "markdown",
   "metadata": {},
   "source": [
    "### Question: \n",
    "What would the classification problem look like if each image contained more than one digit?\n",
    "\n",
    "E.g. 12 -  identify labels 1 and 2."
   ]
  },
  {
   "cell_type": "code",
   "execution_count": 20,
   "metadata": {},
   "outputs": [
    {
     "name": "stdout",
     "output_type": "stream",
     "text": [
      "(1797, 64)\n",
      "(1797,)\n",
      "Digits are classes: {0, 1, 2, 3, 4, 5, 6, 7, 8, 9}\n"
     ]
    }
   ],
   "source": [
    "from sklearn import datasets \n",
    "\n",
    "digits = datasets.load_digits()\n",
    "\n",
    "# X - how digits are handwritten\n",
    "X = digits['data']\n",
    "print(X.shape)\n",
    "\n",
    "# y - what these digits actually are\n",
    "y = digits['target']\n",
    "print(y.shape)\n",
    "print(\"Digits are classes:\", set(y))"
   ]
  },
  {
   "cell_type": "code",
   "execution_count": 38,
   "metadata": {},
   "outputs": [],
   "source": [
    "def plot_digit_example(i):\n",
    "    print(\"64 pixel image is assigned class label\", y[i])\n",
    "    fig, ax = plt.subplots(figsize=(1.6, 1.6))\n",
    "    plt.imshow(X[i].reshape((8,8)),  cmap=plt.cm.gray)\n",
    "    plt.show()"
   ]
  },
  {
   "cell_type": "code",
   "execution_count": 43,
   "metadata": {},
   "outputs": [
    {
     "name": "stdout",
     "output_type": "stream",
     "text": [
      "64 pixel image is assigned class label 5\n"
     ]
    },
    {
     "data": {
      "image/png": "[encoded data removed]",
      "text/plain": [
       "<Figure size 115.2x115.2 with 1 Axes>"
      ]
     },
     "metadata": {},
     "output_type": "display_data"
    },
    {
     "name": "stdout",
     "output_type": "stream",
     "text": [
      "64 pixel image is assigned class label 2\n"
     ]
    },
    {
     "data": {
      "image/png": "[encoded data removed]",
      "text/plain": [
       "<Figure size 115.2x115.2 with 1 Axes>"
      ]
     },
     "metadata": {},
     "output_type": "display_data"
    },
    {
     "name": "stdout",
     "output_type": "stream",
     "text": [
      "64 pixel image is assigned class label 1\n"
     ]
    },
    {
     "data": {
      "image/png": "[encoded data removed]",
      "text/plain": [
       "<Figure size 115.2x115.2 with 1 Axes>"
      ]
     },
     "metadata": {},
     "output_type": "display_data"
    }
   ],
   "source": [
    "plot_digit_example(1700)\n",
    "plot_digit_example(50)\n",
    "plot_digit_example(1000)"
   ]
  },
  {
   "cell_type": "markdown",
   "metadata": {},
   "source": [
    "\n"
   ]
  },
  {
   "cell_type": "markdown",
   "metadata": {},
   "source": [
    "## 2. Overview of classification methods"
   ]
  },
  {
   "cell_type": "markdown",
   "metadata": {},
   "source": [
    "Many of the method implement discriminative learning of linear classifiers under convex loss functions."
   ]
  },
  {
   "cell_type": "markdown",
   "metadata": {},
   "source": [
    "* **Nearest Neighbors classifier**\n",
    "\n",
    "http://scikit-learn.org/stable/modules/neighbors.html#nearest-neighbors-classification\n",
    "\n",
    "\n",
    "\n",
    "* **Logistic Regression**\n",
    "\n",
    "http://scikit-learn.org/stable/modules/linear_model.html#logistic-regression\n",
    "\n",
    "\n",
    "\n",
    "* **Neural networks**:\n",
    "    - Simplest example - Perceptron is very similar to logistic regression  http://scikit-learn.org/stable/modules/linear_model.html#perceptron\n",
    "   \n",
    "\n",
    "\n",
    "* **Linear and Quadratic Discriminant Analysis**\n",
    "http://scikit-learn.org/stable/modules/lda_qda.html\n",
    "\n",
    "    - Advantage: closed-form solution, no hyperparameters, can extend to multiclass classification.\n",
    "\n",
    "    - Disadvantage: assumptions about distibutions: Gaussian\n",
    "\n",
    "\n",
    "* **Support Vector Machines** - SVM Classifier: SVC http://scikit-learn.org/stable/modules/svm.html#classification\n",
    "\n",
    "    Optimize a hinge loss functions that defines the width of the decision boundary separating the classes. Support vectors are the examples from two classes closest to the boundary. The larger the boundary - the better. \n",
    "    Advantages include linear and nonlinear options with different kernels. Disadvantage is compuational complexity, does not scale well.\n",
    "    \n",
    "\n",
    "* A generalized version of linear classifiers **Stochastic Gradient Descent**:\n",
    "https://scikit-learn.org/stable/modules/generated/sklearn.linear_model.SGDClassifier.html\n",
    "SGDC has a choice of loss functions: hinge (as in SVM), log (as in logistic regression), ... and supports regularization.\n",
    "SGDC updates by calculating the gradient for each example separately, so it can be trained on very large datasets: out-of-core training with .partial_fit().\n",
    "\n",
    "\n",
    "* **Decision tree**\n",
    "http://scikit-learn.org/stable/modules/tree.html#classification\n",
    "\n",
    "\n",
    "* **Ensemble methods**:\n",
    "\n",
    "    - **Gradient Boosting** approach  http://scikit-learn.org/stable/modules/ensemble.html#gradient-tree-boosting\n",
    "\n",
    "    - Bagging approaches:\n",
    "\n",
    "        - **Voting**\n",
    "        http://scikit-learn.org/stable/modules/ensemble.html#voting-classifier\n",
    "\n",
    "        - **RandomForest**\n",
    "        http://scikit-learn.org/stable/modules/generated/sklearn.ensemble.RandomForestClassifier.html\n",
    "\n",
    "\n",
    "* **Naive Bayes** classifier:\n",
    "http://scikit-learn.org/stable/modules/naive_bayes.html#gaussian-naive-bayes\n",
    "\n",
    "    NB Can be extended to multiclass probelems. Can handle out-of-core training on large datasets easily.\n",
    "\n",
    "\n",
    "* For time series there exist different methods, like **Gaussian process** classifier:\n",
    "http://scikit-learn.org/stable/modules/gaussian_process.html#gaussian-process-classification-gpc\n"
   ]
  },
  {
   "cell_type": "markdown",
   "metadata": {},
   "source": [
    "## 3. Implementing basic classification methods with and without sklearn"
   ]
  },
  {
   "cell_type": "markdown",
   "metadata": {},
   "source": [
    "## Logistic Regression\n",
    "\n",
    "$$z = x^T W + b $$\n",
    "\n",
    "$$p = \\frac{1}{1 + e^{-z}} $$\n",
    "\n",
    "$$Loss = y - p $$\n",
    "\n",
    "$$Cost = \\sum_{examples} −(y log(p) + (1−y)log(1−p)) $$\n",
    "\n",
    "Based on https://visualstudiomagazine.com/Articles/2018/01/04/logistic-regression.aspx?Page=1"
   ]
  },
  {
   "cell_type": "code",
   "execution_count": null,
   "metadata": {},
   "outputs": [],
   "source": []
  },
  {
   "cell_type": "code",
   "execution_count": 144,
   "metadata": {},
   "outputs": [
    {
     "name": "stdout",
     "output_type": "stream",
     "text": [
      "0 4.164090741889398\n",
      "500 1.0595396316126915\n",
      "1000 0.5562550808191428\n",
      "1500 0.39162173801502986\n",
      "\n",
      "Model coefficients\n",
      "W [-1.55263407  1.89030257] \n",
      "b 0.07407288848506441\n"
     ]
    }
   ],
   "source": [
    "def cross_entropy(y, p):\n",
    "    #     if y == 1:\n",
    "    #       return -log(p)\n",
    "    #     else:\n",
    "    #       return -log(1 - p)\n",
    "    return -np.sum( y * np.log(p) + (1 - y) * np.log(1-p))\n",
    "\n",
    "# training data:\n",
    "X = np.array([\n",
    "    [1.5, 2.5],\n",
    "    [3.5, 4.5],\n",
    "    [6.5, 6.5],\n",
    "    [4.5, 1.5],\n",
    "    [5.5, 3.5],\n",
    "    [7.5, 3.5]])\n",
    "\n",
    "# training labels:\n",
    "y = np.array([1,1,1,0,0,0])\n",
    "\n",
    "# initializing the coefficients\n",
    "W = np.random.uniform(low = -0.01, high=0.01, size=X.shape[1]) # w1 w2 ...\n",
    "b = np.random.uniform(low = -0.01, high=0.01) # bias\n",
    "\n",
    "# we stop when there are no significant improvement in\n",
    "cost_threshold = 0.5\n",
    "\n",
    "alpha = 0.01 # learning rate defines how large the updates are on each iteration\n",
    "# there is a trade-off between converging fast and overshooting the optimization target\n",
    "\n",
    "for _ in range(10000):\n",
    "    i = np.random.randint(low=0, high=X.shape[0])\n",
    "    z = np.dot(X[i,], W) + b\n",
    "    p = 1.0 / (1.0 + np.exp(-z))\n",
    "\n",
    "    # update all weights\n",
    "    # gradient ascent log likelihood\n",
    "    W += alpha * X[i,] * (y[i] - p)\n",
    "    b += alpha * (y[i] - p)\n",
    "    \n",
    "    # print debug information once in a while\n",
    "    # stop if converged\n",
    "    if not _ % 500:\n",
    "        z = np.dot(X, W) + b\n",
    "        p = 1.0 / (1.0 + np.exp(-z))\n",
    "        cost = cross_entropy(y, p)\n",
    "        print(_, cost)\n",
    "        if cost < cost_threshold:\n",
    "            break\n",
    "\n",
    "print(\"\\nModel coefficients\")\n",
    "print(\"W\", W, \"\\nb\", b)"
   ]
  },
  {
   "cell_type": "markdown",
   "metadata": {},
   "source": [
    "### Now that the logistic regression model is trained we can predict values"
   ]
  },
  {
   "cell_type": "code",
   "execution_count": 145,
   "metadata": {},
   "outputs": [
    {
     "name": "stdout",
     "output_type": "stream",
     "text": [
      "\n",
      "Original labels  [1 1 1 0 0 0]\n",
      "Predicted proba  [0.92 0.96 0.91 0.02 0.14 0.01]\n",
      "Predicted labels [1 1 1 0 0 0]\n",
      "[0.00591825]\n"
     ]
    }
   ],
   "source": [
    "z = np.dot(X, W) + b\n",
    "p = 1.0 / (1.0 + np.exp(-z))\n",
    "print(\"\\nOriginal labels \", y)\n",
    "print(\"Predicted proba \", np.round(p, 2))\n",
    "print(\"Predicted labels\", np.round(p).astype(int))\n",
    "\n",
    "x = np.array([[4.2, 0.7]])\n",
    "z = np.dot(x, W) + b\n",
    "p = 1.0 / (1.0 + np.exp(-z))\n",
    "print(p)"
   ]
  },
  {
   "cell_type": "markdown",
   "metadata": {},
   "source": [
    "### With scikit-learn"
   ]
  },
  {
   "cell_type": "code",
   "execution_count": 147,
   "metadata": {
    "scrolled": true
   },
   "outputs": [
    {
     "name": "stdout",
     "output_type": "stream",
     "text": [
      "\n",
      "Original labels  [1 1 1 0 0 0]\n",
      "Predicted labels [1 1 1 0 0 0]\n",
      "[[0.17756277 0.82243723]\n",
      " [0.14399378 0.85600622]\n",
      " [0.22639916 0.77360084]\n",
      " [0.85876556 0.14123444]\n",
      " [0.67965885 0.32034115]\n",
      " [0.91363321 0.08636679]]\n",
      "Prediction of label for one point:  [0]\n"
     ]
    }
   ],
   "source": [
    "from sklearn.linear_model import LogisticRegression\n",
    "# from sklearn.metrics import f1_score, precision_score\n",
    "\n",
    "lr = LogisticRegression(solver='lbfgs', max_iter=1000)\n",
    "lr.fit(X, y)\n",
    "# print(lr.coef_)\n",
    "# print(lr.intercept_)\n",
    "# print(y)\n",
    "# print(lr.predict(X))\n",
    "\n",
    "print(\"\\nOriginal labels \", y)\n",
    "print(\"Predicted labels\", lr.predict(X))\n",
    "print(lr.predict_proba(X))\n",
    "\n",
    "print(\"Prediction of label for one point: \", lr.predict(x))"
   ]
  },
  {
   "cell_type": "code",
   "execution_count": 148,
   "metadata": {},
   "outputs": [
    {
     "name": "stdout",
     "output_type": "stream",
     "text": [
      "[0 0 0 0 0 0 0 0 0 0 0 0 0 0 0 0 0 0 0 0 0 0 0 0 0 0 0 0 0 0 0 0 0 0 0 0 0\n",
      " 0 0 0 0 0 0 0 0 0 0 0 0 0 1 1 1 1 1 1 1 1 1 1 1 1 1 1 1 1 1 1 1 1 1 1 1 1\n",
      " 1 1 1 1 1 1 1 1 1 1 1 1 1 1 1 1 1 1 1 1 1 1 1 1 1 1]\n",
      "[0 0 0 0 0 0 0 0 0 0 0 0 0 0 0 0 0 0 0 0 0 0 0 0 0 0 0 0 0 0 0 0 0 0 0 0 0\n",
      " 0 0 0 0 1 0 0 0 0 0 0 0 0 1 1 1 1 1 1 1 1 1 1 1 1 1 1 1 1 1 1 1 1 1 1 1 1\n",
      " 1 1 1 1 1 1 1 1 1 1 1 1 1 1 1 1 1 1 1 1 1 1 1 1 1 1]\n"
     ]
    },
    {
     "name": "stderr",
     "output_type": "stream",
     "text": [
      "/Users/agoncear/anaconda/envs/jupyter/lib/python3.7/site-packages/sklearn/linear_model/logistic.py:433: FutureWarning: Default solver will be changed to 'lbfgs' in 0.22. Specify a solver to silence this warning.\n",
      "  FutureWarning)\n"
     ]
    },
    {
     "data": {
      "image/png": "[encoded data removed]",
      "text/plain": [
       "<Figure size 432x288 with 1 Axes>"
      ]
     },
     "metadata": {},
     "output_type": "display_data"
    }
   ],
   "source": [
    "from sklearn import datasets\n",
    "\n",
    "iris = datasets.load_iris()\n",
    "y = iris.target\n",
    "\n",
    "# select setosa and versicolor and ignore the third class label\n",
    "# extract sepal length and petal length\n",
    "X = iris.data[y < 2, :2]  # [take labels 0 or 1, features 0 and 1]\n",
    "y = y[y<2]\n",
    "\n",
    "lr = LogisticRegression(C=0.1)\n",
    "lr.fit(X, y)\n",
    "print(y)\n",
    "pred_y = lr.predict(X)\n",
    "print(pred_y)\n",
    "\n",
    "# plot data\n",
    "colors = np.where(pred_y == 0.0, 'red', 'blue')\n",
    "plt.scatter(X[y == 0, 0], X[y == 0, 1],\n",
    "            color=colors[y == 0], marker='o', label='setosa')\n",
    "\n",
    "plt.scatter(X[y == 1, 0], X[y == 1, 1],\n",
    "            color= colors[y==1], marker='x', label='versicolor')\n",
    "\n",
    "plt.xlabel('sepal length [cm]')\n",
    "plt.ylabel('petal length [cm]')\n",
    "plt.legend(loc='upper left')\n",
    "\n",
    "plt.show()\n",
    "\n",
    "# Color shows prediction\n",
    "# Shape shows actual value"
   ]
  },
  {
   "cell_type": "markdown",
   "metadata": {},
   "source": [
    "## Nearest Neighbor classifier\n",
    "\n",
    "![](https://upload.wikimedia.org/wikipedia/commons/thumb/e/e7/KnnClassification.svg/266px-KnnClassification.svg.png)\n",
    "\n",
    "Predict class of green dot based on 3 nearest neighbors, 5 nearest neighbors (dashed).\n",
    "K neighbors is a hyperparameter.\n",
    "\n",
    "Note that there is also sklearn.neighbors.RadiusNeighborsClassifier(radius)"
   ]
  },
  {
   "cell_type": "code",
   "execution_count": 149,
   "metadata": {
    "scrolled": false
   },
   "outputs": [
    {
     "name": "stdout",
     "output_type": "stream",
     "text": [
      "[0 0 0 0 0 0 0 0 0 0 0 0 0 0 0 0 0 0 0 0 0 0 0 0 0 0 0 0 0 0 0 0 0 0 0 0 0\n",
      " 0 0 0 0 0 0 0 0 0 0 0 0 0 1 1 1 1 1 1 1 1 1 1 1 1 1 1 1 1 1 1 1 1 1 1 1 1\n",
      " 1 1 1 1 1 1 1 1 1 1 1 1 1 1 1 1 1 1 1 1 1 1 1 1 1 1]\n",
      "[0 0 0 0 0 0 0 0 0 0 0 0 0 0 0 0 0 0 0 0 0 0 0 0 0 0 0 0 0 0 0 0 0 0 0 0 0\n",
      " 0 0 0 0 1 0 0 0 0 0 0 0 0 1 1 1 1 1 1 1 1 1 1 1 1 1 1 1 1 1 1 1 1 1 1 1 1\n",
      " 1 1 1 1 1 1 1 1 1 1 1 1 1 1 1 1 1 1 1 1 1 1 1 1 1 1]\n"
     ]
    },
    {
     "data": {
      "image/png": "[encoded data removed]",
      "text/plain": [
       "<Figure size 432x288 with 1 Axes>"
      ]
     },
     "metadata": {},
     "output_type": "display_data"
    }
   ],
   "source": [
    "from sklearn.neighbors import KNeighborsClassifier\n",
    "\n",
    "iris = datasets.load_iris()\n",
    "y = iris.target\n",
    "# select setosa and versicolor\n",
    "# extract sepal length and petal length\n",
    "X = iris.data[y < 2, :2]\n",
    "y = y[y<2]\n",
    "\n",
    "clf = KNeighborsClassifier(n_neighbors = 7)\n",
    "clf.fit(X, y)\n",
    "print(y)\n",
    "pred_y = clf.predict(X)\n",
    "print(pred_y)\n",
    "\n",
    "# plot data\n",
    "colors = np.where(pred_y == 0.0, 'red', 'blue')\n",
    "plt.scatter(X[y == 0, 0], X[y == 0, 1],\n",
    "            color=colors[y == 0], marker='o', label='setosa')\n",
    "\n",
    "plt.scatter(X[y == 1, 0], X[y == 1, 1],\n",
    "            color= colors[y==1], marker='x', label='versicolor')\n",
    "\n",
    "plt.xlabel('sepal length [cm]')\n",
    "plt.ylabel('petal length [cm]')\n",
    "plt.legend(loc='upper left')\n",
    "\n",
    "plt.show()"
   ]
  },
  {
   "cell_type": "markdown",
   "metadata": {},
   "source": [
    "## Can we now implement solutions for NaiveBayes and SVC?\n",
    "\n",
    "In-class or at home exercise."
   ]
  },
  {
   "cell_type": "markdown",
   "metadata": {},
   "source": [
    "##### Evaluating performace of classifiers\n",
    "\n",
    "### Comparing predicted class labels to actual class labels\n",
    "\n",
    "Consider two classes 0 and 1. For a given test dataset we obtain a vector of predicted class labels and compare it to the vector of actual class labels.\n",
    "\n",
    "For instance,\n",
    "\n",
    "Actual:    [0, 1, 1, 0]\n",
    "\n",
    "Predicted: [0, 0, 1, 1]\n",
    "\n",
    "For class 1: [TN, FN, TP, FP]\n",
    "\n",
    "* TP - True Positive \n",
    "* TN - True Negative \n",
    "* FP - False Positive (Type I error in statistics)\n",
    "* FN - False Negative (Type II error in statistics)\n",
    "\n",
    "Although classes 0 and 1 look interchangeable, the interpretation of the results very much depends on the meaning of each class for your domain-specific problem. For instance, consider a hypotetical test where class 1 means disease and class 0 means healthy and interpret TP, TN, FP, FN.\n",
    "\n",
    "#### Confusion matrix\n",
    "\n",
    "Confusion matrix describes a binary classifier.\n",
    "\n",
    "http://scikit-learn.org/stable/modules/generated/sklearn.metrics.confusion_matrix.html\n",
    "\n",
    "\n",
    "<table>\n",
    "\t\t\t<tbody><tr>\n",
    "\t\t\t\t<td colspan=\"2\" rowspan=\"2\"></td>\n",
    "\t\t\t\t<td colspan=\"2\">Predicted</td>\t\t\t\n",
    "\t\t\t</tr>\n",
    "\t\t\t<tr>\n",
    "\t\t\t\t<td>Negative</td>\n",
    "\t\t\t\t<td>Positive</td>\n",
    "\t\t\t</tr>\n",
    "\t\t\t<tr>\n",
    "\t\t\t\t<td rowspan=\"2\">Actual</td>\n",
    "\t\t\t\t<td>Negative</td>\n",
    "\t\t\t\t<td><b>TN</b></td>\n",
    "\t\t\t\t<td><b>FP</b></td>\n",
    "\t\t\t</tr>\n",
    "\t\t\t<tr>\n",
    "\t\t\t\t<td>Positive</td>\n",
    "\t\t\t\t<td><b>FN</b></td>\n",
    "\t\t\t\t<td><b>TP</b></td>\n",
    "\t\t\t</tr>\n",
    "\t\t</tbody>\n",
    "</table>\n",
    "\n",
    "considering Class 0 = Negative and Class 1 = Positive  in our trivial case it will become:\n",
    "\n",
    "<table>\n",
    "\t\t\t<tbody><tr>\n",
    "\t\t\t\t<td colspan=\"2\" rowspan=\"2\"></td>\n",
    "\t\t\t\t<td colspan=\"2\">Predicted</td>\t\t\t\n",
    "\t\t\t</tr>\n",
    "\t\t\t<tr>\n",
    "\t\t\t\t<td>Class 0</td>\n",
    "\t\t\t\t<td>Class 1</td>\n",
    "\t\t\t</tr>\n",
    "\t\t\t<tr>\n",
    "\t\t\t\t<td rowspan=\"2\">Actual</td>\n",
    "\t\t\t\t<td>Class 0</td>\n",
    "\t\t\t\t<td><b>2453</b></td>\n",
    "\t\t\t\t<td><b>0</b></td>\n",
    "\t\t\t</tr>\n",
    "\t\t\t<tr>\n",
    "\t\t\t\t<td>Class 1</td>\n",
    "\t\t\t\t<td><b>0</b></td>\n",
    "\t\t\t\t<td><b>1234</b></td>\n",
    "\t\t\t</tr>\n",
    "\t\t</tbody>\n",
    "</table>\n",
    "\n",
    "From confusion matrix we can calculate a number of useful metrics:\n",
    "\n",
    "* [Model evaluation in Scikit Learn](http://scikit-learn.org/stable/modules/model_evaluation.html)\n",
    "\n",
    "* [Classification metrics in Scikit Learn](http://scikit-learn.org/stable/modules/model_evaluation.html#classification-metrics)\n",
    "\n",
    "\n",
    "#### Accuracy\n",
    "$$Accuracy = \\frac{TP+TN}{TP+FP+FN+TN}$$\n",
    "How often is the classifier correct?\n",
    "\n",
    "* [Accuracy score](http://scikit-learn.org/stable/modules/generated/sklearn.metrics.accuracy_score.html)\n",
    "\n",
    "* Accuracy for binary classifiers is [Jaccard Similarity(http://scikit-learn.org/stable/modules/generated/sklearn.metrics.jaccard_similarity_score.html#sklearn.metrics.jaccard_similarity_score)\n",
    "\n",
    "\n",
    "#### True positive rate, also Sensitivity or Recall\n",
    "Out of all actual positive cases, how many do we predict as positive?\n",
    "$$ TPR = Sensitivity = Recall = \\frac{TP}{TP + FN} $$\n",
    "\n",
    "#### False positive rate\n",
    "Out of all actual negative cases, how many are predicted as positive?\n",
    "$$ FPR = \\frac{FP}{TN + FP} $$\n",
    "\n",
    "#### Specificity \n",
    "Out of all actual negative cases, how many are predicted as negative?\n",
    "$$ FPR = 1 - FRP $$\n",
    "\n",
    "#### Precision (Positive predictive value)\n",
    "Out of all predicted positive, how many are actually positive?\n",
    "$$Precision = \\frac{TP}{TP + FP}$$\n",
    "\n",
    "\n",
    "### Combinations of scores:\n",
    "\n",
    "\n",
    "#### F score ($F_1$ score, F-measure)\n",
    "\n",
    "F score is a combination of precision and recall:\n",
    "\n",
    "$$F_1 = \\frac{2TP}{2TP + FP + FN}$$\n",
    "\n",
    "\n",
    "Also consider **MCC** = Matthew’s Correlation Coefficient"
   ]
  },
  {
   "cell_type": "markdown",
   "metadata": {},
   "source": [
    "\n",
    "## For imbalanced datasets it is important to access it properly\n",
    "\n",
    "* [Imbalanced classification package](http://contrib.scikit-learn.org/imbalanced-learn/auto_examples/evaluation/plot_classification_report.html#sphx-glr-auto-examples-evaluation-plot-classification-report-py)\n",
    "\n",
    "\n",
    "#### Prevalence\n",
    "Fraction of actually positive cases in the dataset? Shows if there is any imbalance between positive and negative cases.\n",
    "$$Prevalence = \\frac{TP + FN}{TP+FP+FN+TN}$$\n",
    "\n",
    "#### Positive Predictive Value\n",
    "\n",
    "Positive Predictive Value [PPV](https://en.wikipedia.org/wiki/Positive_and_negative_predictive_values) is similar to precision but takes into account imbalance of the dataset:\n",
    "\n",
    "$$PPV = \\frac{Sensitivity * Prevalence}{Sensitivity * Prevalence + (1 - Specificity) * (1 - Prevalence)}$$\n",
    "\n",
    "Sometimes False Discovery Rate -- a complement of Positive Predictive Value is reported:\n",
    "$$ FDR = 1 - PPV $$\n"
   ]
  },
  {
   "cell_type": "markdown",
   "metadata": {},
   "source": [
    "### Prediction baseline\n",
    "\n",
    "**Null Error Rate** is a baseline metric that shows how often a classifier would be wrong if it always predicted the class with highest prevalence (be it Positive or Negative).\n",
    "\n",
    "For instance, if positive class is prevalent:\n",
    "\n",
    "$$ Null = \\frac{FP}{FP + TP} $$\n",
    "\n",
    "Or in case of majority of negative cases:\n",
    "\n",
    "$$ Null = \\frac{FN}{FN + TN} $$\n",
    "\n",
    "\n",
    "**Cohen's kappa** statistic calculates agreement between annotators [see more](http://scikit-learn.org/stable/modules/generated/sklearn.metrics.cohen_kappa_score.html)\n",
    "In principle it can be used to compare observed accuracy (of a given classifier) to expected accuracy (random chance classifier). [see example with explanations](http://epiville.ccnmtl.columbia.edu/popup/how_to_calculate_kappa.html)\n",
    "\n"
   ]
  },
  {
   "cell_type": "markdown",
   "metadata": {},
   "source": [
    "## Performance over all possible thresholds\n",
    "\n",
    "**ROC Curve**: This is a commonly used graph that summarizes the performance of a classifier over all possible thresholds. It is generated by plotting the True Positive Rate (y-axis) against the False Positive Rate (x-axis) as you vary the threshold for assigning observations to a given class.\n",
    "\n",
    "#### Receiver operating characteristic curve (ROC curve)\n",
    "\n",
    "ROC curve illustrates the performance of a binary classifier system as its *discrimination threshold* is varied by plotting True Positive rate vs False Positive rate. It can also be referred to as a Sensitivity vs (1-Specificity) plot.\n",
    "\n",
    "In order to make the plot you need to obtain a list of scores for each classified data point. They can be typically obtained with **.predict_proba()** or in some cases with **.decision_function()**.\n",
    "\n",
    "* https://en.wikipedia.org/wiki/Receiver_operating_characteristic\n",
    "* http://scikit-learn.org/stable/auto_examples/model_selection/plot_roc.html\n",
    "\n",
    "Area under ROC curve [AUC](http://scikit-learn.org/stable/modules/generated/sklearn.metrics.roc_auc_score.html#sklearn.metrics.roc_auc_score) is a quantitative characteristic of a binary classifier.\n",
    "\n",
    "In a cross-validataion setting mean and variance of ROC AUC are useful measures of classifier robustness [example](http://scikit-learn.org/stable/auto_examples/model_selection/plot_roc_crossval.html#sphx-glr-auto-examples-model-selection-plot-roc-crossval-py)\n",
    "\n",
    "#### Precision-Recall curve\n",
    "\n",
    "In some cases Precision and Recall plots are used for characterizing classifier performance as its *discrimination threshold* is varied.\n",
    "\n",
    "* http://scikit-learn.org/stable/auto_examples/model_selection/plot_precision_recall.html\n",
    "* http://scikit-learn.org/stable/modules/generated/sklearn.metrics.precision_recall_curve.html\n",
    "\n",
    "As in the case of ROC, are under Precision-Recall curve can be calculated."
   ]
  },
  {
   "cell_type": "markdown",
   "metadata": {},
   "source": [
    "### In the example below we will use digits dataset with One-vs-Rest classification strategy"
   ]
  },
  {
   "cell_type": "code",
   "execution_count": 72,
   "metadata": {},
   "outputs": [],
   "source": [
    "from itertools import cycle\n",
    "\n",
    "from sklearn import svm, datasets\n",
    "from sklearn.metrics import roc_curve, auc, precision_recall_curve, average_precision_score\n",
    "from sklearn.model_selection import train_test_split\n",
    "from sklearn.preprocessing import label_binarize\n",
    "from sklearn.multiclass import OneVsRestClassifier\n",
    "from scipy import interp\n",
    "\n",
    "# digits dataset\n",
    "digits = datasets.load_digits()\n",
    "X = digits['data']\n",
    "y = digits['target']\n",
    "\n",
    "# Binarize the output\n",
    "y_bin = label_binarize(y, classes=[0,1,2,3,4,5,6,7,8,9])\n",
    "n_classes = y_bin.shape[1]\n",
    "# now we have one binary column for each class instead of one column with many class names\n",
    "\n",
    "# shuffle and split training and test sets\n",
    "X_train, X_test, y_train, y_test = train_test_split(X, y_bin, test_size=.5)\n",
    "\n",
    "# Learn to predict each class against the other\n",
    "classifier = OneVsRestClassifier(svm.SVC(kernel='linear', probability=True))\n",
    "\n",
    "y_score = classifier.fit(X_train, y_train).decision_function(X_test)\n",
    "\n",
    "# Compute ROC curve and ROC area for each class\n",
    "fpr = {}\n",
    "tpr = {}\n",
    "roc_auc = {}\n",
    "\n",
    "precision = {}\n",
    "recall = {}\n",
    "pr_auc = {}\n",
    "\n",
    "# we calculate 10 curves, one for each class\n",
    "for i in range(n_classes):\n",
    "    # ROC:\n",
    "    fpr[i], tpr[i], _ = roc_curve(y_test[:, i], y_score[:, i])\n",
    "    roc_auc[i] = auc(fpr[i], tpr[i])\n",
    "\n",
    "    # Precision-recall:\n",
    "    precision[i], recall[i], _ = precision_recall_curve(y_test[:, i], y_score[:, i])\n",
    "    pr_auc[i] = average_precision_score(y_test[:, i], y_score[:, i])"
   ]
  },
  {
   "cell_type": "markdown",
   "metadata": {},
   "source": [
    "### Note that with One-Vs-Rest we have C models that we can evaluate"
   ]
  },
  {
   "cell_type": "code",
   "execution_count": 151,
   "metadata": {},
   "outputs": [
    {
     "data": {
      "image/png": "[encoded data removed]",
      "text/plain": [
       "<Figure size 288x288 with 1 Axes>"
      ]
     },
     "metadata": {},
     "output_type": "display_data"
    }
   ],
   "source": [
    "## Plot ROC performance for a given digit\n",
    "digit = 8\n",
    "\n",
    "plt.figure(figsize=(4,4))\n",
    "plt.plot(fpr[digit], tpr[digit], color='darkorange',\n",
    "         lw=2, label='ROC curve (area = %0.2f)' % roc_auc[digit])\n",
    "plt.plot([0, 1], [0, 1], color='navy', lw=2, linestyle='--')\n",
    "plt.xlim([0.0, 1.0])\n",
    "plt.ylim([0.0, 1.05])\n",
    "plt.xlabel('False Positive Rate (1 - Sensitivity)')\n",
    "plt.ylabel('True Positive Rate (Specificity)')\n",
    "plt.title('Receiver operating characteristic for digit ' + str(digit))\n",
    "plt.legend(loc=\"lower right\")\n",
    "plt.show()"
   ]
  },
  {
   "cell_type": "code",
   "execution_count": 152,
   "metadata": {
    "scrolled": false
   },
   "outputs": [
    {
     "data": {
      "image/png": "[encoded data removed]",
      "text/plain": [
       "<Figure size 288x288 with 1 Axes>"
      ]
     },
     "metadata": {},
     "output_type": "display_data"
    }
   ],
   "source": [
    "# Plot only one Precision-Recall curve for selected class\n",
    "digit = 8\n",
    "\n",
    "plt.figure(figsize=(4,4))\n",
    "plt.plot(recall[digit], precision[digit], color='green',\n",
    "         lw=2, label='PR curve (area = %0.2f)' % pr_auc[digit])\n",
    "plt.xlim([0.0, 1.0])\n",
    "plt.ylim([0.0, 1.05])\n",
    "plt.xlabel('Recall')\n",
    "plt.ylabel('Precision')\n",
    "plt.title('Precision-Recall for digit ' + str(digit))\n",
    "plt.legend(loc=\"lower right\")\n",
    "plt.show()"
   ]
  },
  {
   "cell_type": "markdown",
   "metadata": {},
   "source": [
    "### Let us consider an example with One-Vs-Rest linear SVM classifier for digits dataset"
   ]
  },
  {
   "cell_type": "code",
   "execution_count": 154,
   "metadata": {},
   "outputs": [],
   "source": [
    "# digits dataset\n",
    "digits = datasets.load_digits()\n",
    "X = digits['data']\n",
    "y = digits['target']\n",
    "\n",
    "# shuffle and split training and test sets\n",
    "X_train, X_test, y_train, y_test = train_test_split(X, y, test_size=.3)\n",
    "\n",
    "# Learn to predict each class against the other\n",
    "classifier = OneVsRestClassifier(SVC(kernel='linear', probability=True))\n",
    "classifier.fit(X_train, y_train)\n",
    "y_predicted = classifier.predict(X_test)"
   ]
  },
  {
   "cell_type": "markdown",
   "metadata": {},
   "source": [
    "### Confusion matrix"
   ]
  },
  {
   "cell_type": "code",
   "execution_count": 155,
   "metadata": {},
   "outputs": [
    {
     "data": {
      "text/plain": [
       "array([[55,  0,  0,  0,  0,  0,  0,  0,  0,  0],\n",
       "       [ 0, 51,  1,  1,  0,  0,  0,  1,  1,  1],\n",
       "       [ 0,  0, 54,  1,  0,  0,  0,  0,  0,  0],\n",
       "       [ 0,  0,  1, 49,  0,  1,  1,  0,  2,  0],\n",
       "       [ 0,  0,  0,  0, 53,  0,  0,  0,  0,  1],\n",
       "       [ 1,  0,  0,  0,  0, 54,  0,  1,  0,  0],\n",
       "       [ 1,  0,  1,  0,  0,  0, 53,  0,  0,  0],\n",
       "       [ 0,  1,  0,  0,  0,  0,  0, 52,  0,  2],\n",
       "       [ 0,  3,  2,  1,  1,  0,  0,  0, 43,  0],\n",
       "       [ 0,  0,  0,  0,  0,  1,  0,  0,  1, 48]])"
      ]
     },
     "execution_count": 155,
     "metadata": {},
     "output_type": "execute_result"
    }
   ],
   "source": [
    "from sklearn.metrics import confusion_matrix\n",
    "confusion_matrix(y_test, y_predicted)"
   ]
  },
  {
   "cell_type": "markdown",
   "metadata": {},
   "source": [
    "### Classification Report for multiclass case\n",
    "\n"
   ]
  },
  {
   "cell_type": "code",
   "execution_count": 95,
   "metadata": {},
   "outputs": [
    {
     "name": "stdout",
     "output_type": "stream",
     "text": [
      "              precision    recall  f1-score   support\n",
      "\n",
      "           0       0.98      1.00      0.99        61\n",
      "           1       0.98      0.86      0.92        59\n",
      "           2       0.93      0.98      0.96        65\n",
      "           3       0.90      0.90      0.90        49\n",
      "           4       0.89      1.00      0.94        50\n",
      "           5       0.91      0.95      0.93        62\n",
      "           6       0.98      0.96      0.97        48\n",
      "           7       1.00      0.94      0.97        51\n",
      "           8       0.95      0.87      0.91        45\n",
      "           9       0.92      0.94      0.93        50\n",
      "\n",
      "   micro avg       0.94      0.94      0.94       540\n",
      "   macro avg       0.94      0.94      0.94       540\n",
      "weighted avg       0.94      0.94      0.94       540\n",
      "\n"
     ]
    }
   ],
   "source": [
    "from sklearn.metrics import classification_report\n",
    "\n",
    "print(classification_report(y_test, y_predicted))"
   ]
  },
  {
   "cell_type": "markdown",
   "metadata": {},
   "source": [
    "Although here we have a balanced dataset with approx. equal support for each class, note the micro and macro averaging techniques:\n",
    "\n",
    "**\"macro\"** simply calculates the mean of the binary metrics, giving equal weight to each class. In problems where infrequent classes are nonetheless important, macro-averaging may be a means of highlighting their performance. On the other hand, the assumption that all classes are equally important is often untrue, such that macro-averaging will over-emphasize the typically low performance on an infrequent class.\n",
    "\n",
    "\n",
    "**\"weighted\"** accounts for class imbalance by computing the average of binary metrics in which each class’s score is weighted by its presence in the true data sample.\n",
    "\n",
    "\n",
    "**\"micro\"** gives each sample-class pair an equal contribution to the overall metric (except as a result of sample-weight). Rather than summing the metric per class, this sums the dividends and divisors that make up the per-class metrics to calculate an overall quotient. Micro-averaging may be preferred in multilabel settings, including multiclass classification where a majority class is to be ignored."
   ]
  },
  {
   "attachments": {},
   "cell_type": "markdown",
   "metadata": {},
   "source": [
    "## 5. Cross-Validation techniques\n",
    "\n",
    "\n",
    "Note that now class label becomes important:\n",
    "\n",
    "![](https://scikit-learn.org/stable/_images/sphx_glr_plot_cv_indices_0041.png)\n",
    "\n",
    "Compare KFold to StratifiedKFold:\n",
    "\n",
    "![](https://scikit-learn.org/stable/_images/sphx_glr_plot_cv_indices_0071.png)\n",
    "\n",
    "And compare them to GroupKFold:\n",
    "\n",
    "![](https://scikit-learn.org/stable/_images/sphx_glr_plot_cv_indices_0051.png)"
   ]
  },
  {
   "cell_type": "markdown",
   "metadata": {},
   "source": [
    "### Example: Multinomial Naive Bayes applied to multiclass problem. Evaluated with Stratified KFold cross-validation"
   ]
  },
  {
   "cell_type": "code",
   "execution_count": 157,
   "metadata": {},
   "outputs": [
    {
     "name": "stdout",
     "output_type": "stream",
     "text": [
      "{'fit_time': array([0.00130415, 0.00210595, 0.00126886, 0.00177193, 0.00131822]),\n",
      " 'score_time': array([0.00094199, 0.00149298, 0.00091386, 0.00097489, 0.00145197]),\n",
      " 'test_accuracy': array([0.88736264, 0.83425414, 0.8551532 , 0.94677871, 0.83380282]),\n",
      " 'test_f1_micro': array([0.88736264, 0.83425414, 0.8551532 , 0.94677871, 0.83380282]),\n",
      " 'train_accuracy': array([0.91416609, 0.91358885, 0.90403338, 0.89722222, 0.91747573]),\n",
      " 'train_f1_micro': array([0.91416609, 0.91358885, 0.90403338, 0.89722222, 0.91747573])}\n",
      "\n",
      "mean TRAIN accuracy:  0.91\n",
      "mean TEST  accuracy:  0.87\n"
     ]
    }
   ],
   "source": [
    "# from sklearn.metrics import f1_score, make_scorer\n",
    "from sklearn.model_selection import StratifiedKFold\n",
    "from sklearn.model_selection import cross_validate\n",
    "# import pandas as pd\n",
    "from sklearn.naive_bayes import MultinomialNB\n",
    "import pprint\n",
    "\n",
    "digits = datasets.load_digits()\n",
    "X = digits['data']\n",
    "y = digits['target']\n",
    "\n",
    "nb = MultinomialNB()\n",
    "cv = StratifiedKFold(n_splits=5)\n",
    "scores = cross_validate(nb, X, y, cv=cv,\n",
    "                         scoring=('accuracy', 'f1_micro'),\n",
    "                         return_train_score=True)\n",
    "pprint.pprint(scores)\n",
    "print()\n",
    "print('mean TRAIN accuracy: ', np.round(scores['train_accuracy'].mean(), 2))\n",
    "print('mean TEST  accuracy: ', np.round(scores['test_accuracy'].mean(), 2))"
   ]
  },
  {
   "cell_type": "markdown",
   "metadata": {},
   "source": [
    "### Optimization of hyperparameters\n",
    "\n",
    "There are recommended strategies how to train models that require hyperparameter tuning. For instance, in case of KNN classifier, k is a hyperparameter.\n",
    "\n",
    "Scikit-learn documentation covers the topic: https://scikit-learn.org/stable/modules/cross_validation.html\n",
    "\n",
    "\n",
    "<img src=\"https://scikit-learn.org/stable/_images/grid_search_workflow.png\" width=\"500\">\n",
    "\n",
    "\n",
    "If hyperparameter tuning is involved:\n",
    "\n",
    "1. evaluate performance using nested cross-validation (illustrated below)\n",
    "\n",
    "1. find optimal hyperparameters using all data (shown on the schema above)\n",
    "\n",
    "1. train model (with optimal hyperparameters) on all data (shown on the schema above)\n"
   ]
  },
  {
   "cell_type": "markdown",
   "metadata": {},
   "source": [
    "### Nested cross-validation\n",
    "\n",
    "Nested cross-validation repeats this assessment multiple times. Read \"parameters\" as \"hyperparameters\"\n",
    "\n",
    "<img src=\"https://scikit-learn.org/stable/_images/grid_search_cross_validation.png\" width=\"500\">\n",
    "    \n",
    "    "
   ]
  },
  {
   "cell_type": "code",
   "execution_count": 158,
   "metadata": {},
   "outputs": [
    {
     "data": {
      "text/plain": [
       "array([0.99175824, 0.97513812, 0.98885794, 0.98319328, 0.98028169])"
      ]
     },
     "execution_count": 158,
     "metadata": {},
     "output_type": "execute_result"
    }
   ],
   "source": [
    "from sklearn.model_selection import StratifiedKFold, ShuffleSplit, cross_val_score\n",
    "from sklearn.neighbors import KNeighborsClassifier\n",
    "\n",
    "# CV iterators\n",
    "inner_cv_iterator = ShuffleSplit(n_splits=5, random_state=10)\n",
    "outer_cv_iterator = StratifiedKFold(n_splits=5, shuffle=True, random_state=10)\n",
    "\n",
    "# Hyperparameter optimization:\n",
    "\n",
    "# (Hyper)parameter grid\n",
    "p_grid = {\n",
    "    \"n_neighbors\": [3, 5, 7, 9]\n",
    "}\n",
    "\n",
    "knn = KNeighborsClassifier()\n",
    "grid_search = GridSearchCV(estimator=knn, param_grid=p_grid, cv=inner_cv_iterator)\n",
    "cross_val_score(estimator=grid_search, X=X, y=y, cv=outer_cv_iterator, scoring='accuracy')\n"
   ]
  },
  {
   "cell_type": "markdown",
   "metadata": {},
   "source": [
    "### Finding hyperparameters and learning a model \n",
    "\n",
    "Now let us implement steps 2 and 3.\n",
    "\n",
    "We need to create a holdout dataset."
   ]
  },
  {
   "cell_type": "code",
   "execution_count": 139,
   "metadata": {
    "scrolled": true
   },
   "outputs": [
    {
     "name": "stdout",
     "output_type": "stream",
     "text": [
      "GridSearch found optimal number of neighbors: 5\n",
      "Mean CV test scores are: [0.98553144 0.98608792 0.98441848 0.98163606]\n",
      "Accuracy: 0.9888888888888889\n"
     ]
    }
   ],
   "source": [
    "from sklearn.model_selection import GridSearchCV\n",
    "from sklearn.neighbors import KNeighborsClassifier\n",
    "from sklearn.model_selection import StratifiedShuffleSplit, StratifiedKFold\n",
    "from sklearn.metrics import accuracy_score\n",
    "\n",
    "digits = datasets.load_digits()\n",
    "X = digits['data']\n",
    "y = digits['target']\n",
    "\n",
    "sss = StratifiedShuffleSplit(n_splits=1, test_size=0.1, random_state=0)\n",
    "# print(len(tuple(sss.split(X, y))))\n",
    "train_index, test_index = tuple(sss.split(X, y))[0]\n",
    "X_train, X_test = X[train_index], X[test_index]\n",
    "y_train, y_test = y[train_index], y[test_index]\n",
    "\n",
    "knn = KNeighborsClassifier()\n",
    "\n",
    "# (Hyper)parameter grid\n",
    "p_grid = {\n",
    "    \"n_neighbors\": [3, 5, 7, 9]\n",
    "}\n",
    "\n",
    "cv = StratifiedKFold(n_splits=5, shuffle=True, random_state=10)\n",
    "g = GridSearchCV(knn, p_grid, cv=cv)\n",
    "\n",
    "g.fit(X, y)\n",
    "best = g.best_params_\n",
    "cv = g.cv_results_\n",
    "\n",
    "print('GridSearch found optimal number of neighbors:', best['n_neighbors'])\n",
    "print('Mean CV test scores are:', cv['mean_test_score'])\n",
    "\n",
    "knn = KNeighborsClassifier(n_neighbors = best['n_neighbors']) \n",
    "knn.fit(X_train, y_train)\n",
    "\n",
    "print('Accuracy:', accuracy_score(y_test, knn.predict(X_test)))\n"
   ]
  }
 ],
 "metadata": {
  "anaconda-cloud": {},
  "kernelspec": {
   "display_name": "Python 3",
   "language": "python",
   "name": "python3"
  },
  "language_info": {
   "codemirror_mode": {
    "name": "ipython",
    "version": 3
   },
   "file_extension": ".py",
   "mimetype": "text/x-python",
   "name": "python",
   "nbconvert_exporter": "python",
   "pygments_lexer": "ipython3",
   "version": "3.7.0"
  }
 },
 "nbformat": 4,
 "nbformat_minor": 1
}
