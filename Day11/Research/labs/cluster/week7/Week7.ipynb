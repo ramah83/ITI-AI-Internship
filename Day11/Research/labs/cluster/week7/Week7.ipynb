{
 "cells": [
  {
   "cell_type": "markdown",
   "metadata": {
    "slideshow": {
     "slide_type": "slide"
    }
   },
   "source": [
    "## Week 7:  Unsupervised Learning\n",
    "### Clustering\n",
    "  \n",
    " "
   ]
  },
  {
   "cell_type": "markdown",
   "metadata": {},
   "source": [
    "### Unsupervised Learning\n",
    "Uncovering hidden structure from **unlabeled data**\n",
    "\n",
    "- Clustering\n",
    "- Latent (hidden) variable modeling: mixture models, factor analysis\n",
    "- Dimensionality reduction, matrix factorization and feature selection\n"
   ]
  },
  {
   "cell_type": "markdown",
   "metadata": {
    "slideshow": {
     "slide_type": "slide"
    }
   },
   "source": [
    "### Clustering\n",
    "In clustering we attempt to group observations in such a way that observations assigned to the same cluster are more similar to each other than to observations in other clusters. Usually, the number of categories (clusters) is also unknown.\n",
    "\n",
    "Although labels may be known, clustering is usually performed on unlabeled data as a step in exploratory data analysis.\n",
    "\n",
    "The best method to use will vary depending on the particular problem.\n",
    "\n",
    "Can you think of examples of clustering problems?"
   ]
  },
  {
   "cell_type": "markdown",
   "metadata": {},
   "source": [
    "### Comparison of observations\n",
    "\n",
    "\"observations assigned to the same cluster **are more similar**\". What does it mean?\n"
   ]
  },
  {
   "cell_type": "markdown",
   "metadata": {},
   "source": [
    "Minkowsky distance:  $\\left(\\sum_{i=1}^n |x_i-y_i|^p\\right)^{1/p}$\n",
    "\n",
    "for Euclidean: p=2\n",
    "\n",
    "for Manhattan: p=1"
   ]
  },
  {
   "cell_type": "code",
   "execution_count": 1,
   "metadata": {},
   "outputs": [],
   "source": [
    "import numpy as np\n",
    "import seaborn as sns\n",
    "import pandas as pd\n",
    "import matplotlib.pyplot as plt\n",
    "%matplotlib inline\n",
    "\n",
    "import scipy.spatial.distance\n",
    "from sklearn.metrics import pairwise_distances"
   ]
  },
  {
   "cell_type": "code",
   "execution_count": 2,
   "metadata": {},
   "outputs": [
    {
     "data": {
      "text/plain": [
       "(0.9320043365216344, 2.0874214459086566, 3.922291445306489, 5.077708554693511)"
      ]
     },
     "execution_count": 2,
     "metadata": {},
     "output_type": "execute_result"
    },
    {
     "data": {
      "image/png": "[encoded data removed]",
      "text/plain": [
       "<Figure size 432x288 with 1 Axes>"
      ]
     },
     "metadata": {},
     "output_type": "display_data"
    }
   ],
   "source": [
    "### Distances and similarities between data points\n",
    "X = np.array([[1, 5], \n",
    "              [2, 4]])\n",
    "\n",
    "fig = plt.figure()\n",
    "ax = fig.add_subplot(111)\n",
    "ax.patch.set_facecolor('white')\n",
    "ax.scatter(X[...,0], X[...,1], c=(\"red\", \"green\"), s=120, edgecolors='none')\n",
    "ax.set_autoscale_on(False)\n",
    "ax.axis('square')"
   ]
  },
  {
   "cell_type": "code",
   "execution_count": 3,
   "metadata": {},
   "outputs": [
    {
     "name": "stdout",
     "output_type": "stream",
     "text": [
      "Euclidean\n",
      " [[0.         1.41421356]\n",
      " [1.41421356 0.        ]]\n",
      "\n"
     ]
    }
   ],
   "source": [
    "D = pairwise_distances(X, metric = 'euclidean')\n",
    "print(\"Euclidean\\n\", D)\n",
    "print()"
   ]
  },
  {
   "cell_type": "code",
   "execution_count": 4,
   "metadata": {},
   "outputs": [
    {
     "name": "stdout",
     "output_type": "stream",
     "text": [
      "Manhattan\n",
      " [[0. 2.]\n",
      " [2. 0.]]\n"
     ]
    }
   ],
   "source": [
    "D = pairwise_distances(X, metric = 'manhattan')\n",
    "print(\"Manhattan\\n\", D)"
   ]
  },
  {
   "cell_type": "code",
   "execution_count": 5,
   "metadata": {},
   "outputs": [
    {
     "name": "stdout",
     "output_type": "stream",
     "text": [
      "Euclidean\n",
      " [[0.         4.58257569]\n",
      " [4.58257569 0.        ]]\n",
      "\n",
      "Manhattan\n",
      " [[0. 7.]\n",
      " [7. 0.]]\n",
      "\n",
      "Cosine\n",
      " [[0.         0.02196149]\n",
      " [0.02196149 0.        ]]\n",
      "\n",
      "Correlation\n",
      " [[0.         0.84445725]\n",
      " [0.84445725 0.        ]]\n"
     ]
    }
   ],
   "source": [
    "## Works the same way for 3 or higher dimensions:\n",
    "X = np.array([[6, 0.0, 1.0], \n",
    "              [2, 1, 3.0]])\n",
    "\n",
    "D = pairwise_distances(X, metric = 'euclidean')\n",
    "print(\"Euclidean\\n\", D)\n",
    "D = pairwise_distances(X, metric = 'manhattan')\n",
    "print(\"\\nManhattan\\n\", D)\n",
    "D = pairwise_distances(X + 10, metric = 'cosine')\n",
    "print(\"\\nCosine\\n\", D)\n",
    "D = pairwise_distances(X*2 + 20, metric = 'correlation')\n",
    "print(\"\\nCorrelation\\n\", D)"
   ]
  },
  {
   "cell_type": "code",
   "execution_count": 6,
   "metadata": {},
   "outputs": [
    {
     "name": "stdout",
     "output_type": "stream",
     "text": [
      "[[False False  True  True  True False False]\n",
      " [False  True  True  True False False False]]\n",
      "\n",
      "Jaccard\n",
      " [[0.  0.5]\n",
      " [0.5 0. ]]\n",
      "\n",
      "Hamming\n",
      " [[0.         0.28571429]\n",
      " [0.28571429 0.        ]]\n"
     ]
    }
   ],
   "source": [
    "## What about binary data\n",
    "binary = np.array([[0, 0, 1, 1, 1, 0, 0], \n",
    "                   [0, 1, 1, 1, 0, 0, 0]], dtype=np.bool)\n",
    "print(binary)\n",
    "D = pairwise_distances(binary, metric = 'jaccard')\n",
    "print(\"\\nJaccard\\n\", D)\n",
    "D = pairwise_distances(binary, metric = 'hamming')\n",
    "print(\"\\nHamming\\n\", D)"
   ]
  },
  {
   "cell_type": "code",
   "execution_count": null,
   "metadata": {},
   "outputs": [],
   "source": []
  },
  {
   "cell_type": "code",
   "execution_count": 7,
   "metadata": {},
   "outputs": [
    {
     "data": {
      "image/png": "[encoded data removed]",
      "text/plain": [
       "<Figure size 432x288 with 2 Axes>"
      ]
     },
     "metadata": {},
     "output_type": "display_data"
    },
    {
     "name": "stdout",
     "output_type": "stream",
     "text": [
      "Distribution of pairwise distances\n"
     ]
    },
    {
     "data": {
      "image/png": "[encoded data removed]",
      "text/plain": [
       "<Figure size 432x288 with 1 Axes>"
      ]
     },
     "metadata": {},
     "output_type": "display_data"
    }
   ],
   "source": [
    "# Synthetic datasets:\n",
    "from sklearn.datasets import make_blobs\n",
    "\n",
    "X, y = make_blobs(n_samples=30, centers=4, n_features=10, random_state=0, cluster_std=1.0)\n",
    "\n",
    "sns.heatmap(X)\n",
    "plt.show()\n",
    "\n",
    "D = pairwise_distances(X, metric='euclidean', n_jobs=-1)\n",
    "print(\"Distribution of pairwise distances\")\n",
    "plt.hist(np.hstack(D), 20, facecolor='orange', alpha=0.75)\n",
    "plt.xlabel('Pairwise distances')\n",
    "plt.ylabel('Frequency')\n",
    "plt.grid(True)\n",
    "plt.show()"
   ]
  },
  {
   "cell_type": "code",
   "execution_count": 8,
   "metadata": {},
   "outputs": [
    {
     "data": {
      "image/png": "[encoded data removed]",
      "text/plain": [
       "<Figure size 720x720 with 4 Axes>"
      ]
     },
     "metadata": {},
     "output_type": "display_data"
    }
   ],
   "source": [
    "# Clustering of data reveals its inner structure\n",
    "sns.clustermap(X)\n",
    "plt.show()"
   ]
  },
  {
   "cell_type": "markdown",
   "metadata": {},
   "source": [
    "### Different clustering algorithms implemented in scikit-learn\n",
    "\n",
    "Note the last row is completely homogeneous, however clustering algorithm still reports \"some inner structure\"\n",
    "\n",
    "![Cluster comparison](http://scikit-learn.org/0.20/_images/sphx_glr_plot_cluster_comparison_001.png)\n",
    "[Cluster comparison](http://scikit-learn.org/stable/auto_examples/cluster/plot_cluster_comparison.html)\n"
   ]
  },
  {
   "cell_type": "markdown",
   "metadata": {},
   "source": [
    "### Families of clustering algorithms\n",
    "\n",
    "All of the algorithms are \"Hard clustering\" methods: each object belongs to a cluster or not\n",
    "\n",
    "**Connectivity**: agglomerative hierarchical clustering\n",
    "\n",
    "**Centroids**: k-means, Mean Shift\n",
    "\n",
    "**Density**: DBSCAN\n",
    "\n",
    "**Distributions**: GMM (next class)\n",
    "\n",
    "**Affinity**: Affinity propagation, Spectral clustering (next classes)\n",
    "\n"
   ]
  },
  {
   "cell_type": "markdown",
   "metadata": {},
   "source": [
    "### K-means\n",
    "K-Means (most popular) algorithm. Iterative, multi-step\n",
    "\n",
    "Step 1: Choose centroids\n",
    "\n",
    "Step 2: Assign clusters\n",
    "    \n",
    "![Kmeans](https://uploads.toptal.io/blog/image/92528/toptal-blog-image-1463672901961-c86610183bb2ba67f979c421f6748893.gif)"
   ]
  },
  {
   "cell_type": "markdown",
   "metadata": {},
   "source": [
    "Repeat until convergence / max iterations\n",
    "\n",
    "![Kmeans](https://cdn-images-1.medium.com/max/1600/1*KrcZK0xYgTa4qFrVr0fO2w.gif)"
   ]
  },
  {
   "cell_type": "markdown",
   "metadata": {},
   "source": [
    "**K-means** clustering divides samples between clusters by attempting to minimize the within-cluster sum of squares. It is an iterative algorithm repeatedly updating the position of the centroids (cluster centers), re-assigning samples to the best cluster and repeating until an optimal solution is reached. The clusters will depend on the starting position of the centroids so k-means is often run multiple times with random initialization and then the best solution chosen.\n",
    "\n",
    "$$\\sum_{i=0}^{n}\\min_{\\mu_j \\in C}(||x_i - \\mu_j||^2)$$\n",
    "\n",
    "To get the sum of squared distances of samples to their cluster center:\n",
    "\n",
    "    model.inertia_\n",
    "\n",
    "Note: Inertia is comparatively meaningful, absolutely meaningless (lower is better).\n",
    "\n"
   ]
  },
  {
   "cell_type": "markdown",
   "metadata": {},
   "source": [
    "Issue: K-means can converge to a local (and not global) optima.\n",
    "    \n",
    "K-means++ algorithm:\n",
    "- Choose random data point as first centroid.\n",
    "- Choose following centroids based on distance.\n",
    "\n"
   ]
  },
  {
   "cell_type": "markdown",
   "metadata": {
    "slideshow": {
     "slide_type": "slide"
    }
   },
   "source": [
    "### Recall the Iris Dataset"
   ]
  },
  {
   "cell_type": "code",
   "execution_count": 9,
   "metadata": {
    "slideshow": {
     "slide_type": "fragment"
    }
   },
   "outputs": [],
   "source": [
    "import numpy as np\n",
    "import pandas as pd\n",
    "import matplotlib.pyplot as plt\n",
    "%matplotlib inline\n",
    "\n",
    "from sklearn import datasets\n",
    "iris = datasets.load_iris()\n",
    "\n",
    "columns = (\"sepal_length\", \"sepal_width\", \"petal_length\", \"petal_width\", \"species\")\n",
    "\n",
    "iris_4d = pd.DataFrame(data= np.c_[iris[\"data\"], iris[\"target\"]], columns=columns)\n",
    "iris_true_labels = iris_4d[\"species\"]\n",
    "iris_4d = iris_4d.drop(columns=\"species\")\n",
    "\n",
    "iris = iris_4d.drop(columns=[\"petal_width\", \"petal_length\"])\n",
    "#print(iris_4d)\n",
    "#print(iris)"
   ]
  },
  {
   "cell_type": "code",
   "execution_count": 10,
   "metadata": {
    "slideshow": {
     "slide_type": "slide"
    }
   },
   "outputs": [
    {
     "name": "stdout",
     "output_type": "stream",
     "text": [
      "[0 0 0 0 0 0 0 0 0 0 0 0 0 0 0 0 0 0 0 0 0 0 0 0 0 0 0 0 0 0 0 0 0 0 0 0 0\n",
      " 0 0 0 0 0 0 0 0 0 0 0 0 0 1 1 1 0 1 0 1 0 1 0 0 0 1 1 0 1 0 0 1 0 0 1 1 1\n",
      " 1 1 1 1 1 0 0 0 0 1 0 1 1 1 0 0 0 1 0 0 0 0 0 1 0 0 1 0 1 1 1 1 0 1 1 1 1\n",
      " 1 1 0 0 1 1 1 1 1 1 0 1 1 1 1 1 1 1 1 1 1 1 1 1 1 1 1 1 1 1 1 0 1 1 1 1 1\n",
      " 1 0]\n"
     ]
    }
   ],
   "source": [
    "from sklearn.cluster import KMeans\n",
    "\n",
    "model = KMeans(\n",
    "    n_clusters=2,\n",
    "    init='k-means++', # default, also: random\n",
    "    n_init=10, # default, also: 5, 1\n",
    "    max_iter=300, # default\n",
    "    tol=1e-4, # default\n",
    "    random_state=123124,\n",
    ")\n",
    "# model.fit(iris)\n",
    "cluster_labels = model.fit_predict(iris)\n",
    "print(cluster_labels)"
   ]
  },
  {
   "cell_type": "code",
   "execution_count": 11,
   "metadata": {
    "slideshow": {
     "slide_type": "slide"
    }
   },
   "outputs": [],
   "source": [
    "def plot_kmeans(original_data, cluster_labels, model, k):\n",
    "    \"\"\"Plot the clusters and centroids for a model trained on the Iris dataset.\"\"\"\n",
    "    # Scatter plots of each species\n",
    "    for cluster_idx in range(k):\n",
    "        plt.scatter(\n",
    "            original_data.iloc[cluster_labels == cluster_idx, 0],\n",
    "            original_data.iloc[cluster_labels == cluster_idx, 1],\n",
    "            label=\"Cluster #{}\".format(cluster_idx),\n",
    "        )\n",
    "    plt.legend()\n",
    "    #plt.scatter(original_data[cluster_labels == 1, 0], original_data[cluster_labels == 1, 1], s = 100, c = 'blue', label = 'Species 1')\n",
    "\n",
    "    # Add centroids to plot\n",
    "    plt.scatter(\n",
    "        model.cluster_centers_[:, 0],\n",
    "        model.cluster_centers_[:, 1],\n",
    "        s=100,\n",
    "        c='red',\n",
    "    )"
   ]
  },
  {
   "cell_type": "code",
   "execution_count": 12,
   "metadata": {
    "slideshow": {
     "slide_type": "slide"
    }
   },
   "outputs": [
    {
     "data": {
      "image/png": "[encoded data removed]",
      "text/plain": [
       "<Figure size 432x288 with 1 Axes>"
      ]
     },
     "metadata": {},
     "output_type": "display_data"
    }
   ],
   "source": [
    "model = KMeans(\n",
    "    n_clusters=2,\n",
    "    init=\"k-means++\", #'k-means++', # default, also: random\n",
    "    n_init=100, # default, also: 20, 5, 1\n",
    "    max_iter=100, # default / 1\n",
    ")\n",
    "model.fit(iris)\n",
    "cluster_labels = model.predict(iris)\n",
    "plot_kmeans(iris, cluster_labels, model, 2)"
   ]
  },
  {
   "cell_type": "code",
   "execution_count": 13,
   "metadata": {
    "scrolled": true,
    "slideshow": {
     "slide_type": "slide"
    }
   },
   "outputs": [
    {
     "data": {
      "image/png": "[encoded data removed]",
      "text/plain": [
       "<Figure size 432x288 with 1 Axes>"
      ]
     },
     "metadata": {},
     "output_type": "display_data"
    }
   ],
   "source": [
    "# 4-dimensional Iris dataset\n",
    "\n",
    "model = KMeans(\n",
    "    n_clusters=2,\n",
    "    init=\"random\", #'k-means++', # default, also: random\n",
    "    n_init=10, # default, also: 20, 5, 1\n",
    "    max_iter=100, # default / 1\n",
    ")\n",
    "model.fit(iris_4d)\n",
    "cluster_labels = model.predict(iris_4d)\n",
    "plot_kmeans(iris, cluster_labels, model, 2)"
   ]
  },
  {
   "attachments": {},
   "cell_type": "markdown",
   "metadata": {},
   "source": [
    "## Evaluation of clustering\n",
    "\n",
    "* How to measure success of clustering with and without true class labels?\n",
    "* How to find the optimal number of clusters?\n",
    "* Which clustering method to choose with what parameters?"
   ]
  },
  {
   "cell_type": "markdown",
   "metadata": {},
   "source": [
    "### Model evaluation\n",
    "\n",
    "Several approaches have been developed for evaluating clustering models but are generally limited in requiring the true clusters to be known. In the general use case for clustering this is not known with the goal being exploratory. \n",
    "\n",
    "Ultimately, a model is just a tool to better understand the structure of our data. If we are able to gain insight from using a clustering algorithm then it has served its purpose.\n",
    "\n",
    "Case specific: What was your goal? (e.g. ad targeting)"
   ]
  },
  {
   "cell_type": "markdown",
   "metadata": {},
   "source": [
    "[The metrics](http://scikit-learn.org/stable/modules/clustering.html#clustering-performance-evaluation) available are Adjusted Rand Index, Mutual Information based scores, Homogeneity, completeness, v-measure. All of these methods require knowledge of ground truth.\n",
    "\n",
    "Silhouette coefficient and the elbow method do not require the true clusters to be known."
   ]
  },
  {
   "cell_type": "code",
   "execution_count": 14,
   "metadata": {},
   "outputs": [
    {
     "data": {
      "text/plain": [
       "1.0"
      ]
     },
     "execution_count": 14,
     "metadata": {},
     "output_type": "execute_result"
    }
   ],
   "source": [
    "# Adjusted Rand index measures the similarity of the two assignments,\n",
    "# ignoring permutations and with chance normalization\n",
    "# -1 to 1\n",
    "# 0 = random\n",
    "# 1 = perfect\n",
    "# < 0 = independent labels (bad)\n",
    "\n",
    "from sklearn import metrics\n",
    "labels_true = [0, 0, 0, 0, 0, 0]\n",
    "labels_pred = [5, 5, 5, 5, 5, 5]\n",
    "\n",
    "metrics.adjusted_rand_score(labels_true, labels_pred)  "
   ]
  },
  {
   "cell_type": "code",
   "execution_count": 15,
   "metadata": {},
   "outputs": [
    {
     "data": {
      "text/plain": [
       "0.5399218294207123"
      ]
     },
     "execution_count": 15,
     "metadata": {},
     "output_type": "execute_result"
    }
   ],
   "source": [
    "from sklearn import metrics\n",
    "model = KMeans(n_clusters=2)  # what if K=3?\n",
    "model.fit(iris_4d)\n",
    "cluster_labels = model.predict(iris_4d)\n",
    "\n",
    "metrics.adjusted_rand_score(iris_true_labels, cluster_labels)"
   ]
  },
  {
   "cell_type": "code",
   "execution_count": 16,
   "metadata": {},
   "outputs": [
    {
     "data": {
      "text/plain": [
       "0.6538380713762779"
      ]
     },
     "execution_count": 16,
     "metadata": {},
     "output_type": "execute_result"
    }
   ],
   "source": [
    "# Mutual information measures the agreement of the two assignments, ignoring permutations.\n",
    "# Adjusted MI is normalized against chance\n",
    "# -1 to 1\n",
    "# 1 = perfect\n",
    "# 0 = random\n",
    "# <0 = bad\n",
    "\n",
    "metrics.adjusted_mutual_info_score(iris_true_labels, cluster_labels, average_method='arithmetic')"
   ]
  },
  {
   "cell_type": "code",
   "execution_count": 17,
   "metadata": {},
   "outputs": [
    {
     "data": {
      "text/plain": [
       "array([0.52, 0.88, 0.66])"
      ]
     },
     "execution_count": 17,
     "metadata": {},
     "output_type": "execute_result"
    }
   ],
   "source": [
    "# homogeneity: each cluster contains only members of a single class.\n",
    "# completeness: all members of a given class are assigned to the same cluster.\n",
    "\n",
    "# 0 to 1:  bad to perfect\n",
    "\n",
    "np.round(\n",
    "    metrics.homogeneity_completeness_v_measure(iris_true_labels, cluster_labels),\n",
    "    2)"
   ]
  },
  {
   "cell_type": "markdown",
   "metadata": {},
   "source": [
    "### How to determine number of clusters\n",
    "\n",
    "One important use for the model evaluation algorithms is in choosing the number of clusters. The clustering algorithms take as parameters either the number of clusters to partition a dataset into or other scaling factors that ultimately determine the number of clusters. It is left to the user to determine the correct value for these parameters.\n",
    "\n",
    "As the number of clusters increases the fit to the data will always improve until each point is in a cluster by itself. As such, classical optimization algorithms searching for a minimum or maximum score will not work. Often, the goal is to find an inflection point.\n",
    "\n",
    "If the cluster parameter is too low adding an additional cluster will have a large impact on the evaluation score. The gradient will be high at numbers of clusters less than the true value. If the cluster parameter is too high adding an additional cluster will have a small impact on the evaluation score. The gradient will be low at numbers of clusters higher than the true value.\n",
    "\n",
    "At the correct number of clusters the gradient should suddenly change, this is an inflection point."
   ]
  },
  {
   "cell_type": "markdown",
   "metadata": {
    "slideshow": {
     "slide_type": "slide"
    }
   },
   "source": [
    "# The Elbow Method\n",
    "\n",
    "One should choose a number of clusters so that adding another cluster doesn't give much better modeling of the data. More precisely, if one plots the percentage of variance explained by the clusters against the number of clusters, the first clusters will add much information (explain a lot of variance), but at some point the marginal gain will drop, giving an angle in the graph. The number of clusters is chosen at this point, hence the \"elbow criterion\". This \"elbow\" cannot always be unambiguously identified."
   ]
  },
  {
   "cell_type": "code",
   "execution_count": 18,
   "metadata": {
    "scrolled": true,
    "slideshow": {
     "slide_type": "slide"
    }
   },
   "outputs": [
    {
     "data": {
      "image/png": "[encoded data removed]",
      "text/plain": [
       "<Figure size 432x288 with 1 Axes>"
      ]
     },
     "metadata": {},
     "output_type": "display_data"
    }
   ],
   "source": [
    "def plot_elbow(dataset, max_clusters):\n",
    "    \"\"\"Plot elbow curve for k-means.\"\"\"\n",
    "    inertias = []\n",
    "    for i in range(1, max_clusters + 1):\n",
    "        kmeans = KMeans(n_clusters=i, random_state=768797)\n",
    "        kmeans.fit(dataset)\n",
    "        inertias.append(kmeans.inertia_)\n",
    "\n",
    "    plt.plot(range(1, max_clusters + 1), inertias)\n",
    "    plt.title(\"Elbow Plot\")\n",
    "    plt.xlabel(\"K\")\n",
    "    plt.ylabel(\"SSD\")\n",
    "\n",
    "plot_elbow(iris, 10)"
   ]
  },
  {
   "cell_type": "code",
   "execution_count": 19,
   "metadata": {
    "slideshow": {
     "slide_type": "slide"
    }
   },
   "outputs": [
    {
     "data": {
      "image/png": "[encoded data removed]",
      "text/plain": [
       "<Figure size 432x288 with 1 Axes>"
      ]
     },
     "metadata": {},
     "output_type": "display_data"
    }
   ],
   "source": [
    "model = KMeans(n_clusters=3)\n",
    "cluster_labels =model.fit_predict(iris)\n",
    "plot_kmeans(iris, cluster_labels, model, 3)"
   ]
  },
  {
   "cell_type": "code",
   "execution_count": 20,
   "metadata": {},
   "outputs": [
    {
     "data": {
      "image/png": "[encoded data removed]",
      "text/plain": [
       "<Figure size 432x288 with 1 Axes>"
      ]
     },
     "metadata": {},
     "output_type": "display_data"
    }
   ],
   "source": [
    "inertias = []\n",
    "ARIs = []\n",
    "Ks = []\n",
    "for i in range(1, 30):\n",
    "    kmeans = KMeans(n_clusters=i, random_state=768797)\n",
    "    kmeans.fit(iris)\n",
    "    labels = kmeans.predict(iris)\n",
    "    inertias.append(kmeans.inertia_)\n",
    "    ARIs.append(metrics.adjusted_rand_score(iris_true_labels, labels))\n",
    "    Ks.append(str(i))\n",
    "\n",
    "fig, ax = plt.subplots()\n",
    "ax.scatter(ARIs, inertias, s=5)\n",
    "plt.title(\"ARI vs Inertia\")\n",
    "plt.xlabel(\"ARI\")\n",
    "plt.ylabel(\"SSD\")\n",
    "\n",
    "for i, txt in enumerate(Ks):\n",
    "    ax.annotate(txt, (ARIs[i], inertias[i]))"
   ]
  },
  {
   "cell_type": "markdown",
   "metadata": {
    "slideshow": {
     "slide_type": "slide"
    }
   },
   "source": [
    "# Silhouette Coeff\n",
    "\n",
    "A higher Silhouette Coefficient score relates to a model with better defined clusters. The Silhouette Coefficient is defined for each sample and is composed of two scores:\n",
    "\n",
    "a: The mean distance between a sample and all other points in the same class.\n",
    "\n",
    "b: The mean distance between a sample and all other points in the next nearest cluster.\n",
    "\n",
    "The Silhouette Coefficient s for a single sample is then given as:\n",
    " \n",
    "$$ s = \\frac{b - a}{max(a, b)} $$\n"
   ]
  },
  {
   "cell_type": "code",
   "execution_count": 21,
   "metadata": {},
   "outputs": [],
   "source": [
    "# Showing silhouette coefficient for each sample in each\n",
    "# cluster is a powerful diagnostic tool\n",
    "from sklearn.metrics.cluster import silhouette_samples\n",
    "from sklearn.metrics.cluster import silhouette_score\n",
    "\n",
    "def plot_silhouette_diagnostics(n_clusters):\n",
    "    # Compute the silhouette scores for each sample\n",
    "    kmeans = KMeans(n_clusters=n_clusters).fit(X)\n",
    "    lbls = kmeans.labels_\n",
    "    values = silhouette_samples(X, lbls)\n",
    "\n",
    "    g, ax = plt.subplots(figsize=(8, 6))\n",
    "    color_scale = np.linspace(0, 1, n_clusters)\n",
    "    y_lower = 1\n",
    "    for i in range(n_clusters):\n",
    "        # Aggregate the silhouette scores for samples belonging to cluster i\n",
    "        v = sorted(values[lbls == i])\n",
    "        cluster_size = len(v)\n",
    "        y_upper = y_lower + cluster_size\n",
    "\n",
    "        # color mapping:\n",
    "        c = plt.cm.Set1(color_scale[i])\n",
    "        ax.fill_betweenx(np.arange(y_lower, y_upper), 0, v, facecolor=c, edgecolor=c, alpha=0.8)\n",
    "\n",
    "        # Label the silhouette plots with their cluster numbers at the middle\n",
    "        ax.text(-0.05, y_lower + 0.5 * cluster_size, str(i))\n",
    "        y_lower = y_upper + 1\n",
    "\n",
    "    ax.set_xlabel(\"Silhouette coefficient\")\n",
    "    ax.set_ylabel(\"Cluster label\")\n",
    "\n",
    "    # Red dashed line shows an average silhouette score across all samples in all clusters\n",
    "    score = silhouette_score(X, lbls, metric='l2')\n",
    "    ax.axvline(x=score, color=\"red\", linestyle=\"--\")\n",
    "    ax.set_yticks([])\n",
    "    plt.show()"
   ]
  },
  {
   "cell_type": "code",
   "execution_count": 22,
   "metadata": {},
   "outputs": [
    {
     "data": {
      "image/png": "[encoded data removed]",
      "text/plain": [
       "<Figure size 576x432 with 1 Axes>"
      ]
     },
     "metadata": {},
     "output_type": "display_data"
    }
   ],
   "source": [
    "plot_silhouette_diagnostics(2)"
   ]
  },
  {
   "cell_type": "code",
   "execution_count": 23,
   "metadata": {},
   "outputs": [
    {
     "data": {
      "image/png": "[encoded data removed]",
      "text/plain": [
       "<Figure size 576x432 with 1 Axes>"
      ]
     },
     "metadata": {},
     "output_type": "display_data"
    }
   ],
   "source": [
    "plot_silhouette_diagnostics(3)"
   ]
  },
  {
   "cell_type": "code",
   "execution_count": 24,
   "metadata": {
    "scrolled": true
   },
   "outputs": [
    {
     "data": {
      "image/png": "[encoded data removed]",
      "text/plain": [
       "<Figure size 576x432 with 1 Axes>"
      ]
     },
     "metadata": {},
     "output_type": "display_data"
    }
   ],
   "source": [
    "plot_silhouette_diagnostics(3)"
   ]
  },
  {
   "cell_type": "markdown",
   "metadata": {},
   "source": [
    "The Silhouette Coefficient for a set of samples is given as the mean of the Silhouette Coefficient for each sample.\n",
    "\n",
    "The values are in the range of -1 to 1.\n",
    "\n",
    "-1 = bad clustering \n",
    "\n",
    "1 = perfect dense clusters\n",
    "\n",
    "0 = overlapping clusters\n",
    "\n",
    "SC favors dense convex clusters and may fail in other cases."
   ]
  },
  {
   "cell_type": "code",
   "execution_count": 25,
   "metadata": {
    "scrolled": true,
    "slideshow": {
     "slide_type": "slide"
    }
   },
   "outputs": [
    {
     "data": {
      "image/png": "[encoded data removed]",
      "text/plain": [
       "<Figure size 432x288 with 1 Axes>"
      ]
     },
     "metadata": {},
     "output_type": "display_data"
    }
   ],
   "source": [
    "# Silhouette is used for assessing the performance of an unlabeled dataset\n",
    "from sklearn.metrics.cluster import silhouette_score\n",
    "\n",
    "def calc_silhouette(dataset, n):\n",
    "    \"\"\"Runs Kmeans clustering and returns average silhouette coefficient\"\"\"    \n",
    "    kmeans = KMeans(n_clusters=n).fit(dataset)\n",
    "    score = silhouette_score(dataset, kmeans.labels_)\n",
    "    return score\n",
    "\n",
    "scores = {n: calc_silhouette(iris_4d, n) for n in range(2, 10)}\n",
    "# pprint.pprint(scores)\n",
    "plt.plot(\n",
    "    list(scores.keys()),\n",
    "    list(scores.values())\n",
    ")\n",
    "\n",
    "plt.xlabel(\"Number of clusters\")\n",
    "plt.ylabel(\"Average silhouette coefficient\")\n",
    "plt.show()"
   ]
  },
  {
   "cell_type": "markdown",
   "metadata": {},
   "source": [
    "## Overview of other clustering methods"
   ]
  },
  {
   "cell_type": "markdown",
   "metadata": {},
   "source": [
    "### Mean shift\n",
    "\n",
    "Mean shift does not require the number of clusters K, which is a huge advantage!\n",
    "\n",
    "However depends on the radius parameter \"r\", it is not trivial to find it.\n",
    "\n",
    "    sklearn.cluster.MeanShift(bandwidth=None, seeds=None, bin_seeding=False, min_bin_freq=1, cluster_all=True, n_jobs=None)\n",
    "\n",
    "![](https://cdn-images-1.medium.com/max/1600/1*vyz94J_76dsVToaa4VG1Zg.gif)"
   ]
  },
  {
   "cell_type": "markdown",
   "metadata": {},
   "source": [
    "### Density-based spacial clustering (DBSCAN)\n",
    "\n",
    "Finds neighbors within a distance radius starting from random points.\n",
    "\n",
    "    sklearn.cluster.DBSCAN(eps=0.5, min_samples=5, metric=’euclidean’, metric_params=None, algorithm=’auto’, leaf_size=30, p=None, n_jobs=None)\n",
    "\n",
    "![](https://cdn-images-1.medium.com/max/1600/1*tc8UF-h0nQqUfLC8-0uInQ.gif)"
   ]
  },
  {
   "cell_type": "markdown",
   "metadata": {},
   "source": [
    "### Hierarchical clustering\n",
    "\n",
    "**Agglomerative** hierarchical clustering starts with each observation is its own cluster, and pairs are joined (by a given criteria and metric) as you go up the tree.\n",
    "\n",
    "**Metric**: Some kind of distance (Euclidean, Manhattan...)\n",
    "\n",
    "**Criteria**: Distance between sets (max, min, average) corresponds to Complete linkage, Single linkage, UPGMA. Special case is Ward linkage which corresponds to minimum increase in total within-cluster variance after merging.\n",
    "\n",
    "    sklearn.cluster.AgglomerativeClustering(n_clusters=2, affinity=’euclidean’, memory=None, connectivity=None, compute_full_tree=’auto’, linkage=’ward’, pooling_func=’deprecated’)\n",
    "\n",
    "\n",
    "![](https://cdn-images-1.medium.com/max/1600/1*ET8kCcPpr893vNZFs8j4xg.gif)"
   ]
  },
  {
   "cell_type": "code",
   "execution_count": null,
   "metadata": {},
   "outputs": [],
   "source": []
  }
 ],
 "metadata": {
  "celltoolbar": "Slideshow",
  "kernelspec": {
   "display_name": "Python 3",
   "language": "python",
   "name": "python3"
  },
  "language_info": {
   "codemirror_mode": {
    "name": "ipython",
    "version": 3
   },
   "file_extension": ".py",
   "mimetype": "text/x-python",
   "name": "python",
   "nbconvert_exporter": "python",
   "pygments_lexer": "ipython3",
   "version": "3.7.0"
  },
  "livereveal": {
   "start_slideshow_at": "selected"
  }
 },
 "nbformat": 4,
 "nbformat_minor": 2
}
